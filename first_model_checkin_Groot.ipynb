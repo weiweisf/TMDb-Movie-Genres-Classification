{
 "cells": [
  {
   "cell_type": "markdown",
   "metadata": {},
   "source": [
    "Final Project Check-in 2018-11-16\n",
    "------"
   ]
  },
  {
   "cell_type": "markdown",
   "metadata": {},
   "source": [
    "Group Name\n",
    "-----"
   ]
  },
  {
   "cell_type": "markdown",
   "metadata": {},
   "source": [
    "We are Groot"
   ]
  },
  {
   "cell_type": "markdown",
   "metadata": {},
   "source": [
    "Student Names\n",
    "----"
   ]
  },
  {
   "cell_type": "markdown",
   "metadata": {},
   "source": [
    "1. Jialiang Shi\n",
    "2. Julia Tavares\n",
    "3. Wei Wei\n",
    "4. Xiao Han\n",
    "5. Xueyin(Jessica) Wang"
   ]
  },
  {
   "cell_type": "markdown",
   "metadata": {},
   "source": [
    "Load Data\n",
    "-----"
   ]
  },
  {
   "cell_type": "code",
   "execution_count": 1,
   "metadata": {},
   "outputs": [],
   "source": [
    "import pandas as pd\n",
    "import numpy as np\n",
    "import matplotlib.pyplot as plt\n",
    "from collections import defaultdict"
   ]
  },
  {
   "cell_type": "code",
   "execution_count": 2,
   "metadata": {},
   "outputs": [],
   "source": [
    "credits = pd.read_csv('dataset/tmdb_5000_credits.csv')\n",
    "movies = pd.read_csv('dataset/tmdb_5000_movies_nonull.csv')"
   ]
  },
  {
   "cell_type": "markdown",
   "metadata": {},
   "source": [
    "### Merge two datasets using id"
   ]
  },
  {
   "cell_type": "code",
   "execution_count": 3,
   "metadata": {},
   "outputs": [],
   "source": [
    "movies_sub = movies.loc[:, [\n",
    "    'id', 'original_title', 'genres', 'keywords', 'budget']]\n",
    "credits_sub = credits.loc[:, ['movie_id', 'cast']].rename(\n",
    "    columns={'movie_id': 'id'})\n",
    "df = movies_sub.merge(credits_sub)"
   ]
  },
  {
   "cell_type": "code",
   "execution_count": 4,
   "metadata": {},
   "outputs": [],
   "source": [
    "# drop movies with no genre info\n",
    "for i, row in df.iterrows():\n",
    "    if row['genres'] == '[]':\n",
    "        df.drop(i, inplace=True)\n",
    "df = df.dropna()"
   ]
  },
  {
   "cell_type": "code",
   "execution_count": 5,
   "metadata": {},
   "outputs": [],
   "source": [
    "# All cast: # of movies\n",
    "cast_all = defaultdict(int)\n",
    "\n",
    "for item in df.cast:\n",
    "    for p in json.loads(item):\n",
    "        cast_all[p['name']] += 1"
   ]
  },
  {
   "cell_type": "code",
   "execution_count": 6,
   "metadata": {},
   "outputs": [
    {
     "data": {
      "text/html": [
       "<div>\n",
       "<style scoped>\n",
       "    .dataframe tbody tr th:only-of-type {\n",
       "        vertical-align: middle;\n",
       "    }\n",
       "\n",
       "    .dataframe tbody tr th {\n",
       "        vertical-align: top;\n",
       "    }\n",
       "\n",
       "    .dataframe thead th {\n",
       "        text-align: right;\n",
       "    }\n",
       "</style>\n",
       "<table border=\"1\" class=\"dataframe\">\n",
       "  <thead>\n",
       "    <tr style=\"text-align: right;\">\n",
       "      <th></th>\n",
       "      <th>id</th>\n",
       "      <th>original_title</th>\n",
       "      <th>genres</th>\n",
       "      <th>keywords</th>\n",
       "      <th>budget</th>\n",
       "      <th>cast</th>\n",
       "    </tr>\n",
       "  </thead>\n",
       "  <tbody>\n",
       "    <tr>\n",
       "      <th>0</th>\n",
       "      <td>19995</td>\n",
       "      <td>Avatar</td>\n",
       "      <td>[{\"id\": 28, \"name\": \"Action\"}, {\"id\": 12, \"nam...</td>\n",
       "      <td>[{\"id\": 1463, \"name\": \"culture clash\"}, {\"id\":...</td>\n",
       "      <td>237000000</td>\n",
       "      <td>[{\"cast_id\": 242, \"character\": \"Jake Sully\", \"...</td>\n",
       "    </tr>\n",
       "    <tr>\n",
       "      <th>1</th>\n",
       "      <td>285</td>\n",
       "      <td>Pirates of the Caribbean: At World's End</td>\n",
       "      <td>[{\"id\": 12, \"name\": \"Adventure\"}, {\"id\": 14, \"...</td>\n",
       "      <td>[{\"id\": 270, \"name\": \"ocean\"}, {\"id\": 726, \"na...</td>\n",
       "      <td>300000000</td>\n",
       "      <td>[{\"cast_id\": 4, \"character\": \"Captain Jack Spa...</td>\n",
       "    </tr>\n",
       "    <tr>\n",
       "      <th>2</th>\n",
       "      <td>206647</td>\n",
       "      <td>Spectre</td>\n",
       "      <td>[{\"id\": 28, \"name\": \"Action\"}, {\"id\": 12, \"nam...</td>\n",
       "      <td>[{\"id\": 470, \"name\": \"spy\"}, {\"id\": 818, \"name...</td>\n",
       "      <td>245000000</td>\n",
       "      <td>[{\"cast_id\": 1, \"character\": \"James Bond\", \"cr...</td>\n",
       "    </tr>\n",
       "    <tr>\n",
       "      <th>3</th>\n",
       "      <td>49026</td>\n",
       "      <td>The Dark Knight Rises</td>\n",
       "      <td>[{\"id\": 28, \"name\": \"Action\"}, {\"id\": 80, \"nam...</td>\n",
       "      <td>[{\"id\": 849, \"name\": \"dc comics\"}, {\"id\": 853,...</td>\n",
       "      <td>250000000</td>\n",
       "      <td>[{\"cast_id\": 2, \"character\": \"Bruce Wayne / Ba...</td>\n",
       "    </tr>\n",
       "    <tr>\n",
       "      <th>4</th>\n",
       "      <td>49529</td>\n",
       "      <td>John Carter</td>\n",
       "      <td>[{\"id\": 28, \"name\": \"Action\"}, {\"id\": 12, \"nam...</td>\n",
       "      <td>[{\"id\": 818, \"name\": \"based on novel\"}, {\"id\":...</td>\n",
       "      <td>260000000</td>\n",
       "      <td>[{\"cast_id\": 5, \"character\": \"John Carter\", \"c...</td>\n",
       "    </tr>\n",
       "  </tbody>\n",
       "</table>\n",
       "</div>"
      ],
      "text/plain": [
       "       id                            original_title  \\\n",
       "0   19995                                    Avatar   \n",
       "1     285  Pirates of the Caribbean: At World's End   \n",
       "2  206647                                   Spectre   \n",
       "3   49026                     The Dark Knight Rises   \n",
       "4   49529                               John Carter   \n",
       "\n",
       "                                              genres  \\\n",
       "0  [{\"id\": 28, \"name\": \"Action\"}, {\"id\": 12, \"nam...   \n",
       "1  [{\"id\": 12, \"name\": \"Adventure\"}, {\"id\": 14, \"...   \n",
       "2  [{\"id\": 28, \"name\": \"Action\"}, {\"id\": 12, \"nam...   \n",
       "3  [{\"id\": 28, \"name\": \"Action\"}, {\"id\": 80, \"nam...   \n",
       "4  [{\"id\": 28, \"name\": \"Action\"}, {\"id\": 12, \"nam...   \n",
       "\n",
       "                                            keywords     budget  \\\n",
       "0  [{\"id\": 1463, \"name\": \"culture clash\"}, {\"id\":...  237000000   \n",
       "1  [{\"id\": 270, \"name\": \"ocean\"}, {\"id\": 726, \"na...  300000000   \n",
       "2  [{\"id\": 470, \"name\": \"spy\"}, {\"id\": 818, \"name...  245000000   \n",
       "3  [{\"id\": 849, \"name\": \"dc comics\"}, {\"id\": 853,...  250000000   \n",
       "4  [{\"id\": 818, \"name\": \"based on novel\"}, {\"id\":...  260000000   \n",
       "\n",
       "                                                cast  \n",
       "0  [{\"cast_id\": 242, \"character\": \"Jake Sully\", \"...  \n",
       "1  [{\"cast_id\": 4, \"character\": \"Captain Jack Spa...  \n",
       "2  [{\"cast_id\": 1, \"character\": \"James Bond\", \"cr...  \n",
       "3  [{\"cast_id\": 2, \"character\": \"Bruce Wayne / Ba...  \n",
       "4  [{\"cast_id\": 5, \"character\": \"John Carter\", \"c...  "
      ]
     },
     "execution_count": 6,
     "metadata": {},
     "output_type": "execute_result"
    }
   ],
   "source": [
    "df.head(5)"
   ]
  },
  {
   "cell_type": "markdown",
   "metadata": {},
   "source": [
    "### Modify df"
   ]
  },
  {
   "cell_type": "code",
   "execution_count": 7,
   "metadata": {},
   "outputs": [],
   "source": [
    "def extract_gender(cell):\n",
    "    \"\"\"Extract cast gender\"\"\"\n",
    "    female = 0\n",
    "    male = 0\n",
    "    for item in json.loads(cell):\n",
    "        if item['gender'] == 1:\n",
    "            female += 1\n",
    "        elif item['gender'] == 2:\n",
    "            male += 1\n",
    "        else:\n",
    "            continue\n",
    "\n",
    "    return female, male\n",
    "\n",
    "\n",
    "def larger_n(col, n):\n",
    "    \"\"\"filter the column\"\"\"\n",
    "    keywords = defaultdict(int)\n",
    "    for row in df[col]:\n",
    "        for entry in row:\n",
    "            keywords[entry] += 1\n",
    "    kw_cnt = sorted(keywords.items(), key=lambda x: -x[1])\n",
    "    return [kw[0] for kw in kw_cnt if kw[1] >= n]\n",
    "\n",
    "\n",
    "def modify_df(cell):\n",
    "    \"\"\"Convert string-format json cell to list\"\"\"\n",
    "    my_list = []\n",
    "    for item in json.loads(cell):\n",
    "        my_list.append(item['name'])\n",
    "\n",
    "    return my_list\n",
    "\n",
    "\n",
    "def concat_names(cell):\n",
    "    \"\"\"Concatenate first names and last names\"\"\"\n",
    "    names = []\n",
    "    for name in cell:\n",
    "        names.append(name.replace(' ', ''))\n",
    "    return names"
   ]
  },
  {
   "cell_type": "code",
   "execution_count": 8,
   "metadata": {},
   "outputs": [],
   "source": [
    "for col_name in ['genres', 'cast', 'keywords']:\n",
    "    if col_name == 'cast':\n",
    "        gen = df[col_name].apply(extract_gender)\n",
    "        df['female_pct'] = gen.apply(lambda x: x[0]/(x[0]+x[1]+0.001))\n",
    "        df['male_pct'] = gen.apply(lambda x: x[1]/(x[0]+x[1]+0.001))\n",
    "\n",
    "    df[col_name] = df[col_name].apply(modify_df)"
   ]
  },
  {
   "cell_type": "code",
   "execution_count": 9,
   "metadata": {},
   "outputs": [],
   "source": [
    "# drop cast who has only one movie\n",
    "cast_to_remove = [key for (key, value) in cast_all.items() if value == 1]\n",
    "for i, row in df.iterrows():\n",
    "    df.at[i, 'cast'] = list(set(row.cast) - set(cast_to_remove))\n",
    "\n",
    "# concatenate first and last names\n",
    "df['cast'] = df['cast'].apply(concat_names)"
   ]
  },
  {
   "cell_type": "code",
   "execution_count": 10,
   "metadata": {},
   "outputs": [],
   "source": [
    "larger_kw = larger_n('keywords', 30)\n",
    "df['keywords'] = df['keywords'].apply(\n",
    "    lambda cell: [kw for kw in cell if kw in larger_kw])"
   ]
  },
  {
   "cell_type": "code",
   "execution_count": 11,
   "metadata": {},
   "outputs": [
    {
     "data": {
      "text/html": [
       "<div>\n",
       "<style scoped>\n",
       "    .dataframe tbody tr th:only-of-type {\n",
       "        vertical-align: middle;\n",
       "    }\n",
       "\n",
       "    .dataframe tbody tr th {\n",
       "        vertical-align: top;\n",
       "    }\n",
       "\n",
       "    .dataframe thead th {\n",
       "        text-align: right;\n",
       "    }\n",
       "</style>\n",
       "<table border=\"1\" class=\"dataframe\">\n",
       "  <thead>\n",
       "    <tr style=\"text-align: right;\">\n",
       "      <th></th>\n",
       "      <th>id</th>\n",
       "      <th>original_title</th>\n",
       "      <th>genres</th>\n",
       "      <th>keywords</th>\n",
       "      <th>budget</th>\n",
       "      <th>cast</th>\n",
       "      <th>female_pct</th>\n",
       "      <th>male_pct</th>\n",
       "    </tr>\n",
       "  </thead>\n",
       "  <tbody>\n",
       "    <tr>\n",
       "      <th>0</th>\n",
       "      <td>19995</td>\n",
       "      <td>Avatar</td>\n",
       "      <td>[Action, Adventure, Fantasy, Science Fiction]</td>\n",
       "      <td>[future, alien, soldier, battle, 3d]</td>\n",
       "      <td>237000000</td>\n",
       "      <td>[SigourneyWeaver, KevinDorman, WoodySchultz, C...</td>\n",
       "      <td>0.374988</td>\n",
       "      <td>0.624980</td>\n",
       "    </tr>\n",
       "    <tr>\n",
       "      <th>1</th>\n",
       "      <td>285</td>\n",
       "      <td>Pirates of the Caribbean: At World's End</td>\n",
       "      <td>[Adventure, Fantasy, Action]</td>\n",
       "      <td>[love of one's life, ship, aftercreditsstinger]</td>\n",
       "      <td>300000000</td>\n",
       "      <td>[VanessaBranch, KevinMcNally, PeterDonaldBadal...</td>\n",
       "      <td>0.166661</td>\n",
       "      <td>0.833306</td>\n",
       "    </tr>\n",
       "    <tr>\n",
       "      <th>2</th>\n",
       "      <td>206647</td>\n",
       "      <td>Spectre</td>\n",
       "      <td>[Action, Adventure, Crime]</td>\n",
       "      <td>[spy, based on novel, sequel]</td>\n",
       "      <td>245000000</td>\n",
       "      <td>[MonicaBellucci, DanielCraig, AndrewScott, Jes...</td>\n",
       "      <td>0.191174</td>\n",
       "      <td>0.808812</td>\n",
       "    </tr>\n",
       "    <tr>\n",
       "      <th>3</th>\n",
       "      <td>49026</td>\n",
       "      <td>The Dark Knight Rises</td>\n",
       "      <td>[Action, Crime, Drama, Thriller]</td>\n",
       "      <td>[terrorist, secret identity, superhero]</td>\n",
       "      <td>250000000</td>\n",
       "      <td>[GaryOldman, JamesQuinn, MichaelPower, AidanGi...</td>\n",
       "      <td>0.130951</td>\n",
       "      <td>0.869037</td>\n",
       "    </tr>\n",
       "    <tr>\n",
       "      <th>4</th>\n",
       "      <td>49529</td>\n",
       "      <td>John Carter</td>\n",
       "      <td>[Action, Adventure, Science Fiction]</td>\n",
       "      <td>[based on novel, alien, escape, 3d]</td>\n",
       "      <td>260000000</td>\n",
       "      <td>[JoshDaugherty, JamesEmbree, BryanCranston, Jo...</td>\n",
       "      <td>0.239990</td>\n",
       "      <td>0.759970</td>\n",
       "    </tr>\n",
       "  </tbody>\n",
       "</table>\n",
       "</div>"
      ],
      "text/plain": [
       "       id                            original_title  \\\n",
       "0   19995                                    Avatar   \n",
       "1     285  Pirates of the Caribbean: At World's End   \n",
       "2  206647                                   Spectre   \n",
       "3   49026                     The Dark Knight Rises   \n",
       "4   49529                               John Carter   \n",
       "\n",
       "                                          genres  \\\n",
       "0  [Action, Adventure, Fantasy, Science Fiction]   \n",
       "1                   [Adventure, Fantasy, Action]   \n",
       "2                     [Action, Adventure, Crime]   \n",
       "3               [Action, Crime, Drama, Thriller]   \n",
       "4           [Action, Adventure, Science Fiction]   \n",
       "\n",
       "                                          keywords     budget  \\\n",
       "0             [future, alien, soldier, battle, 3d]  237000000   \n",
       "1  [love of one's life, ship, aftercreditsstinger]  300000000   \n",
       "2                    [spy, based on novel, sequel]  245000000   \n",
       "3          [terrorist, secret identity, superhero]  250000000   \n",
       "4              [based on novel, alien, escape, 3d]  260000000   \n",
       "\n",
       "                                                cast  female_pct  male_pct  \n",
       "0  [SigourneyWeaver, KevinDorman, WoodySchultz, C...    0.374988  0.624980  \n",
       "1  [VanessaBranch, KevinMcNally, PeterDonaldBadal...    0.166661  0.833306  \n",
       "2  [MonicaBellucci, DanielCraig, AndrewScott, Jes...    0.191174  0.808812  \n",
       "3  [GaryOldman, JamesQuinn, MichaelPower, AidanGi...    0.130951  0.869037  \n",
       "4  [JoshDaugherty, JamesEmbree, BryanCranston, Jo...    0.239990  0.759970  "
      ]
     },
     "execution_count": 11,
     "metadata": {},
     "output_type": "execute_result"
    }
   ],
   "source": [
    "df.head(5)"
   ]
  },
  {
   "cell_type": "markdown",
   "metadata": {},
   "source": [
    "Fit scikit-learn model\n",
    "----"
   ]
  },
  {
   "cell_type": "markdown",
   "metadata": {},
   "source": [
    "We so far have tried two different models using \"cast + gender proportion\" and \"keywords + budget\" respectively as features."
   ]
  },
  {
   "cell_type": "markdown",
   "metadata": {},
   "source": [
    "### Cast+gender vs Genres"
   ]
  },
  {
   "cell_type": "code",
   "execution_count": 12,
   "metadata": {},
   "outputs": [],
   "source": [
    "for i, row in df.iterrows():\n",
    "    df.at[i, 'cast'] = ' '.join(row['cast'])"
   ]
  },
  {
   "cell_type": "code",
   "execution_count": 13,
   "metadata": {},
   "outputs": [],
   "source": [
    "from sklearn.feature_extraction.text import CountVectorizer\n",
    "from sklearn.naive_bayes import MultinomialNB\n",
    "from sklearn.model_selection import train_test_split"
   ]
  },
  {
   "cell_type": "code",
   "execution_count": 14,
   "metadata": {},
   "outputs": [],
   "source": [
    "# One-Hot encoding\n",
    "from sklearn.preprocessing import MultiLabelBinarizer\n",
    "\n",
    "mlb = MultiLabelBinarizer()\n",
    "mlb.fit_transform(df.genres)\n",
    "train_data, test_data, train_labels, test_labels = train_test_split(df.loc[:, ['cast', 'female_pct', 'male_pct']],\n",
    "                                                                    mlb.transform(\n",
    "                                                                        df.genres),\n",
    "                                                                    test_size=0.2, random_state=0)"
   ]
  },
  {
   "cell_type": "code",
   "execution_count": 15,
   "metadata": {},
   "outputs": [],
   "source": [
    "# Vectorization\n",
    "vectorizer = CountVectorizer(ngram_range=(1, 2))\n",
    "train_cast_vect = vectorizer.fit_transform(train_data.iloc[:, 0])\n",
    "test_cast_vect = vectorizer.transform(test_data.iloc[:, 0])\n",
    "\n",
    "train_features = np.concatenate(\n",
    "    (train_cast_vect.toarray(), np.asarray(train_data.iloc[:, 1:])), axis=1)\n",
    "test_features = np.concatenate(\n",
    "    (test_cast_vect.toarray(), np.asarray(test_data.iloc[:, 1:])), axis=1)"
   ]
  },
  {
   "cell_type": "code",
   "execution_count": 16,
   "metadata": {},
   "outputs": [],
   "source": [
    "from sklearn.multiclass import OneVsRestClassifier\n",
    "\n",
    "clf = OneVsRestClassifier(MultinomialNB())\n",
    "\n",
    "clf.fit(train_features, train_labels)\n",
    "predicted = clf.predict(test_features)"
   ]
  },
  {
   "cell_type": "markdown",
   "metadata": {},
   "source": [
    "### Keywords+budget vs Genres"
   ]
  },
  {
   "cell_type": "code",
   "execution_count": 17,
   "metadata": {},
   "outputs": [],
   "source": [
    "from sklearn.preprocessing import MultiLabelBinarizer\n",
    "\n",
    "mlb1 = MultiLabelBinarizer()\n",
    "genres_dummies = pd.DataFrame(mlb1.fit_transform(\n",
    "    df['genres']), columns=mlb1.classes_).add_prefix('genre_')\n",
    "keywords_dummies = pd.DataFrame(mlb1.fit_transform(\n",
    "    df['keywords']), columns=mlb1.classes_).add_prefix('kw_')\n",
    "df_new = pd.concat([\n",
    "    genres_dummies, keywords_dummies], axis=1)\n",
    "\n",
    "df_y = df_new.loc[:, df_new.columns.str.startswith('genre_')]\n",
    "df_X = df_new.drop(\n",
    "    df_new.columns[df_new.columns.str.startswith('genre_')], inplace=False, axis=1)"
   ]
  },
  {
   "cell_type": "code",
   "execution_count": 18,
   "metadata": {},
   "outputs": [],
   "source": [
    "from sklearn.model_selection import train_test_split\n",
    "\n",
    "train_X, test_X, train_y, test_y = train_test_split(\n",
    "    df_X, df_y, test_size=0.33, random_state=42)"
   ]
  },
  {
   "cell_type": "code",
   "execution_count": 19,
   "metadata": {},
   "outputs": [
    {
     "data": {
      "text/plain": [
       "0.07301587301587302"
      ]
     },
     "execution_count": 19,
     "metadata": {},
     "output_type": "execute_result"
    }
   ],
   "source": [
    "from skmultilearn.problem_transform import BinaryRelevance\n",
    "from sklearn.ensemble import RandomForestClassifier\n",
    "\n",
    "classifier = BinaryRelevance(RandomForestClassifier(n_estimators=10))\n",
    "classifier.fit(train_X, train_y)\n",
    "predictions = classifier.predict(test_X)\n",
    "\n",
    "accuracy_score(test_y, predictions)"
   ]
  },
  {
   "cell_type": "code",
   "execution_count": 25,
   "metadata": {},
   "outputs": [
    {
     "name": "stdout",
     "output_type": "stream",
     "text": [
      "Action: 0.7911111111111111\n",
      "Adventure: 0.8520634920634921\n",
      "Animation: 0.9473015873015873\n",
      "Comedy: 0.6673015873015873\n",
      "Crime: 0.8438095238095238\n",
      "Documentary: 0.9765079365079365\n",
      "Drama: 0.6082539682539683\n",
      "Family: 0.8926984126984127\n",
      "Fantasy: 0.9053968253968254\n",
      "Foreign: 0.9911111111111112\n",
      "History: 0.9580952380952381\n",
      "Horror: 0.8882539682539683\n",
      "Music: 0.9517460317460318\n",
      "Mystery: 0.8971428571428571\n",
      "Romance: 0.8025396825396826\n",
      "Science Fiction: 0.9123809523809524\n",
      "TV Movie: 0.9987301587301587\n",
      "Thriller: 0.7263492063492063\n",
      "War: 0.9701587301587301\n",
      "Western: 0.986031746031746\n"
     ]
    }
   ],
   "source": [
    "predictions_dense = predictions.todense()\n",
    "\n",
    "for i in range(predictions.shape[1]):\n",
    "    print('{}: {}'.format(mlb.classes_[i],\n",
    "                          accuracy_score(np.asarray(test_y)[:, i], np.asarray(predictions_dense)[:, i])))"
   ]
  },
  {
   "cell_type": "markdown",
   "metadata": {},
   "source": [
    "Evaluation Metric\n",
    "----"
   ]
  },
  {
   "cell_type": "code",
   "execution_count": 21,
   "metadata": {},
   "outputs": [],
   "source": [
    "from sklearn.metrics import accuracy_score\n",
    "from sklearn.metrics import f1_score\n",
    "from sklearn.metrics import precision_score\n",
    "from sklearn.metrics import recall_score\n",
    "from sklearn.metrics import classification_report"
   ]
  },
  {
   "cell_type": "markdown",
   "metadata": {},
   "source": [
    "### Overall accuracy, f1_score, precision, and recall"
   ]
  },
  {
   "cell_type": "code",
   "execution_count": 22,
   "metadata": {},
   "outputs": [
    {
     "name": "stdout",
     "output_type": "stream",
     "text": [
      "Subset Accuracy: 0.1382198952879581\n",
      "Global F1 score: 0.449271377508936\n",
      "Global Precision: 0.6819699499165276\n",
      "Global Recall: 0.33497334973349735\n"
     ]
    }
   ],
   "source": [
    "accuracy = accuracy_score(y_pred=predicted, y_true=np.array(test_labels))\n",
    "f1 = f1_score(y_pred=predicted, y_true=np.array(test_labels), average='micro')\n",
    "precision = precision_score(\n",
    "    y_pred=predicted, y_true=np.array(test_labels), average='micro')\n",
    "recall = recall_score(y_pred=predicted, y_true=np.array(\n",
    "    test_labels), average='micro')\n",
    "\n",
    "print(\"Subset Accuracy: {}\".format(accuracy))  # subset accuracy\n",
    "print(\"Global F1 score: {}\".format(f1))\n",
    "print(\"Global Precision: {}\".format(precision))\n",
    "print(\"Global Recall: {}\".format(recall))"
   ]
  },
  {
   "cell_type": "markdown",
   "metadata": {},
   "source": [
    "### By class: f1_score, precision, and recall"
   ]
  },
  {
   "cell_type": "markdown",
   "metadata": {},
   "source": [
    "Our goal is to predict the movie genres, so recall is more important for us. From the classification report below, we can see that only **Drama**, **Comedy**, and maybe Action as well, has relatively good recall score."
   ]
  },
  {
   "cell_type": "code",
   "execution_count": 23,
   "metadata": {},
   "outputs": [
    {
     "name": "stdout",
     "output_type": "stream",
     "text": [
      "                 precision    recall  f1-score   support\n",
      "\n",
      "         Action       0.63      0.41      0.49       213\n",
      "      Adventure       0.59      0.23      0.33       150\n",
      "      Animation       1.00      0.21      0.35        52\n",
      "         Comedy       0.75      0.63      0.68       348\n",
      "          Crime       0.71      0.07      0.13       139\n",
      "    Documentary       1.00      0.05      0.10        19\n",
      "          Drama       0.72      0.67      0.69       474\n",
      "         Family       0.82      0.24      0.37        96\n",
      "        Fantasy       0.64      0.11      0.19        82\n",
      "        Foreign       0.00      0.00      0.00         7\n",
      "        History       0.40      0.05      0.09        41\n",
      "         Horror       0.78      0.06      0.12       110\n",
      "          Music       0.50      0.03      0.06        32\n",
      "        Mystery       0.00      0.00      0.00        75\n",
      "        Romance       0.60      0.12      0.19       182\n",
      "Science Fiction       0.55      0.10      0.17       106\n",
      "       TV Movie       0.00      0.00      0.00         1\n",
      "       Thriller       0.50      0.24      0.32       266\n",
      "            War       0.00      0.00      0.00        30\n",
      "        Western       0.00      0.00      0.00        16\n",
      "\n",
      "      micro avg       0.68      0.33      0.45      2439\n",
      "      macro avg       0.51      0.16      0.22      2439\n",
      "   weighted avg       0.63      0.33      0.40      2439\n",
      "    samples avg       0.60      0.38      0.43      2439\n",
      "\n"
     ]
    },
    {
     "name": "stderr",
     "output_type": "stream",
     "text": [
      "/anaconda3/envs/ml/lib/python3.6/site-packages/sklearn/metrics/classification.py:1143: UndefinedMetricWarning: Precision and F-score are ill-defined and being set to 0.0 in labels with no predicted samples.\n",
      "  'precision', 'predicted', average, warn_for)\n",
      "/anaconda3/envs/ml/lib/python3.6/site-packages/sklearn/metrics/classification.py:1143: UndefinedMetricWarning: Precision and F-score are ill-defined and being set to 0.0 in samples with no predicted labels.\n",
      "  'precision', 'predicted', average, warn_for)\n"
     ]
    }
   ],
   "source": [
    "print(classification_report(test_labels, predicted, target_names=mlb.classes_))"
   ]
  },
  {
   "cell_type": "markdown",
   "metadata": {},
   "source": [
    "### By class: accuracy score"
   ]
  },
  {
   "cell_type": "markdown",
   "metadata": {},
   "source": [
    "Accuracy is not a good evaluation metrics for our model, especially for some of the movie genres that are not commonly seen. For example, for the \"TV Movie\" class, the accuracy score is amazingly high, 0.9989, but the reality is that we only have 8 movies labeled as \"TV Movie\" among all 4500 movies. So the accuracy scores, though they look pretty good, cannot deliver much useful information of the performance of our model."
   ]
  },
  {
   "cell_type": "code",
   "execution_count": 24,
   "metadata": {},
   "outputs": [
    {
     "name": "stdout",
     "output_type": "stream",
     "text": [
      "Action: 0.8136125654450261\n",
      "Adventure: 0.8544502617801047\n",
      "Animation: 0.9570680628272251\n",
      "Comedy: 0.7884816753926701\n",
      "Crime: 0.8607329842931937\n",
      "Documentary: 0.981151832460733\n",
      "Drama: 0.7078534031413612\n",
      "Family: 0.9183246073298429\n",
      "Fantasy: 0.9183246073298429\n",
      "Foreign: 0.9926701570680628\n",
      "History: 0.956020942408377\n",
      "Horror: 0.8900523560209425\n",
      "Music: 0.9664921465968587\n",
      "Mystery: 0.9193717277486911\n",
      "Romance: 0.8167539267015707\n",
      "Science Fiction: 0.8910994764397906\n",
      "TV Movie: 0.9989528795811519\n",
      "Thriller: 0.7225130890052356\n",
      "War: 0.9654450261780104\n",
      "Western: 0.9832460732984293\n"
     ]
    }
   ],
   "source": [
    "for i in range(predicted.shape[1]):\n",
    "    print('{}: {}'.format(mlb.classes_[i],\n",
    "                          accuracy_score(np.asarray(test_labels)[:, i], np.asarray(predicted)[:, i])))"
   ]
  }
 ],
 "metadata": {
  "kernelspec": {
   "display_name": "Python 3",
   "language": "python",
   "name": "python3"
  },
  "language_info": {
   "codemirror_mode": {
    "name": "ipython",
    "version": 3
   },
   "file_extension": ".py",
   "mimetype": "text/x-python",
   "name": "python",
   "nbconvert_exporter": "python",
   "pygments_lexer": "ipython3",
   "version": "3.6.7"
  },
  "toc": {
   "base_numbering": 1,
   "nav_menu": {},
   "number_sections": true,
   "sideBar": true,
   "skip_h1_title": false,
   "title_cell": "Table of Contents",
   "title_sidebar": "Contents",
   "toc_cell": false,
   "toc_position": {},
   "toc_section_display": true,
   "toc_window_display": true
  }
 },
 "nbformat": 4,
 "nbformat_minor": 2
}

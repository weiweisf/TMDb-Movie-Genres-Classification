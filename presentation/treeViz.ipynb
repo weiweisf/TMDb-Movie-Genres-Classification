{
 "cells": [
  {
   "cell_type": "code",
   "execution_count": 33,
   "metadata": {},
   "outputs": [],
   "source": [
    "import pandas as pd\n",
    "features = pd.read_csv(\n",
    "    '/Users/jialiang.shi/github/tmdb/dataset/features_tfidf_v2.csv')\n",
    "genres_dummies = pd.read_csv(\n",
    "    '/Users/jialiang.shi/github/tmdb/dataset/genres_dummies_tfidf_v2.csv')"
   ]
  },
  {
   "cell_type": "code",
   "execution_count": 34,
   "metadata": {},
   "outputs": [
    {
     "data": {
      "text/plain": [
       "Index(['genre_Action', 'genre_Adventure', 'genre_Animation', 'genre_Comedy',\n",
       "       'genre_Crime', 'genre_Documentary', 'genre_Drama', 'genre_Family',\n",
       "       'genre_Fantasy', 'genre_Foreign', 'genre_History', 'genre_Horror',\n",
       "       'genre_Music', 'genre_Mystery', 'genre_Romance',\n",
       "       'genre_Science Fiction', 'genre_TV Movie', 'genre_Thriller',\n",
       "       'genre_War', 'genre_Western'],\n",
       "      dtype='object')"
      ]
     },
     "execution_count": 34,
     "metadata": {},
     "output_type": "execute_result"
    }
   ],
   "source": [
    "genres_dummies.columns"
   ]
  },
  {
   "cell_type": "code",
   "execution_count": 49,
   "metadata": {},
   "outputs": [],
   "source": [
    "from sklearn.model_selection import train_test_split\n",
    "from sklearn.preprocessing import StandardScaler, MinMaxScaler\n",
    "from sklearn.datasets import *\n",
    "from sklearn import tree\n",
    "from dtreeviz.trees import *\n",
    "\n",
    "\n",
    "def split_rule(movie_type):\n",
    "    train_data, test_data, train_labels, test_labels = train_test_split(features, genres_dummies['genre_' + movie_type],\n",
    "                                                                        test_size=0.2, random_state=42)\n",
    "    scaler = MinMaxScaler()\n",
    "    train_data = scaler.fit_transform(train_data)\n",
    "    test_data = scaler.transform(test_data)\n",
    "\n",
    "    classifier = tree.DecisionTreeClassifier(\n",
    "        max_depth=5)  # limit depth of tree\n",
    "    classifier.fit(train_data, train_labels)\n",
    "\n",
    "    viz = dtreeviz(classifier,\n",
    "                   train_data,\n",
    "                   train_labels,\n",
    "                   target_name='Movie Type',\n",
    "                   feature_names=features.columns,\n",
    "                   class_names=[\"Not \" + movie_type, movie_type],\n",
    "                   fancy=False)  # fance=False to remove histograms/scatterplots from decision nodes\n",
    "\n",
    "    viz.view()"
   ]
  },
  {
   "cell_type": "code",
   "execution_count": 50,
   "metadata": {},
   "outputs": [
    {
     "name": "stderr",
     "output_type": "stream",
     "text": [
      "/anaconda3/envs/ml/lib/python3.6/site-packages/sklearn/preprocessing/data.py:323: DataConversionWarning: Data with input dtype int64, float64 were all converted to float64 by MinMaxScaler.\n",
      "  return self.partial_fit(X, y)\n"
     ]
    }
   ],
   "source": [
    "split_rule('Family')"
   ]
  },
  {
   "cell_type": "code",
   "execution_count": 55,
   "metadata": {},
   "outputs": [],
   "source": [
    "from sklearn.model_selection import train_test_split\n",
    "from sklearn.preprocessing import StandardScaler, MinMaxScaler\n",
    "\n",
    "\n",
    "def split_path(movie_type):\n",
    "    train_data, test_data, train_labels, test_labels = train_test_split(features, genres_dummies['genre_' + movie_type],\n",
    "                                                                        test_size=0.2, random_state=42)\n",
    "    scaler = MinMaxScaler()\n",
    "    train_data = scaler.fit_transform(train_data)\n",
    "    test_data = scaler.transform(test_data)\n",
    "\n",
    "    classifier = tree.DecisionTreeClassifier(\n",
    "        max_depth=3)  # limit depth of tree\n",
    "    classifier.fit(train_data, train_labels)\n",
    "    viz = dtreeviz(classifier,\n",
    "                   train_data,\n",
    "                   train_labels,\n",
    "                   target_name='Movie Type',\n",
    "                   feature_names=features.columns,\n",
    "                   # need class_names for classifier\n",
    "                   class_names=[\"Not \" + movie_type, movie_type]\n",
    "                   )\n",
    "\n",
    "    viz.view()"
   ]
  },
  {
   "cell_type": "code",
   "execution_count": 58,
   "metadata": {},
   "outputs": [
    {
     "name": "stderr",
     "output_type": "stream",
     "text": [
      "/anaconda3/envs/ml/lib/python3.6/site-packages/sklearn/preprocessing/data.py:323: DataConversionWarning: Data with input dtype int64, float64 were all converted to float64 by MinMaxScaler.\n",
      "  return self.partial_fit(X, y)\n"
     ]
    }
   ],
   "source": [
    "split_path('Drama')"
   ]
  }
 ],
 "metadata": {
  "kernelspec": {
   "display_name": "Python 3",
   "language": "python",
   "name": "python3"
  },
  "language_info": {
   "codemirror_mode": {
    "name": "ipython",
    "version": 3
   },
   "file_extension": ".py",
   "mimetype": "text/x-python",
   "name": "python",
   "nbconvert_exporter": "python",
   "pygments_lexer": "ipython3",
   "version": "3.6.7"
  }
 },
 "nbformat": 4,
 "nbformat_minor": 2
}

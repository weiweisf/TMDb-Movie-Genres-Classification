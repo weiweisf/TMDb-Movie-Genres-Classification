{
 "cells": [
  {
   "cell_type": "markdown",
   "metadata": {
    "slideshow": {
     "slide_type": "slide"
    }
   },
   "source": [
    "<center><h2>Predict Movie Genre for TMDb</h2></center>\n",
    "\n",
    "_____\n",
    "\n",
    "\n",
    "<center><img src=\"../images/image.png\" width=\"80%\"/></center>"
   ]
  },
  {
   "cell_type": "code",
   "execution_count": 15,
   "metadata": {
    "slideshow": {
     "slide_type": "skip"
    }
   },
   "outputs": [],
   "source": [
    "import itertools\n",
    "import json\n",
    "import matplotlib.pyplot as plt\n",
    "import nltk\n",
    "import numpy as np\n",
    "import os\n",
    "import pandas as pd\n",
    "import re\n",
    "import seaborn as sns\n",
    "import string\n",
    "\n",
    "from collections import defaultdict\n",
    "from gensim.models.doc2vec import Doc2Vec, TaggedDocument\n",
    "from gensim.models import Word2Vec\n",
    "from glob import glob\n",
    "from ipywidgets import interact, IntSlider\n",
    "from IPython.display import display\n",
    "from sklearn.feature_extraction.text import TfidfVectorizer\n",
    "from sklearn.feature_extraction.text import ENGLISH_STOP_WORDS\n",
    "from sklearn.preprocessing import MultiLabelBinarizer\n",
    "from nltk.stem.porter import *\n",
    "from nltk.tokenize import word_tokenize\n",
    "from tqdm import tqdm"
   ]
  },
  {
   "cell_type": "code",
   "execution_count": 16,
   "metadata": {
    "slideshow": {
     "slide_type": "skip"
    }
   },
   "outputs": [],
   "source": [
    "def freeze_header(df, num_rows=30, num_columns=10, step_rows=1,\n",
    "                  step_columns=1):\n",
    "    \"\"\"\n",
    "    Freeze the headers (column and index names) of a Pandas DataFrame. A widget\n",
    "    enables to slide through the rows and columns.\n",
    "    \"\"\"\n",
    "    @interact(last_row=IntSlider(min=min(num_rows, df.shape[0]),\n",
    "                                 max=df.shape[0],\n",
    "                                 step=step_rows,\n",
    "                                 description='rows',\n",
    "                                 readout=False,\n",
    "                                 disabled=False,\n",
    "                                 continuous_update=True,\n",
    "                                 orientation='horizontal',\n",
    "                                 slider_color='purple'),\n",
    "              last_column=IntSlider(min=min(num_columns, df.shape[1]),\n",
    "                                    max=df.shape[1],\n",
    "                                    step=step_columns,\n",
    "                                    description='columns',\n",
    "                                    readout=False,\n",
    "                                    disabled=False,\n",
    "                                    continuous_update=True,\n",
    "                                    orientation='horizontal',\n",
    "                                    slider_color='purple'))\n",
    "    def _freeze_header(last_row, last_column):\n",
    "        display(df.iloc[max(0, last_row-num_rows):last_row,\n",
    "                        max(0, last_column-num_columns):last_column])"
   ]
  },
  {
   "cell_type": "markdown",
   "metadata": {
    "slideshow": {
     "slide_type": "slide"
    }
   },
   "source": [
    "# Outline\n",
    "\n",
    "______\n",
    "\n",
    "+ Goal\n",
    "+ Introduce the dataset\n",
    "+ Feature selection and engineering\n",
    "+ Visualization Demo\n",
    "+ Models and Results"
   ]
  },
  {
   "cell_type": "markdown",
   "metadata": {
    "slideshow": {
     "slide_type": "slide"
    }
   },
   "source": [
    "# Goal\n",
    "\n",
    "______\n",
    "+ Build Multi-label Classification Model\n",
    "+ Predict movie genre for TMDB movie\n",
    "+ Auto tagging/checking movie genre\n",
    "+ Possibly fix existing problem"
   ]
  },
  {
   "cell_type": "code",
   "execution_count": 13,
   "metadata": {
    "slideshow": {
     "slide_type": "slide"
    }
   },
   "outputs": [
    {
     "data": {
      "application/vnd.jupyter.widget-view+json": {
       "model_id": "19774c61732d49ec82ed45a26d4e7698",
       "version_major": 2,
       "version_minor": 0
      },
      "text/plain": [
       "interactive(children=(IntSlider(value=5, description='rows', max=3036, min=5, readout=False), IntSlider(value=…"
      ]
     },
     "metadata": {},
     "output_type": "display_data"
    }
   ],
   "source": [
    "freeze_header(df=df_movies, num_rows=5)"
   ]
  },
  {
   "cell_type": "code",
   "execution_count": 10,
   "metadata": {
    "slideshow": {
     "slide_type": "slide"
    }
   },
   "outputs": [
    {
     "data": {
      "text/plain": [
       "[('Drama', 1801),\n",
       " ('Comedy', 1442),\n",
       " ('Thriller', 1151),\n",
       " ('Action', 1025),\n",
       " ('Romance', 726),\n",
       " ('Adventure', 720),\n",
       " ('Crime', 627),\n",
       " ('Science Fiction', 488),\n",
       " ('Horror', 470),\n",
       " ('Family', 437),\n",
       " ('Fantasy', 388),\n",
       " ('Mystery', 316),\n",
       " ('Animation', 201),\n",
       " ('History', 153),\n",
       " ('Music', 149),\n",
       " ('War', 115),\n",
       " ('Western', 69),\n",
       " ('Documentary', 56),\n",
       " ('Foreign', 14),\n",
       " ('TV Movie', 3)]"
      ]
     },
     "execution_count": 10,
     "metadata": {},
     "output_type": "execute_result"
    }
   ],
   "source": [
    "genres_list"
   ]
  },
  {
   "cell_type": "markdown",
   "metadata": {
    "slideshow": {
     "slide_type": "slide"
    }
   },
   "source": [
    "# Dataset - features and instances\n",
    "\n",
    "______\n",
    "\n",
    "Dataset: TMDB(The Movie Database) and Kaggle  \n",
    "General Info :   \n",
    "    1. cast  \n",
    "    2. budget  \n",
    "    3. overview  \n",
    "    4. production company  \n",
    "instances : 4799  \n",
    "Additional Data:   \n",
    "    1. 3440 of them have subtitles  \n",
    "    2. retrieve them with API\n",
    "        "
   ]
  },
  {
   "cell_type": "markdown",
   "metadata": {
    "slideshow": {
     "slide_type": "slide"
    }
   },
   "source": [
    "## Dataset \n",
    "\n",
    "-----\n",
    "\n",
    "    - Groud Truth is Messy\n",
    "        -- user contributed database, everyone can edit it\n",
    "        -- some movies get little attention \n",
    "        -- That's what make our work meaningful\n",
    "_____\n",
    "\n"
   ]
  },
  {
   "cell_type": "markdown",
   "metadata": {
    "slideshow": {
     "slide_type": "slide"
    }
   },
   "source": [
    "<center><img src=\"../images/edit_genres.jpg\" width=\"60%\"/></center>"
   ]
  },
  {
   "cell_type": "code",
   "execution_count": 17,
   "metadata": {
    "slideshow": {
     "slide_type": "skip"
    }
   },
   "outputs": [],
   "source": [
    "\"\"\"\n",
    "Load data\n",
    "\"\"\"\n",
    "df = pd.read_csv('dataset/tmdb_5000_movies_nonull.csv')\n",
    "df_credits = pd.read_csv('dataset/tmdb_5000_credits.csv')\n",
    "credits_sub = df_credits.loc[:, ['movie_id', 'cast']].rename(columns={\n",
    "                                                             'movie_id': 'id'})\n",
    "df = df[['id', 'budget', 'genres', 'keywords', 'original_language',\n",
    "         'overview', 'popularity', 'production_companies',\n",
    "         'production_countries', 'release_date', 'revenue', 'runtime',\n",
    "         'spoken_languages', 'tagline', 'title', 'vote_average', 'vote_count']]\n",
    "df = df.merge(credits_sub)"
   ]
  },
  {
   "cell_type": "code",
   "execution_count": 18,
   "metadata": {
    "slideshow": {
     "slide_type": "skip"
    }
   },
   "outputs": [],
   "source": [
    "\"\"\"\n",
    "Add subtitles\n",
    "\"\"\"\n",
    "with open('dataset/subtitles/subtitles.json', 'r') as f:\n",
    "    sub_dict = json.load(f)\n",
    "sub_dict = defaultdict(str, sub_dict)\n",
    "df[\"subtitles\"] = df.title.apply(\n",
    "    lambda title: \"\\n\\n\".join(sub_dict[title]))  # single string"
   ]
  },
  {
   "cell_type": "code",
   "execution_count": 19,
   "metadata": {
    "slideshow": {
     "slide_type": "skip"
    }
   },
   "outputs": [],
   "source": [
    "# drop movies with no genre info\n",
    "for i, row in df.iterrows():\n",
    "    if row['genres'] == '[]':\n",
    "        df.drop(i, inplace=True)\n",
    "df = df.dropna()\n",
    "all_genres = defaultdict(int)\n",
    "for row in df.genres:\n",
    "    for item in json.loads(row):\n",
    "        all_genres[item['name']] += 1\n",
    "genres_list = sorted(all_genres.items(), key=lambda x: x[1], reverse=True)"
   ]
  },
  {
   "cell_type": "code",
   "execution_count": 20,
   "metadata": {
    "slideshow": {
     "slide_type": "skip"
    }
   },
   "outputs": [],
   "source": [
    "def convert_list(cell):\n",
    "    \"\"\"convert the json format to a list of categories\"\"\"\n",
    "    kw_list = []\n",
    "    for kw in json.loads(cell):\n",
    "        kw_list.append(kw['name'])\n",
    "    return kw_list\n",
    "\n",
    "\n",
    "def larger_n(col, n):\n",
    "    \"\"\"filter the column\"\"\"\n",
    "    keywords = defaultdict(int)\n",
    "    for row in df[col]:\n",
    "        row = json.loads(row)\n",
    "        for entry in row:\n",
    "            keywords[entry['name']] += 1\n",
    "    kw_cnt = sorted(keywords.items(), key=lambda x: -x[1])\n",
    "    return [kw[0] for kw in kw_cnt if kw[1] >= n]\n",
    "\n",
    "\n",
    "def extract_gender(cell):\n",
    "    \"\"\"Extract cast gender\"\"\"\n",
    "    female = 0\n",
    "    male = 0\n",
    "    for item in json.loads(cell):\n",
    "        if item['gender'] == 1:\n",
    "            female += 1\n",
    "        elif item['gender'] == 2:\n",
    "            male += 1\n",
    "        else:\n",
    "            continue\n",
    "    return female, male\n",
    "\n",
    "\n",
    "def concat_names(cell):\n",
    "    \"\"\"Concatenate first names and last names\"\"\"\n",
    "    names = []\n",
    "    for name in cell:\n",
    "        names.append(name.replace(' ', ''))\n",
    "    return names\n",
    "\n",
    "\n",
    "def list2str(cell):\n",
    "    \"\"\"Convert list to string\"\"\"\n",
    "    return ' '.join(cell)\n",
    "\n",
    "\n",
    "def transform_cols(df, cols_to_transform):\n",
    "    \"\"\"Transform columns of a dataframe.\n",
    "    cols_to_transform should be a dict(col_name: filter value n)\n",
    "    \"\"\"\n",
    "    for col_name in cols_to_transform.keys():\n",
    "        larger_col = larger_n(col_name, cols_to_transform[col_name])\n",
    "        if col_name == 'cast':\n",
    "            gen = df[col_name].apply(extract_gender)\n",
    "            df['female_pct'] = gen.apply(lambda x: x[0]/(x[0]+x[1]+0.001))\n",
    "            df['male_pct'] = gen.apply(lambda x: x[1]/(x[0]+x[1]+0.001))\n",
    "\n",
    "        df[col_name] = df[col_name].apply(convert_list)\\\n",
    "            .apply(lambda cell: [kw for kw in cell if kw in larger_col])\n",
    "    return df\n",
    "\n",
    "\n",
    "def tokenize(text):\n",
    "    \"\"\"\n",
    "    A tokenizer, remove special characters punctuation and replace them with a space, stem the word\n",
    "    \"\"\"\n",
    "    text = text.lower()\n",
    "    cleanString = re.sub('[^a-zA-Z]', ' ', text)\n",
    "    words = nltk.word_tokenize(cleanString)\n",
    "    english = list(ENGLISH_STOP_WORDS)\n",
    "    goodwords = [w for w in words if w not in english]\n",
    "    stemmer = PorterStemmer()\n",
    "    stemmed = [stemmer.stem(word) for word in goodwords]\n",
    "    return stemmed"
   ]
  },
  {
   "cell_type": "code",
   "execution_count": 21,
   "metadata": {
    "slideshow": {
     "slide_type": "skip"
    }
   },
   "outputs": [],
   "source": [
    "cols_to_transform = {'keywords': 30,\n",
    "                     'genres': 0,\n",
    "                     'production_companies': 5,\n",
    "                     'production_countries': 3,\n",
    "                     'spoken_languages': 10,\n",
    "                     'cast': 2}\n",
    "\n",
    "df_movies = transform_cols(df, cols_to_transform)"
   ]
  },
  {
   "cell_type": "code",
   "execution_count": 22,
   "metadata": {
    "slideshow": {
     "slide_type": "skip"
    }
   },
   "outputs": [],
   "source": [
    "# use only movies with subtitles\n",
    "df_movies = df_movies[df_movies[\"subtitles\"] != '']\n",
    "df_movies = df_movies.reset_index(drop=True)"
   ]
  },
  {
   "cell_type": "code",
   "execution_count": 23,
   "metadata": {
    "slideshow": {
     "slide_type": "slide"
    }
   },
   "outputs": [
    {
     "data": {
      "text/html": [
       "<div>\n",
       "<style scoped>\n",
       "    .dataframe tbody tr th:only-of-type {\n",
       "        vertical-align: middle;\n",
       "    }\n",
       "\n",
       "    .dataframe tbody tr th {\n",
       "        vertical-align: top;\n",
       "    }\n",
       "\n",
       "    .dataframe thead th {\n",
       "        text-align: right;\n",
       "    }\n",
       "</style>\n",
       "<table border=\"1\" class=\"dataframe\">\n",
       "  <thead>\n",
       "    <tr style=\"text-align: right;\">\n",
       "      <th></th>\n",
       "      <th>title</th>\n",
       "      <th>release_date</th>\n",
       "      <th>genres</th>\n",
       "    </tr>\n",
       "  </thead>\n",
       "  <tbody>\n",
       "    <tr>\n",
       "      <th>120</th>\n",
       "      <td>Kung Fu Panda 2</td>\n",
       "      <td>2011-05-25</td>\n",
       "      <td>[Animation, Family]</td>\n",
       "    </tr>\n",
       "    <tr>\n",
       "      <th>134</th>\n",
       "      <td>Kung Fu Panda 3</td>\n",
       "      <td>2016-01-23</td>\n",
       "      <td>[Action, Adventure, Animation, Comedy, Family]</td>\n",
       "    </tr>\n",
       "    <tr>\n",
       "      <th>159</th>\n",
       "      <td>Kung Fu Panda</td>\n",
       "      <td>2008-06-04</td>\n",
       "      <td>[Adventure, Animation, Family, Comedy]</td>\n",
       "    </tr>\n",
       "  </tbody>\n",
       "</table>\n",
       "</div>"
      ],
      "text/plain": [
       "               title release_date  \\\n",
       "120  Kung Fu Panda 2   2011-05-25   \n",
       "134  Kung Fu Panda 3   2016-01-23   \n",
       "159    Kung Fu Panda   2008-06-04   \n",
       "\n",
       "                                             genres  \n",
       "120                             [Animation, Family]  \n",
       "134  [Action, Adventure, Animation, Comedy, Family]  \n",
       "159          [Adventure, Animation, Family, Comedy]  "
      ]
     },
     "execution_count": 23,
     "metadata": {},
     "output_type": "execute_result"
    }
   ],
   "source": [
    "# Ground Truth is messy\n",
    "df_movies[df_movies.title.str.lower()\n",
    "          .str.contains(\"kung fu panda\")][[\"title\", \"release_date\", \"genres\"]]"
   ]
  },
  {
   "cell_type": "markdown",
   "metadata": {
    "slideshow": {
     "slide_type": "skip"
    }
   },
   "source": [
    "## Dataset \n",
    "\n",
    "______\n",
    "    - Missing Data\n",
    "        -- Label Missing\n",
    "        -- Abnormal Data"
   ]
  },
  {
   "cell_type": "code",
   "execution_count": 24,
   "metadata": {
    "slideshow": {
     "slide_type": "skip"
    }
   },
   "outputs": [],
   "source": [
    "df_movies = df_movies.drop(df_movies.loc[df_movies.runtime == 0].index)"
   ]
  },
  {
   "cell_type": "code",
   "execution_count": 25,
   "metadata": {
    "slideshow": {
     "slide_type": "skip"
    }
   },
   "outputs": [],
   "source": [
    "df_movies = df_movies.reset_index(drop=True)"
   ]
  },
  {
   "cell_type": "markdown",
   "metadata": {
    "slideshow": {
     "slide_type": "slide"
    }
   },
   "source": [
    "#### Summarized data  - wordclouds\n",
    "\n",
    "\n",
    "<center><img src=\"../images/wccon.jpeg\" width=\"120%\"/></center>\n"
   ]
  },
  {
   "cell_type": "markdown",
   "metadata": {
    "slideshow": {
     "slide_type": "slide"
    }
   },
   "source": [
    "# Data processing and Feature engineering -- Text\n",
    "\n",
    "______\n",
    "\n",
    "\n",
    "\n",
    "\n",
    "NLP for overview and sub-titles\n",
    "\n",
    "+ Tokenization / Stemming\n",
    "+ TfidfVectorizer\n",
    "+ Doc2vec (Not pretrained vs Pretrained) PAINFUL\n",
    "\n",
    "\n",
    "\n"
   ]
  },
  {
   "cell_type": "markdown",
   "metadata": {
    "slideshow": {
     "slide_type": "slide"
    }
   },
   "source": [
    "## Data processing and Feature engineering -- Text\n",
    "\n",
    "______\n",
    "\n",
    "\n",
    "\n",
    "\n",
    "Tagline - do not use\n",
    "\n",
    "+ Tagline is too short for each movie, and has almost no overlap across movies\n",
    "\n",
    "Cast names -- CountVectorizer\n",
    "\n",
    "+ Concatenate Fisrt and Last Name\n",
    "\n"
   ]
  },
  {
   "cell_type": "markdown",
   "metadata": {
    "slideshow": {
     "slide_type": "slide"
    }
   },
   "source": [
    "## Data processing and Feature engineering -- Numeric\n",
    "\n",
    "______\n",
    "\n",
    "\n",
    "Budget & Revenue - predict\n",
    "+ deal with abnormal values by predict with other information\n",
    "+ For these 107 movies with less than \\\\$100 budget and more than \\\\$10000 revenue, we use `revenue + overview + popularity + release_date` to predict the actual budget.\n",
    "+ For others whose revenue are below $10000, use `overview + popularity + release_date` to predict budget"
   ]
  },
  {
   "cell_type": "markdown",
   "metadata": {
    "slideshow": {
     "slide_type": "slide"
    }
   },
   "source": [
    "## Column transformation\n",
    "\n",
    "**Steps:**  \n",
    "+ Filter columns with specific filtering values\n",
    "+ **Convert** json-format cells to list\n",
    "+ **Create feature** Extract cast gender and calculate the proportion of female cast and male cast for each movie\n",
    "\n",
    "**Other features：**\n",
    "+ Production company\n",
    "+ Popularity, Vote count -- MinMax\n",
    "+ Vote\n"
   ]
  },
  {
   "cell_type": "code",
   "execution_count": 26,
   "metadata": {
    "slideshow": {
     "slide_type": "skip"
    }
   },
   "outputs": [],
   "source": [
    "from sklearn.feature_extraction.text import TfidfVectorizer\n",
    "\n",
    "df_movies = df_movies.loc[df_movies.overview.apply(lambda x: len(x) > 10)]\n",
    "\n",
    "tfidf = TfidfVectorizer(stop_words='english', binary=True,\n",
    "                        ngram_range=(1, 2), min_df=0.001)\n",
    "overview_vec = tfidf.fit_transform(df_movies['overview'])\n",
    "\n",
    "overview = pd.DataFrame(overview_vec.toarray(),\n",
    "                        columns=tfidf.get_feature_names()).add_prefix('ov_')"
   ]
  },
  {
   "cell_type": "code",
   "execution_count": 28,
   "metadata": {
    "slideshow": {
     "slide_type": "skip"
    }
   },
   "outputs": [],
   "source": [
    "df_movies = df_movies.loc[df_movies.overview.apply(lambda x: len(x) > 10)]\n",
    "\n",
    "tfidf = TfidfVectorizer(tokenizer=tokenize, stop_words='english', binary=True,\n",
    "                        ngram_range=(1, 2), min_df=0.001)\n",
    "overview_vec = tfidf.fit_transform(df_movies['overview'])\n",
    "\n",
    "overview_docvecs = pd.DataFrame(overview_vec.toarray(\n",
    "), columns=tfidf.get_feature_names()).add_prefix('ov_')"
   ]
  },
  {
   "cell_type": "code",
   "execution_count": 29,
   "metadata": {
    "slideshow": {
     "slide_type": "skip"
    }
   },
   "outputs": [],
   "source": [
    "def text_to_words(text):\n",
    "    \"\"\"\n",
    "    remove punctuation and whitespace\n",
    "    but keep hyphens and apostrophes\n",
    "     \"\"\"\n",
    "    filtered_text = re.sub(r'[^\\w\\'\\s-]',\n",
    "                           '', text)\n",
    "    return word_tokenize(filtered_text.lower())"
   ]
  },
  {
   "cell_type": "code",
   "execution_count": 30,
   "metadata": {
    "slideshow": {
     "slide_type": "skip"
    }
   },
   "outputs": [
    {
     "name": "stdout",
     "output_type": "stream",
     "text": [
      "CPU times: user 1min 7s, sys: 493 ms, total: 1min 7s\n",
      "Wall time: 1min 7s\n"
     ]
    }
   ],
   "source": [
    "idxs = df_movies.id.tolist()\n",
    "%time sub_words = [text_to_words(text) for text in df_movies.subtitles.tolist()]\n",
    "subs = dict(zip(idxs, sub_words))"
   ]
  },
  {
   "cell_type": "code",
   "execution_count": 31,
   "metadata": {
    "slideshow": {
     "slide_type": "skip"
    }
   },
   "outputs": [
    {
     "name": "stdout",
     "output_type": "stream",
     "text": [
      "CPU times: user 274 ms, sys: 1.09 ms, total: 275 ms\n",
      "Wall time: 274 ms\n"
     ]
    }
   ],
   "source": [
    "%time tagged_data = [TaggedDocument(words=word_list, tags=[index]) for index, word_list in subs.items()]"
   ]
  },
  {
   "cell_type": "code",
   "execution_count": 32,
   "metadata": {
    "slideshow": {
     "slide_type": "skip"
    }
   },
   "outputs": [
    {
     "name": "stdout",
     "output_type": "stream",
     "text": [
      "CPU times: user 8.95 s, sys: 37.9 ms, total: 8.98 s\n",
      "Wall time: 8.99 s\n"
     ]
    }
   ],
   "source": [
    "model = Doc2Vec(vector_size=50, min_count=2, workers=4)\n",
    "%time model.build_vocab(tagged_data)"
   ]
  },
  {
   "cell_type": "code",
   "execution_count": 33,
   "metadata": {
    "slideshow": {
     "slide_type": "skip"
    }
   },
   "outputs": [
    {
     "name": "stdout",
     "output_type": "stream",
     "text": [
      "CPU times: user 2min 30s, sys: 717 ms, total: 2min 30s\n",
      "Wall time: 42.4 s\n"
     ]
    }
   ],
   "source": [
    "%time model.train(tagged_data, total_examples=model.corpus_count, epochs=model.epochs)"
   ]
  },
  {
   "cell_type": "code",
   "execution_count": 34,
   "metadata": {
    "slideshow": {
     "slide_type": "skip"
    }
   },
   "outputs": [
    {
     "name": "stdout",
     "output_type": "stream",
     "text": [
      "CPU times: user 4.96 s, sys: 19.8 ms, total: 4.98 s\n",
      "Wall time: 4.98 s\n"
     ]
    }
   ],
   "source": [
    "word2vec = Word2Vec(size=50)\n",
    "%time word2vec.build_vocab([word for text in tagged_data for word in text])"
   ]
  },
  {
   "cell_type": "code",
   "execution_count": 35,
   "metadata": {
    "slideshow": {
     "slide_type": "skip"
    }
   },
   "outputs": [
    {
     "name": "stdout",
     "output_type": "stream",
     "text": [
      "CPU times: user 11.9 s, sys: 49.1 ms, total: 12 s\n",
      "Wall time: 12 s\n"
     ]
    }
   ],
   "source": [
    "glove_path = \"dataset/glove.6B.50d.word2vec.txt\"\n",
    "%time word2vec.intersect_word2vec_format(glove_path, lockf=1.0, binary=False, encoding='utf8', unicode_errors='strict')"
   ]
  },
  {
   "cell_type": "code",
   "execution_count": 36,
   "metadata": {
    "slideshow": {
     "slide_type": "skip"
    }
   },
   "outputs": [
    {
     "name": "stdout",
     "output_type": "stream",
     "text": [
      "CPU times: user 2min 43s, sys: 959 ms, total: 2min 44s\n",
      "Wall time: 46 s\n"
     ]
    }
   ],
   "source": [
    "model_pretrained = Doc2Vec(vector_size=50, min_count=2, workers=4)\n",
    "model_pretrained.build_vocab(tagged_data)\n",
    "model_pretrained.wv = word2vec.wv\n",
    "%time model_pretrained.train(tagged_data, total_examples=model.corpus_count, epochs=model.epochs)"
   ]
  },
  {
   "cell_type": "code",
   "execution_count": 37,
   "metadata": {
    "slideshow": {
     "slide_type": "skip"
    }
   },
   "outputs": [],
   "source": [
    "def infer_docvecs(df):\n",
    "    docvecs = []\n",
    "    for index in tqdm(df.id.tolist()):\n",
    "        word_list = subs[index]\n",
    "        vec = model_pretrained.infer_vector(word_list, steps=20)\n",
    "        docvecs.append(vec)\n",
    "    docvecs = np.array(docvecs, dtype=np.float32)\n",
    "    return docvecs"
   ]
  },
  {
   "cell_type": "code",
   "execution_count": 38,
   "metadata": {
    "slideshow": {
     "slide_type": "skip"
    }
   },
   "outputs": [
    {
     "name": "stderr",
     "output_type": "stream",
     "text": [
      "100%|██████████| 3036/3036 [08:10<00:00,  6.19it/s]\n"
     ]
    },
    {
     "data": {
      "text/plain": [
       "(3036, 50)"
      ]
     },
     "execution_count": 38,
     "metadata": {},
     "output_type": "execute_result"
    }
   ],
   "source": [
    "movies_docvecs = infer_docvecs(df_movies)\n",
    "movies_docvecs.shape"
   ]
  },
  {
   "cell_type": "code",
   "execution_count": 39,
   "metadata": {
    "slideshow": {
     "slide_type": "skip"
    }
   },
   "outputs": [],
   "source": [
    "from sklearn.feature_extraction.text import CountVectorizer\n",
    "\n",
    "# concatenate names and join the list of names to a string\n",
    "df_movies['cast'] = df_movies['cast'].apply(concat_names).apply(list2str)\n",
    "\n",
    "vectorizer = CountVectorizer(ngram_range=(1, 1))\n",
    "cast_vect = vectorizer.fit_transform(df_movies['cast'])\n",
    "\n",
    "# cast = pd.DataFrame(cast_vect.todense(), columns=vectorizer.get_feature_names()).add_prefix('cast_')"
   ]
  },
  {
   "cell_type": "code",
   "execution_count": 40,
   "metadata": {
    "slideshow": {
     "slide_type": "skip"
    }
   },
   "outputs": [
    {
     "name": "stderr",
     "output_type": "stream",
     "text": [
      "/anaconda3/envs/ml/lib/python3.6/site-packages/sklearn/ensemble/forest.py:248: FutureWarning: The default value of n_estimators will change from 10 in version 0.20 to 100 in 0.22.\n",
      "  \"10 in version 0.20 to 100 in 0.22.\", FutureWarning)\n"
     ]
    }
   ],
   "source": [
    "from sklearn import ensemble\n",
    "\n",
    "\n",
    "def predict_budget1(dataset):\n",
    "    \"\"\"Predict budget of movies with less than $100 budget and more than $10000 revenue\"\"\"\n",
    "    data_p = dataset[['revenue', 'popularity', 'budget']]\n",
    "    data_p = pd.concat([data_p, overview_docvecs], axis=1)\n",
    "\n",
    "    x_train = data_p.loc[~(data_p.budget < 100) & (\n",
    "        data_p.revenue > 10000)].drop('budget', 1)\n",
    "    y_train = data_p.loc[~(data_p.budget < 100) &\n",
    "                         (data_p.revenue > 10000)]['budget']\n",
    "    x_test = data_p.loc[(data_p.budget < 100) & (\n",
    "        data_p.revenue > 10000)].drop('budget', 1)\n",
    "\n",
    "    rfr = ensemble.RandomForestRegressor(random_state=42)\n",
    "    rfr.fit(x_train, y_train)\n",
    "\n",
    "    y_test = rfr.predict(x_test)\n",
    "    return y_test\n",
    "\n",
    "\n",
    "df_movies.loc[(df_movies.budget < 100) &\n",
    "              (df_movies.revenue > 10000), 'budget'] = predict_budget1(df_movies)"
   ]
  },
  {
   "cell_type": "code",
   "execution_count": 30,
   "metadata": {
    "slideshow": {
     "slide_type": "skip"
    }
   },
   "outputs": [],
   "source": [
    "def predict_budget2(dataset):\n",
    "    \"\"\"Predict budget of movies with less than $100 budget and less than $10000 revenue\"\"\"\n",
    "    data_p = dataset[['popularity', 'budget']]\n",
    "    data_p = pd.concat([data_p, overview_docvecs], axis=1)\n",
    "\n",
    "    x_train = data_p.loc[~(data_p.budget < 100)].drop('budget', 1)\n",
    "    y_train = data_p.loc[~(data_p.budget < 100)]['budget']\n",
    "    x_test = data_p.loc[(data_p.budget < 100) & (\n",
    "        df_movies.revenue <= 10000)].drop('budget', 1)\n",
    "\n",
    "    rfr = ensemble.RandomForestRegressor(random_state=42)\n",
    "    rfr.fit(x_train, y_train)\n",
    "    y_test = rfr.predict(x_test)\n",
    "    return y_test\n",
    "\n",
    "\n",
    "df_movies.loc[(df_movies.budget < 100) & (df_movies.revenue <=\n",
    "                                          10000), 'budget'] = predict_budget2(df_movies)"
   ]
  },
  {
   "cell_type": "code",
   "execution_count": 41,
   "metadata": {
    "slideshow": {
     "slide_type": "skip"
    }
   },
   "outputs": [
    {
     "data": {
      "text/plain": [
       "[('duringcreditsstinger', 252),\n",
       " ('woman director', 182),\n",
       " ('independent film', 155),\n",
       " ('based on novel', 146),\n",
       " ('aftercreditsstinger', 138),\n",
       " ('murder', 136),\n",
       " ('violence', 111),\n",
       " ('dystopia', 109),\n",
       " ('revenge', 89),\n",
       " ('sport', 86),\n",
       " ('3d', 81),\n",
       " ('sequel', 79),\n",
       " ('friendship', 78),\n",
       " ('teenager', 74),\n",
       " ('sex', 73),\n",
       " ('musical', 70),\n",
       " ('suspense', 67),\n",
       " ('los angeles', 66),\n",
       " ('love', 63),\n",
       " ('new york', 62),\n",
       " ('high school', 62),\n",
       " ('alien', 60),\n",
       " ('superhero', 59),\n",
       " ('biography', 58),\n",
       " ('family', 54),\n",
       " ('police', 53),\n",
       " ('remake', 50),\n",
       " ('prison', 48),\n",
       " ('nudity', 48),\n",
       " ('drug', 48),\n",
       " ('based on comic book', 47),\n",
       " ('dying and death', 47),\n",
       " ('corruption', 46),\n",
       " ('serial killer', 46),\n",
       " ('airplane', 43),\n",
       " ('wedding', 43),\n",
       " ('magic', 42),\n",
       " ('father son relationship', 42),\n",
       " ('fbi', 42),\n",
       " ('friends', 41),\n",
       " ('london england', 41),\n",
       " ('daughter', 40),\n",
       " ('time travel', 40),\n",
       " ('party', 40),\n",
       " ('lawyer', 39),\n",
       " ('based on young adult novel', 38),\n",
       " ('cia', 38),\n",
       " ('brother brother relationship', 37),\n",
       " ('kidnapping', 37),\n",
       " ('suicide', 37),\n",
       " ('hospital', 36),\n",
       " ('survival', 36),\n",
       " ('investigation', 36),\n",
       " ('escape', 35),\n",
       " ('best friend', 35),\n",
       " ('vampire', 35),\n",
       " ('witch', 34),\n",
       " ('world war ii', 34),\n",
       " ('blood', 34),\n",
       " ('undercover', 33),\n",
       " ('fight', 33),\n",
       " ('christmas', 33),\n",
       " ('rescue', 33),\n",
       " ('martial arts', 33),\n",
       " ('small town', 33),\n",
       " ('marvel comic', 32),\n",
       " ('assassin', 32),\n",
       " ('flashback', 32),\n",
       " ('future', 31),\n",
       " ('conspiracy', 31),\n",
       " ('shootout', 31),\n",
       " ('female nudity', 31),\n",
       " (\"love of one's life\", 30),\n",
       " ('spy', 30),\n",
       " ('terrorist', 30),\n",
       " ('secret', 30),\n",
       " ('explosion', 30),\n",
       " ('music', 30),\n",
       " ('saving the world', 29),\n",
       " ('new love', 29),\n",
       " ('secret identity', 28),\n",
       " ('death', 28),\n",
       " ('college', 28),\n",
       " ('dream', 28),\n",
       " ('dog', 28),\n",
       " ('rape', 28),\n",
       " ('robbery', 28),\n",
       " ('new york city', 28),\n",
       " ('based on true story', 28),\n",
       " ('gore', 28),\n",
       " ('fbi agent', 28),\n",
       " ('soldier', 27),\n",
       " ('monster', 27),\n",
       " ('war', 27),\n",
       " ('zombie', 27),\n",
       " ('holiday', 27),\n",
       " ('money', 27),\n",
       " ('ghost', 27),\n",
       " ('jealousy', 27),\n",
       " ('hitman', 27),\n",
       " ('journalist', 27),\n",
       " ('detective', 27),\n",
       " ('blackmail', 27),\n",
       " ('marriage', 26),\n",
       " ('wife husband relationship', 26),\n",
       " ('competition', 26),\n",
       " ('helicopter', 26),\n",
       " ('sister sister relationship', 26),\n",
       " ('obsession', 25),\n",
       " ('alcohol', 25),\n",
       " ('usa president', 25),\n",
       " ('divorce', 25),\n",
       " ('slasher', 25),\n",
       " ('gay', 25),\n",
       " ('scientist', 24),\n",
       " ('england', 23),\n",
       " ('teacher', 23),\n",
       " ('hotel', 23),\n",
       " ('romantic comedy', 23),\n",
       " ('chase', 22),\n",
       " ('prostitute', 22),\n",
       " ('paris', 21),\n",
       " ('adultery', 21),\n",
       " ('gangster', 19)]"
      ]
     },
     "execution_count": 41,
     "metadata": {},
     "output_type": "execute_result"
    }
   ],
   "source": [
    "kw_all = defaultdict(int)\n",
    "\n",
    "for cell in df_movies.keywords:\n",
    "    for kw in cell:\n",
    "        kw_all[kw] += 1\n",
    "\n",
    "sorted(kw_all.items(), key=lambda x: x[1], reverse=True)"
   ]
  },
  {
   "cell_type": "code",
   "execution_count": 42,
   "metadata": {
    "slideshow": {
     "slide_type": "skip"
    }
   },
   "outputs": [],
   "source": [
    "from sklearn.preprocessing import MultiLabelBinarizer\n",
    "mlb = MultiLabelBinarizer()\n",
    "\n",
    "keywords_dummies = pd.DataFrame(mlb.fit_transform(\n",
    "    df_movies['keywords']), columns=mlb.classes_).add_prefix('kw_')"
   ]
  },
  {
   "cell_type": "code",
   "execution_count": 43,
   "metadata": {
    "slideshow": {
     "slide_type": "skip"
    }
   },
   "outputs": [],
   "source": [
    "prod_com = pd.DataFrame(mlb.fit_transform(\n",
    "    df_movies['production_companies']), columns=mlb.classes_).add_prefix('prodComp_')"
   ]
  },
  {
   "cell_type": "code",
   "execution_count": 44,
   "metadata": {
    "slideshow": {
     "slide_type": "skip"
    }
   },
   "outputs": [],
   "source": [
    "prod_coun = pd.DataFrame(mlb.fit_transform(\n",
    "    df_movies['production_countries']), columns=mlb.classes_).add_prefix('prodComp_')"
   ]
  },
  {
   "cell_type": "code",
   "execution_count": 45,
   "metadata": {
    "slideshow": {
     "slide_type": "skip"
    }
   },
   "outputs": [],
   "source": [
    "years = pd.get_dummies(df_movies.apply(\n",
    "    lambda row: str(row.release_date)[:3], axis=1))\n",
    "years['before97'] = years.iloc[:, :6].sum(axis=1)\n",
    "years = years.iloc[:, 6:]"
   ]
  },
  {
   "cell_type": "code",
   "execution_count": 46,
   "metadata": {
    "slideshow": {
     "slide_type": "skip"
    }
   },
   "outputs": [],
   "source": [
    "df_movies.loc[df_movies['vote_average'] == 0,\n",
    "              'vote_average'] = df_movies.loc[df_movies['vote_average'] != 0].vote_average.mean()\n",
    "df_movies.loc[df_movies['vote_count'] == 0,\n",
    "              'vote_count'] = df_movies.loc[df_movies['vote_count'] != 0].vote_count.mean()"
   ]
  },
  {
   "cell_type": "code",
   "execution_count": 47,
   "metadata": {
    "slideshow": {
     "slide_type": "skip"
    }
   },
   "outputs": [],
   "source": [
    "df_movies = df_movies.reset_index(drop=True)"
   ]
  },
  {
   "cell_type": "markdown",
   "metadata": {
    "slideshow": {
     "slide_type": "slide"
    }
   },
   "source": [
    "## Data processing/Feature engineering \n",
    "\n",
    "**In the end, we got**:\n",
    "\n",
    "\n",
    "**Features** :  \n",
    "+ **numeric**: budget, revenue, female_pct, male_pct, runtime \n",
    "+ **text(vectorized)**: keywords, overview, cast(names)\n",
    "\n",
    "**Labels**:  \n",
    "+ 20 genres, i.e., `genre_*`"
   ]
  },
  {
   "cell_type": "code",
   "execution_count": 48,
   "metadata": {
    "slideshow": {
     "slide_type": "skip"
    }
   },
   "outputs": [],
   "source": [
    "from sklearn.preprocessing import MultiLabelBinarizer\n",
    "\n",
    "mlb = MultiLabelBinarizer()\n",
    "genres_dummies = pd.DataFrame(mlb.fit_transform(\n",
    "    df_movies['genres']), columns=mlb.classes_).add_prefix('genre_')"
   ]
  },
  {
   "cell_type": "code",
   "execution_count": 49,
   "metadata": {
    "slideshow": {
     "slide_type": "skip"
    }
   },
   "outputs": [],
   "source": [
    "movies_docvecs = pd.DataFrame(movies_docvecs)\n",
    "features = pd.concat((df_movies.loc[:, ['budget', 'revenue', 'female_pct', 'male_pct', 'runtime',\n",
    "                                        'vote_average', 'vote_count']],\n",
    "                      keywords_dummies, prod_com, prod_coun, years, movies_docvecs, pd.DataFrame(overview_docvecs)), axis=1)"
   ]
  },
  {
   "cell_type": "code",
   "execution_count": 50,
   "metadata": {
    "scrolled": true,
    "slideshow": {
     "slide_type": "slide"
    }
   },
   "outputs": [
    {
     "data": {
      "application/vnd.jupyter.widget-view+json": {
       "model_id": "c35d9b17294a461f87ad8a8ad40764d6",
       "version_major": 2,
       "version_minor": 0
      },
      "text/plain": [
       "interactive(children=(IntSlider(value=5, description='rows', max=3036, min=5, readout=False), IntSlider(value=…"
      ]
     },
     "metadata": {},
     "output_type": "display_data"
    }
   ],
   "source": [
    "# We did MinMax Normalization after this\n",
    "freeze_header(df=features, num_rows=5)"
   ]
  },
  {
   "cell_type": "markdown",
   "metadata": {
    "slideshow": {
     "slide_type": "slide"
    }
   },
   "source": [
    "# Decision Tree Visualization Demo"
   ]
  },
  {
   "cell_type": "markdown",
   "metadata": {
    "slideshow": {
     "slide_type": "slide"
    }
   },
   "source": [
    "## How to deal with subtitle features\n",
    "\n",
    "\n",
    "\n",
    "**Tfidf** :  \n",
    "+ Calculate tfidf score for the unique subtitle for each movie, sparse features\n",
    "\n",
    "**Doc2vec(50d)**:  \n",
    "+ Document version of word2vec"
   ]
  },
  {
   "cell_type": "markdown",
   "metadata": {
    "slideshow": {
     "slide_type": "slide"
    }
   },
   "source": [
    "# Workflow\n",
    "\n",
    "Train-test split: We used two ways to split the train/test data, the first one is by random 80/20 and the second one is by release_date\n",
    "\n",
    "Pipeline: Data Processing + NLP on overview and subtitles + Standardization\n",
    "\n",
    "Grid Search: \n",
    "+ Tfidf works better with MultinomialNB, they behave better in terms of Recall and F1 score\n",
    "+ Doc2Vec works better with RandomForest, they behave better in terms of Precision and Hamming Loss"
   ]
  },
  {
   "cell_type": "markdown",
   "metadata": {
    "slideshow": {
     "slide_type": "slide"
    }
   },
   "source": [
    "<center><h2>MultinomialNB Model Performance</h2></center>\n",
    "\n",
    "_____\n",
    "\n",
    "\n",
    "<center><img src=\"../images/1.png\" width=\"100%\"/></center>"
   ]
  },
  {
   "cell_type": "markdown",
   "metadata": {
    "slideshow": {
     "slide_type": "slide"
    }
   },
   "source": [
    "<center><h2>Random Forest Model Performance</h2></center>\n",
    "\n",
    "_____\n",
    "\n",
    "\n",
    "<center><img src=\"../images/2.png\" width=\"100%\"/></center>"
   ]
  },
  {
   "cell_type": "markdown",
   "metadata": {
    "slideshow": {
     "slide_type": "slide"
    }
   },
   "source": [
    "<center><h2>Model Comparison</h2></center>\n",
    "\n",
    "_____\n",
    "\n",
    "\n",
    "<center><img src=\"../images/Comparison.png\" width=\"45%\"/></center>"
   ]
  },
  {
   "cell_type": "markdown",
   "metadata": {
    "slideshow": {
     "slide_type": "slide"
    }
   },
   "source": [
    "# Summary\n",
    "______\n",
    "\n",
    "+ Goal: auto tagging/chencking the Genre\n",
    "+ Build multi-label classification model\n",
    "+ Tfidf works better with MultinomialNB, they behave better in terms of Recall and F1 score\n",
    "+ Doc2Vec works better with RandomForest, they behave better in terms of Precision and Hamming Loss\n",
    "    "
   ]
  },
  {
   "cell_type": "markdown",
   "metadata": {
    "slideshow": {
     "slide_type": "slide"
    }
   },
   "source": [
    "# Q&A"
   ]
  }
 ],
 "metadata": {
  "celltoolbar": "Slideshow",
  "kernelspec": {
   "display_name": "Python 3",
   "language": "python",
   "name": "python3"
  },
  "language_info": {
   "codemirror_mode": {
    "name": "ipython",
    "version": 3
   },
   "file_extension": ".py",
   "mimetype": "text/x-python",
   "name": "python",
   "nbconvert_exporter": "python",
   "pygments_lexer": "ipython3",
   "version": "3.6.7"
  },
  "toc": {
   "base_numbering": 1,
   "nav_menu": {},
   "number_sections": true,
   "sideBar": true,
   "skip_h1_title": false,
   "title_cell": "Table of Contents",
   "title_sidebar": "Contents",
   "toc_cell": false,
   "toc_position": {},
   "toc_section_display": true,
   "toc_window_display": false
  }
 },
 "nbformat": 4,
 "nbformat_minor": 2
}

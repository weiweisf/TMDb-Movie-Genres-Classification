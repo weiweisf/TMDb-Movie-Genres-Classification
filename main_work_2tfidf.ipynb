{
 "cells": [
  {
   "cell_type": "code",
   "execution_count": 1,
   "metadata": {
    "ExecuteTime": {
     "end_time": "2018-12-06T22:52:03.876702Z",
     "start_time": "2018-12-06T22:52:01.437638Z"
    }
   },
   "outputs": [],
   "source": [
    "import pandas as pd\n",
    "import numpy as np\n",
    "import matplotlib.pyplot as plt\n",
    "import seaborn as sns\n",
    "\n",
    "from glob import glob\n",
    "import os\n",
    "import json\n",
    "import re\n",
    "from collections import defaultdict\n",
    "import itertools\n",
    "\n",
    "from gensim.models.doc2vec import Doc2Vec, TaggedDocument\n",
    "from gensim.models import Word2Vec\n",
    "from nltk.tokenize import word_tokenize\n",
    "from tqdm import tqdm\n",
    "import datetime"
   ]
  },
  {
   "cell_type": "markdown",
   "metadata": {},
   "source": [
    "# Data pre-processing"
   ]
  },
  {
   "cell_type": "code",
   "execution_count": 2,
   "metadata": {
    "ExecuteTime": {
     "end_time": "2018-12-06T22:52:03.881060Z",
     "start_time": "2018-12-06T22:52:03.879048Z"
    }
   },
   "outputs": [],
   "source": [
    "# df_movies = pd.read_csv('dataset/tmdb_5000_movies.csv')\n",
    "# df_movies = df_movies.dropna(subset=['overview', 'release_date', 'runtime'])\n",
    "# df_movies.isnull().sum()\n",
    "# df_movies.to_csv(\"dataset/tmdb_5000_movies_nonull.csv\")"
   ]
  },
  {
   "cell_type": "markdown",
   "metadata": {},
   "source": [
    "## Load two datasets and merge them by movie_id"
   ]
  },
  {
   "cell_type": "code",
   "execution_count": 3,
   "metadata": {
    "ExecuteTime": {
     "end_time": "2018-12-06T22:52:04.443230Z",
     "start_time": "2018-12-06T22:52:03.883069Z"
    },
    "scrolled": true
   },
   "outputs": [],
   "source": [
    "df = pd.read_csv('dataset/tmdb_5000_movies_nonull.csv')\n",
    "# df_movies.loc[:,['id', 'keywords', 'genres', 'title']]\n",
    "df_credits = pd.read_csv('dataset/tmdb_5000_credits.csv')\n",
    "credits_sub = df_credits.loc[:, ['movie_id', 'cast']].rename(columns={\n",
    "                                                             'movie_id': 'id'})\n",
    "\n",
    "df = df[['id', 'budget', 'genres', 'keywords', 'original_language',\n",
    "         'overview', 'popularity', 'production_companies',\n",
    "         'production_countries', 'release_date', 'revenue', 'runtime',\n",
    "         'spoken_languages', 'tagline', 'title', 'vote_average', 'vote_count']]\n",
    "df = df.merge(credits_sub)\n",
    "\n",
    "# df.sort_values(by='release_date', ascending=False).head(10)"
   ]
  },
  {
   "cell_type": "code",
   "execution_count": 4,
   "metadata": {
    "ExecuteTime": {
     "end_time": "2018-12-06T22:52:04.451664Z",
     "start_time": "2018-12-06T22:52:04.446697Z"
    }
   },
   "outputs": [
    {
     "data": {
      "text/plain": [
       "(4799, 18)"
      ]
     },
     "execution_count": 4,
     "metadata": {},
     "output_type": "execute_result"
    }
   ],
   "source": [
    "df.shape"
   ]
  },
  {
   "cell_type": "markdown",
   "metadata": {},
   "source": [
    "## Add subtitles (US movies only)"
   ]
  },
  {
   "cell_type": "code",
   "execution_count": 5,
   "metadata": {
    "ExecuteTime": {
     "end_time": "2018-12-06T22:52:06.717299Z",
     "start_time": "2018-12-06T22:52:04.454801Z"
    }
   },
   "outputs": [],
   "source": [
    "with open('dataset/subtitles/subtitles.json', 'r') as f:\n",
    "    sub_dict = json.load(f)\n",
    "sub_dict = defaultdict(str, sub_dict)"
   ]
  },
  {
   "cell_type": "code",
   "execution_count": 6,
   "metadata": {
    "ExecuteTime": {
     "end_time": "2018-12-06T22:52:06.943022Z",
     "start_time": "2018-12-06T22:52:06.719781Z"
    }
   },
   "outputs": [],
   "source": [
    "# df[\"subtitles\"] = df.title.apply(lambda title: sub_dict[title]) # keep blocks separated\n",
    "df[\"subtitles\"] = df.title.apply(\n",
    "    lambda title: \"\\n\\n\".join(sub_dict[title]))  # single string"
   ]
  },
  {
   "cell_type": "code",
   "execution_count": 7,
   "metadata": {
    "ExecuteTime": {
     "end_time": "2018-12-06T22:52:06.955258Z",
     "start_time": "2018-12-06T22:52:06.944518Z"
    }
   },
   "outputs": [
    {
     "data": {
      "text/plain": [
       "(1359, 19)"
      ]
     },
     "execution_count": 7,
     "metadata": {},
     "output_type": "execute_result"
    }
   ],
   "source": [
    "df[df[\"subtitles\"] == ''].shape"
   ]
  },
  {
   "cell_type": "code",
   "execution_count": 8,
   "metadata": {
    "ExecuteTime": {
     "end_time": "2018-12-06T22:52:06.996189Z",
     "start_time": "2018-12-06T22:52:06.957510Z"
    },
    "scrolled": true
   },
   "outputs": [
    {
     "data": {
      "text/html": [
       "<div>\n",
       "<style scoped>\n",
       "    .dataframe tbody tr th:only-of-type {\n",
       "        vertical-align: middle;\n",
       "    }\n",
       "\n",
       "    .dataframe tbody tr th {\n",
       "        vertical-align: top;\n",
       "    }\n",
       "\n",
       "    .dataframe thead th {\n",
       "        text-align: right;\n",
       "    }\n",
       "</style>\n",
       "<table border=\"1\" class=\"dataframe\">\n",
       "  <thead>\n",
       "    <tr style=\"text-align: right;\">\n",
       "      <th></th>\n",
       "      <th>id</th>\n",
       "      <th>budget</th>\n",
       "      <th>genres</th>\n",
       "      <th>keywords</th>\n",
       "      <th>original_language</th>\n",
       "      <th>overview</th>\n",
       "      <th>popularity</th>\n",
       "      <th>production_companies</th>\n",
       "      <th>production_countries</th>\n",
       "      <th>release_date</th>\n",
       "      <th>revenue</th>\n",
       "      <th>runtime</th>\n",
       "      <th>spoken_languages</th>\n",
       "      <th>tagline</th>\n",
       "      <th>title</th>\n",
       "      <th>vote_average</th>\n",
       "      <th>vote_count</th>\n",
       "      <th>cast</th>\n",
       "      <th>subtitles</th>\n",
       "    </tr>\n",
       "  </thead>\n",
       "  <tbody>\n",
       "    <tr>\n",
       "      <th>0</th>\n",
       "      <td>19995</td>\n",
       "      <td>237000000</td>\n",
       "      <td>[{\"id\": 28, \"name\": \"Action\"}, {\"id\": 12, \"nam...</td>\n",
       "      <td>[{\"id\": 1463, \"name\": \"culture clash\"}, {\"id\":...</td>\n",
       "      <td>en</td>\n",
       "      <td>In the 22nd century, a paraplegic Marine is di...</td>\n",
       "      <td>150.437577</td>\n",
       "      <td>[{\"name\": \"Ingenious Film Partners\", \"id\": 289...</td>\n",
       "      <td>[{\"iso_3166_1\": \"US\", \"name\": \"United States o...</td>\n",
       "      <td>2009-12-10</td>\n",
       "      <td>2787965087</td>\n",
       "      <td>162.0</td>\n",
       "      <td>[{\"iso_639_1\": \"en\", \"name\": \"English\"}, {\"iso...</td>\n",
       "      <td>Enter the World of Pandora.</td>\n",
       "      <td>Avatar</td>\n",
       "      <td>7.2</td>\n",
       "      <td>11800</td>\n",
       "      <td>[{\"cast_id\": 242, \"character\": \"Jake Sully\", \"...</td>\n",
       "      <td>When I was lying there\\nin the VA hospital,\\n\\...</td>\n",
       "    </tr>\n",
       "    <tr>\n",
       "      <th>1</th>\n",
       "      <td>285</td>\n",
       "      <td>300000000</td>\n",
       "      <td>[{\"id\": 12, \"name\": \"Adventure\"}, {\"id\": 14, \"...</td>\n",
       "      <td>[{\"id\": 270, \"name\": \"ocean\"}, {\"id\": 726, \"na...</td>\n",
       "      <td>en</td>\n",
       "      <td>Captain Barbossa, long believed to be dead, ha...</td>\n",
       "      <td>139.082615</td>\n",
       "      <td>[{\"name\": \"Walt Disney Pictures\", \"id\": 2}, {\"...</td>\n",
       "      <td>[{\"iso_3166_1\": \"US\", \"name\": \"United States o...</td>\n",
       "      <td>2007-05-19</td>\n",
       "      <td>961000000</td>\n",
       "      <td>169.0</td>\n",
       "      <td>[{\"iso_639_1\": \"en\", \"name\": \"English\"}]</td>\n",
       "      <td>At the end of the world, the adventure begins.</td>\n",
       "      <td>Pirates of the Caribbean: At World's End</td>\n",
       "      <td>6.9</td>\n",
       "      <td>4500</td>\n",
       "      <td>[{\"cast_id\": 4, \"character\": \"Captain Jack Spa...</td>\n",
       "      <td>[man] \"ln order to affect a timely halt\\nto de...</td>\n",
       "    </tr>\n",
       "    <tr>\n",
       "      <th>2</th>\n",
       "      <td>206647</td>\n",
       "      <td>245000000</td>\n",
       "      <td>[{\"id\": 28, \"name\": \"Action\"}, {\"id\": 12, \"nam...</td>\n",
       "      <td>[{\"id\": 470, \"name\": \"spy\"}, {\"id\": 818, \"name...</td>\n",
       "      <td>en</td>\n",
       "      <td>A cryptic message from Bond’s past sends him o...</td>\n",
       "      <td>107.376788</td>\n",
       "      <td>[{\"name\": \"Columbia Pictures\", \"id\": 5}, {\"nam...</td>\n",
       "      <td>[{\"iso_3166_1\": \"GB\", \"name\": \"United Kingdom\"...</td>\n",
       "      <td>2015-10-26</td>\n",
       "      <td>880674609</td>\n",
       "      <td>148.0</td>\n",
       "      <td>[{\"iso_639_1\": \"fr\", \"name\": \"Fran\\u00e7ais\"},...</td>\n",
       "      <td>A Plan No One Escapes</td>\n",
       "      <td>Spectre</td>\n",
       "      <td>6.3</td>\n",
       "      <td>4466</td>\n",
       "      <td>[{\"cast_id\": 1, \"character\": \"James Bond\", \"cr...</td>\n",
       "      <td>Where are you going?\\n\\nI won't be long.\\n\\nWe...</td>\n",
       "    </tr>\n",
       "    <tr>\n",
       "      <th>3</th>\n",
       "      <td>49026</td>\n",
       "      <td>250000000</td>\n",
       "      <td>[{\"id\": 28, \"name\": \"Action\"}, {\"id\": 80, \"nam...</td>\n",
       "      <td>[{\"id\": 849, \"name\": \"dc comics\"}, {\"id\": 853,...</td>\n",
       "      <td>en</td>\n",
       "      <td>Following the death of District Attorney Harve...</td>\n",
       "      <td>112.312950</td>\n",
       "      <td>[{\"name\": \"Legendary Pictures\", \"id\": 923}, {\"...</td>\n",
       "      <td>[{\"iso_3166_1\": \"US\", \"name\": \"United States o...</td>\n",
       "      <td>2012-07-16</td>\n",
       "      <td>1084939099</td>\n",
       "      <td>165.0</td>\n",
       "      <td>[{\"iso_639_1\": \"en\", \"name\": \"English\"}]</td>\n",
       "      <td>The Legend Ends</td>\n",
       "      <td>The Dark Knight Rises</td>\n",
       "      <td>7.6</td>\n",
       "      <td>9106</td>\n",
       "      <td>[{\"cast_id\": 2, \"character\": \"Bruce Wayne / Ba...</td>\n",
       "      <td>I knew Harvey Dent.\\n\\nI was his friend.\\n\\nAn...</td>\n",
       "    </tr>\n",
       "    <tr>\n",
       "      <th>4</th>\n",
       "      <td>49529</td>\n",
       "      <td>260000000</td>\n",
       "      <td>[{\"id\": 28, \"name\": \"Action\"}, {\"id\": 12, \"nam...</td>\n",
       "      <td>[{\"id\": 818, \"name\": \"based on novel\"}, {\"id\":...</td>\n",
       "      <td>en</td>\n",
       "      <td>John Carter is a war-weary, former military ca...</td>\n",
       "      <td>43.926995</td>\n",
       "      <td>[{\"name\": \"Walt Disney Pictures\", \"id\": 2}]</td>\n",
       "      <td>[{\"iso_3166_1\": \"US\", \"name\": \"United States o...</td>\n",
       "      <td>2012-03-07</td>\n",
       "      <td>284139100</td>\n",
       "      <td>132.0</td>\n",
       "      <td>[{\"iso_639_1\": \"en\", \"name\": \"English\"}]</td>\n",
       "      <td>Lost in our world, found in another.</td>\n",
       "      <td>John Carter</td>\n",
       "      <td>6.1</td>\n",
       "      <td>2124</td>\n",
       "      <td>[{\"cast_id\": 5, \"character\": \"John Carter\", \"c...</td>\n",
       "      <td>Subtitles downloaded from Podnapisi.NET\\n\\nMar...</td>\n",
       "    </tr>\n",
       "    <tr>\n",
       "      <th>5</th>\n",
       "      <td>559</td>\n",
       "      <td>258000000</td>\n",
       "      <td>[{\"id\": 14, \"name\": \"Fantasy\"}, {\"id\": 28, \"na...</td>\n",
       "      <td>[{\"id\": 851, \"name\": \"dual identity\"}, {\"id\": ...</td>\n",
       "      <td>en</td>\n",
       "      <td>The seemingly invincible Spider-Man goes up ag...</td>\n",
       "      <td>115.699814</td>\n",
       "      <td>[{\"name\": \"Columbia Pictures\", \"id\": 5}, {\"nam...</td>\n",
       "      <td>[{\"iso_3166_1\": \"US\", \"name\": \"United States o...</td>\n",
       "      <td>2007-05-01</td>\n",
       "      <td>890871626</td>\n",
       "      <td>139.0</td>\n",
       "      <td>[{\"iso_639_1\": \"en\", \"name\": \"English\"}, {\"iso...</td>\n",
       "      <td>The battle within.</td>\n",
       "      <td>Spider-Man 3</td>\n",
       "      <td>5.9</td>\n",
       "      <td>3576</td>\n",
       "      <td>[{\"cast_id\": 30, \"character\": \"Peter Parker / ...</td>\n",
       "      <td></td>\n",
       "    </tr>\n",
       "    <tr>\n",
       "      <th>6</th>\n",
       "      <td>38757</td>\n",
       "      <td>260000000</td>\n",
       "      <td>[{\"id\": 16, \"name\": \"Animation\"}, {\"id\": 10751...</td>\n",
       "      <td>[{\"id\": 1562, \"name\": \"hostage\"}, {\"id\": 2343,...</td>\n",
       "      <td>en</td>\n",
       "      <td>When the kingdom's most wanted-and most charmi...</td>\n",
       "      <td>48.681969</td>\n",
       "      <td>[{\"name\": \"Walt Disney Pictures\", \"id\": 2}, {\"...</td>\n",
       "      <td>[{\"iso_3166_1\": \"US\", \"name\": \"United States o...</td>\n",
       "      <td>2010-11-24</td>\n",
       "      <td>591794936</td>\n",
       "      <td>100.0</td>\n",
       "      <td>[{\"iso_639_1\": \"en\", \"name\": \"English\"}]</td>\n",
       "      <td>They're taking adventure to new lengths.</td>\n",
       "      <td>Tangled</td>\n",
       "      <td>7.4</td>\n",
       "      <td>3330</td>\n",
       "      <td>[{\"cast_id\": 34, \"character\": \"Flynn Rider (vo...</td>\n",
       "      <td>OK, Mr. Kline?\\n\\nDo not move.\\n\\nWhat happene...</td>\n",
       "    </tr>\n",
       "    <tr>\n",
       "      <th>7</th>\n",
       "      <td>99861</td>\n",
       "      <td>280000000</td>\n",
       "      <td>[{\"id\": 28, \"name\": \"Action\"}, {\"id\": 12, \"nam...</td>\n",
       "      <td>[{\"id\": 8828, \"name\": \"marvel comic\"}, {\"id\": ...</td>\n",
       "      <td>en</td>\n",
       "      <td>When Tony Stark tries to jumpstart a dormant p...</td>\n",
       "      <td>134.279229</td>\n",
       "      <td>[{\"name\": \"Marvel Studios\", \"id\": 420}, {\"name...</td>\n",
       "      <td>[{\"iso_3166_1\": \"US\", \"name\": \"United States o...</td>\n",
       "      <td>2015-04-22</td>\n",
       "      <td>1405403694</td>\n",
       "      <td>141.0</td>\n",
       "      <td>[{\"iso_639_1\": \"en\", \"name\": \"English\"}]</td>\n",
       "      <td>A New Age Has Come.</td>\n",
       "      <td>Avengers: Age of Ultron</td>\n",
       "      <td>7.3</td>\n",
       "      <td>6767</td>\n",
       "      <td>[{\"cast_id\": 76, \"character\": \"Tony Stark / Ir...</td>\n",
       "      <td>Report\\nto your stations immediately.\\n\\nThis ...</td>\n",
       "    </tr>\n",
       "    <tr>\n",
       "      <th>8</th>\n",
       "      <td>767</td>\n",
       "      <td>250000000</td>\n",
       "      <td>[{\"id\": 12, \"name\": \"Adventure\"}, {\"id\": 14, \"...</td>\n",
       "      <td>[{\"id\": 616, \"name\": \"witch\"}, {\"id\": 2343, \"n...</td>\n",
       "      <td>en</td>\n",
       "      <td>As Harry begins his sixth year at Hogwarts, he...</td>\n",
       "      <td>98.885637</td>\n",
       "      <td>[{\"name\": \"Warner Bros.\", \"id\": 6194}, {\"name\"...</td>\n",
       "      <td>[{\"iso_3166_1\": \"GB\", \"name\": \"United Kingdom\"...</td>\n",
       "      <td>2009-07-07</td>\n",
       "      <td>933959197</td>\n",
       "      <td>153.0</td>\n",
       "      <td>[{\"iso_639_1\": \"en\", \"name\": \"English\"}]</td>\n",
       "      <td>Dark Secrets Revealed</td>\n",
       "      <td>Harry Potter and the Half-Blood Prince</td>\n",
       "      <td>7.4</td>\n",
       "      <td>5293</td>\n",
       "      <td>[{\"cast_id\": 3, \"character\": \"Harry Potter\", \"...</td>\n",
       "      <td>Subtitles downloaded from Podnapisi.NET\\n\\nI k...</td>\n",
       "    </tr>\n",
       "    <tr>\n",
       "      <th>9</th>\n",
       "      <td>209112</td>\n",
       "      <td>250000000</td>\n",
       "      <td>[{\"id\": 28, \"name\": \"Action\"}, {\"id\": 12, \"nam...</td>\n",
       "      <td>[{\"id\": 849, \"name\": \"dc comics\"}, {\"id\": 7002...</td>\n",
       "      <td>en</td>\n",
       "      <td>Fearing the actions of a god-like Super Hero l...</td>\n",
       "      <td>155.790452</td>\n",
       "      <td>[{\"name\": \"DC Comics\", \"id\": 429}, {\"name\": \"A...</td>\n",
       "      <td>[{\"iso_3166_1\": \"US\", \"name\": \"United States o...</td>\n",
       "      <td>2016-03-23</td>\n",
       "      <td>873260194</td>\n",
       "      <td>151.0</td>\n",
       "      <td>[{\"iso_639_1\": \"en\", \"name\": \"English\"}]</td>\n",
       "      <td>Justice or revenge</td>\n",
       "      <td>Batman v Superman: Dawn of Justice</td>\n",
       "      <td>5.7</td>\n",
       "      <td>7004</td>\n",
       "      <td>[{\"cast_id\": 18, \"character\": \"Bruce Wayne / B...</td>\n",
       "      <td>KRYPTONIAN SHIP VOICE: Welcome.\\n\\nAnalysis re...</td>\n",
       "    </tr>\n",
       "  </tbody>\n",
       "</table>\n",
       "</div>"
      ],
      "text/plain": [
       "       id     budget                                             genres  \\\n",
       "0   19995  237000000  [{\"id\": 28, \"name\": \"Action\"}, {\"id\": 12, \"nam...   \n",
       "1     285  300000000  [{\"id\": 12, \"name\": \"Adventure\"}, {\"id\": 14, \"...   \n",
       "2  206647  245000000  [{\"id\": 28, \"name\": \"Action\"}, {\"id\": 12, \"nam...   \n",
       "3   49026  250000000  [{\"id\": 28, \"name\": \"Action\"}, {\"id\": 80, \"nam...   \n",
       "4   49529  260000000  [{\"id\": 28, \"name\": \"Action\"}, {\"id\": 12, \"nam...   \n",
       "5     559  258000000  [{\"id\": 14, \"name\": \"Fantasy\"}, {\"id\": 28, \"na...   \n",
       "6   38757  260000000  [{\"id\": 16, \"name\": \"Animation\"}, {\"id\": 10751...   \n",
       "7   99861  280000000  [{\"id\": 28, \"name\": \"Action\"}, {\"id\": 12, \"nam...   \n",
       "8     767  250000000  [{\"id\": 12, \"name\": \"Adventure\"}, {\"id\": 14, \"...   \n",
       "9  209112  250000000  [{\"id\": 28, \"name\": \"Action\"}, {\"id\": 12, \"nam...   \n",
       "\n",
       "                                            keywords original_language  \\\n",
       "0  [{\"id\": 1463, \"name\": \"culture clash\"}, {\"id\":...                en   \n",
       "1  [{\"id\": 270, \"name\": \"ocean\"}, {\"id\": 726, \"na...                en   \n",
       "2  [{\"id\": 470, \"name\": \"spy\"}, {\"id\": 818, \"name...                en   \n",
       "3  [{\"id\": 849, \"name\": \"dc comics\"}, {\"id\": 853,...                en   \n",
       "4  [{\"id\": 818, \"name\": \"based on novel\"}, {\"id\":...                en   \n",
       "5  [{\"id\": 851, \"name\": \"dual identity\"}, {\"id\": ...                en   \n",
       "6  [{\"id\": 1562, \"name\": \"hostage\"}, {\"id\": 2343,...                en   \n",
       "7  [{\"id\": 8828, \"name\": \"marvel comic\"}, {\"id\": ...                en   \n",
       "8  [{\"id\": 616, \"name\": \"witch\"}, {\"id\": 2343, \"n...                en   \n",
       "9  [{\"id\": 849, \"name\": \"dc comics\"}, {\"id\": 7002...                en   \n",
       "\n",
       "                                            overview  popularity  \\\n",
       "0  In the 22nd century, a paraplegic Marine is di...  150.437577   \n",
       "1  Captain Barbossa, long believed to be dead, ha...  139.082615   \n",
       "2  A cryptic message from Bond’s past sends him o...  107.376788   \n",
       "3  Following the death of District Attorney Harve...  112.312950   \n",
       "4  John Carter is a war-weary, former military ca...   43.926995   \n",
       "5  The seemingly invincible Spider-Man goes up ag...  115.699814   \n",
       "6  When the kingdom's most wanted-and most charmi...   48.681969   \n",
       "7  When Tony Stark tries to jumpstart a dormant p...  134.279229   \n",
       "8  As Harry begins his sixth year at Hogwarts, he...   98.885637   \n",
       "9  Fearing the actions of a god-like Super Hero l...  155.790452   \n",
       "\n",
       "                                production_companies  \\\n",
       "0  [{\"name\": \"Ingenious Film Partners\", \"id\": 289...   \n",
       "1  [{\"name\": \"Walt Disney Pictures\", \"id\": 2}, {\"...   \n",
       "2  [{\"name\": \"Columbia Pictures\", \"id\": 5}, {\"nam...   \n",
       "3  [{\"name\": \"Legendary Pictures\", \"id\": 923}, {\"...   \n",
       "4        [{\"name\": \"Walt Disney Pictures\", \"id\": 2}]   \n",
       "5  [{\"name\": \"Columbia Pictures\", \"id\": 5}, {\"nam...   \n",
       "6  [{\"name\": \"Walt Disney Pictures\", \"id\": 2}, {\"...   \n",
       "7  [{\"name\": \"Marvel Studios\", \"id\": 420}, {\"name...   \n",
       "8  [{\"name\": \"Warner Bros.\", \"id\": 6194}, {\"name\"...   \n",
       "9  [{\"name\": \"DC Comics\", \"id\": 429}, {\"name\": \"A...   \n",
       "\n",
       "                                production_countries release_date     revenue  \\\n",
       "0  [{\"iso_3166_1\": \"US\", \"name\": \"United States o...   2009-12-10  2787965087   \n",
       "1  [{\"iso_3166_1\": \"US\", \"name\": \"United States o...   2007-05-19   961000000   \n",
       "2  [{\"iso_3166_1\": \"GB\", \"name\": \"United Kingdom\"...   2015-10-26   880674609   \n",
       "3  [{\"iso_3166_1\": \"US\", \"name\": \"United States o...   2012-07-16  1084939099   \n",
       "4  [{\"iso_3166_1\": \"US\", \"name\": \"United States o...   2012-03-07   284139100   \n",
       "5  [{\"iso_3166_1\": \"US\", \"name\": \"United States o...   2007-05-01   890871626   \n",
       "6  [{\"iso_3166_1\": \"US\", \"name\": \"United States o...   2010-11-24   591794936   \n",
       "7  [{\"iso_3166_1\": \"US\", \"name\": \"United States o...   2015-04-22  1405403694   \n",
       "8  [{\"iso_3166_1\": \"GB\", \"name\": \"United Kingdom\"...   2009-07-07   933959197   \n",
       "9  [{\"iso_3166_1\": \"US\", \"name\": \"United States o...   2016-03-23   873260194   \n",
       "\n",
       "   runtime                                   spoken_languages  \\\n",
       "0    162.0  [{\"iso_639_1\": \"en\", \"name\": \"English\"}, {\"iso...   \n",
       "1    169.0           [{\"iso_639_1\": \"en\", \"name\": \"English\"}]   \n",
       "2    148.0  [{\"iso_639_1\": \"fr\", \"name\": \"Fran\\u00e7ais\"},...   \n",
       "3    165.0           [{\"iso_639_1\": \"en\", \"name\": \"English\"}]   \n",
       "4    132.0           [{\"iso_639_1\": \"en\", \"name\": \"English\"}]   \n",
       "5    139.0  [{\"iso_639_1\": \"en\", \"name\": \"English\"}, {\"iso...   \n",
       "6    100.0           [{\"iso_639_1\": \"en\", \"name\": \"English\"}]   \n",
       "7    141.0           [{\"iso_639_1\": \"en\", \"name\": \"English\"}]   \n",
       "8    153.0           [{\"iso_639_1\": \"en\", \"name\": \"English\"}]   \n",
       "9    151.0           [{\"iso_639_1\": \"en\", \"name\": \"English\"}]   \n",
       "\n",
       "                                          tagline  \\\n",
       "0                     Enter the World of Pandora.   \n",
       "1  At the end of the world, the adventure begins.   \n",
       "2                           A Plan No One Escapes   \n",
       "3                                 The Legend Ends   \n",
       "4            Lost in our world, found in another.   \n",
       "5                              The battle within.   \n",
       "6        They're taking adventure to new lengths.   \n",
       "7                             A New Age Has Come.   \n",
       "8                           Dark Secrets Revealed   \n",
       "9                              Justice or revenge   \n",
       "\n",
       "                                      title  vote_average  vote_count  \\\n",
       "0                                    Avatar           7.2       11800   \n",
       "1  Pirates of the Caribbean: At World's End           6.9        4500   \n",
       "2                                   Spectre           6.3        4466   \n",
       "3                     The Dark Knight Rises           7.6        9106   \n",
       "4                               John Carter           6.1        2124   \n",
       "5                              Spider-Man 3           5.9        3576   \n",
       "6                                   Tangled           7.4        3330   \n",
       "7                   Avengers: Age of Ultron           7.3        6767   \n",
       "8    Harry Potter and the Half-Blood Prince           7.4        5293   \n",
       "9        Batman v Superman: Dawn of Justice           5.7        7004   \n",
       "\n",
       "                                                cast  \\\n",
       "0  [{\"cast_id\": 242, \"character\": \"Jake Sully\", \"...   \n",
       "1  [{\"cast_id\": 4, \"character\": \"Captain Jack Spa...   \n",
       "2  [{\"cast_id\": 1, \"character\": \"James Bond\", \"cr...   \n",
       "3  [{\"cast_id\": 2, \"character\": \"Bruce Wayne / Ba...   \n",
       "4  [{\"cast_id\": 5, \"character\": \"John Carter\", \"c...   \n",
       "5  [{\"cast_id\": 30, \"character\": \"Peter Parker / ...   \n",
       "6  [{\"cast_id\": 34, \"character\": \"Flynn Rider (vo...   \n",
       "7  [{\"cast_id\": 76, \"character\": \"Tony Stark / Ir...   \n",
       "8  [{\"cast_id\": 3, \"character\": \"Harry Potter\", \"...   \n",
       "9  [{\"cast_id\": 18, \"character\": \"Bruce Wayne / B...   \n",
       "\n",
       "                                           subtitles  \n",
       "0  When I was lying there\\nin the VA hospital,\\n\\...  \n",
       "1  [man] \"ln order to affect a timely halt\\nto de...  \n",
       "2  Where are you going?\\n\\nI won't be long.\\n\\nWe...  \n",
       "3  I knew Harvey Dent.\\n\\nI was his friend.\\n\\nAn...  \n",
       "4  Subtitles downloaded from Podnapisi.NET\\n\\nMar...  \n",
       "5                                                     \n",
       "6  OK, Mr. Kline?\\n\\nDo not move.\\n\\nWhat happene...  \n",
       "7  Report\\nto your stations immediately.\\n\\nThis ...  \n",
       "8  Subtitles downloaded from Podnapisi.NET\\n\\nI k...  \n",
       "9  KRYPTONIAN SHIP VOICE: Welcome.\\n\\nAnalysis re...  "
      ]
     },
     "execution_count": 8,
     "metadata": {},
     "output_type": "execute_result"
    }
   ],
   "source": [
    "df.head(10)"
   ]
  },
  {
   "cell_type": "markdown",
   "metadata": {},
   "source": [
    "## Drop movies with no genres information"
   ]
  },
  {
   "cell_type": "code",
   "execution_count": 9,
   "metadata": {
    "ExecuteTime": {
     "end_time": "2018-12-06T22:52:07.400013Z",
     "start_time": "2018-12-06T22:52:06.999395Z"
    }
   },
   "outputs": [],
   "source": [
    "# drop movies with no genre info\n",
    "for i, row in df.iterrows():\n",
    "    if row['genres'] == '[]':\n",
    "        df.drop(i, inplace=True)\n",
    "df = df.dropna()"
   ]
  },
  {
   "cell_type": "code",
   "execution_count": 10,
   "metadata": {
    "ExecuteTime": {
     "end_time": "2018-12-06T22:52:07.436187Z",
     "start_time": "2018-12-06T22:52:07.402135Z"
    }
   },
   "outputs": [
    {
     "data": {
      "text/plain": [
       "[('Drama', 1801),\n",
       " ('Comedy', 1442),\n",
       " ('Thriller', 1151),\n",
       " ('Action', 1025),\n",
       " ('Romance', 726),\n",
       " ('Adventure', 720),\n",
       " ('Crime', 627),\n",
       " ('Science Fiction', 488),\n",
       " ('Horror', 470),\n",
       " ('Family', 437),\n",
       " ('Fantasy', 388),\n",
       " ('Mystery', 316),\n",
       " ('Animation', 201),\n",
       " ('History', 153),\n",
       " ('Music', 149),\n",
       " ('War', 115),\n",
       " ('Western', 69),\n",
       " ('Documentary', 56),\n",
       " ('Foreign', 14),\n",
       " ('TV Movie', 3)]"
      ]
     },
     "execution_count": 10,
     "metadata": {},
     "output_type": "execute_result"
    }
   ],
   "source": [
    "all_genres = defaultdict(int)\n",
    "\n",
    "for row in df.genres:\n",
    "    for item in json.loads(row):\n",
    "        #         print(item)\n",
    "        all_genres[item['name']] += 1\n",
    "\n",
    "genres_list = sorted(all_genres.items(), key=lambda x: x[1], reverse=True)\n",
    "genres_list"
   ]
  },
  {
   "cell_type": "markdown",
   "metadata": {},
   "source": [
    "## Column transformation\n",
    "\n",
    "**Steps:**  \n",
    "+ Filter columns with specific filtering values\n",
    "+ Convert json-format cells to list\n",
    "+ Extract cast gender and calculate the proportion of female cast and male cast for each movie"
   ]
  },
  {
   "cell_type": "code",
   "execution_count": 11,
   "metadata": {
    "ExecuteTime": {
     "end_time": "2018-12-06T22:52:07.456323Z",
     "start_time": "2018-12-06T22:52:07.438477Z"
    }
   },
   "outputs": [],
   "source": [
    "def convert_list(cell):\n",
    "    \"\"\"convert the json format to a list of categories\"\"\"\n",
    "    kw_list = []\n",
    "    for kw in json.loads(cell):\n",
    "        kw_list.append(kw['name'])\n",
    "    return kw_list\n",
    "\n",
    "\n",
    "def larger_n(col, n):\n",
    "    \"\"\"filter the column\"\"\"\n",
    "    keywords = defaultdict(int)\n",
    "    for row in df[col]:\n",
    "        row = json.loads(row)\n",
    "        for entry in row:\n",
    "            keywords[entry['name']] += 1\n",
    "    kw_cnt = sorted(keywords.items(), key=lambda x: -x[1])\n",
    "    return [kw[0] for kw in kw_cnt if kw[1] >= n]\n",
    "\n",
    "\n",
    "def extract_gender(cell):\n",
    "    \"\"\"Extract cast gender\"\"\"\n",
    "    female = 0\n",
    "    male = 0\n",
    "    for item in json.loads(cell):\n",
    "        if item['gender'] == 1:\n",
    "            female += 1\n",
    "        elif item['gender'] == 2:\n",
    "            male += 1\n",
    "        else:\n",
    "            continue\n",
    "    return female, male\n",
    "\n",
    "\n",
    "def concat_names(cell):\n",
    "    \"\"\"Concatenate first names and last names\"\"\"\n",
    "    names = []\n",
    "    for name in cell:\n",
    "        names.append(name.replace(' ', ''))\n",
    "    return names\n",
    "\n",
    "\n",
    "def list2str(cell):\n",
    "    \"\"\"Convert list to string\"\"\"\n",
    "    return ' '.join(cell)\n",
    "\n",
    "\n",
    "def transform_cols(df, cols_to_transform):\n",
    "    \"\"\"Transform columns of a dataframe.\n",
    "    cols_to_transform should be a dict(col_name: filter value n)\n",
    "    \"\"\"\n",
    "    for col_name in cols_to_transform.keys():\n",
    "        larger_col = larger_n(col_name, cols_to_transform[col_name])\n",
    "        if col_name == 'cast':\n",
    "            gen = df[col_name].apply(extract_gender)\n",
    "            df['female_pct'] = gen.apply(lambda x: x[0]/(x[0]+x[1]+0.001))\n",
    "            df['male_pct'] = gen.apply(lambda x: x[1]/(x[0]+x[1]+0.001))\n",
    "\n",
    "        df[col_name] = df[col_name].apply(convert_list)\\\n",
    "            .apply(lambda cell: [kw for kw in cell if kw in larger_col])\n",
    "    return df\n",
    "\n",
    "\n",
    "def tokenize(text):\n",
    "    \"\"\"\n",
    "    A tokenizer, remove special characters punctuation and replace them with a space, stem the word\n",
    "    \"\"\"\n",
    "    text = text.lower()\n",
    "    cleanString = re.sub('[^a-zA-Z]', ' ', text)\n",
    "    words = nltk.word_tokenize(cleanString)\n",
    "    english = list(ENGLISH_STOP_WORDS)\n",
    "    goodwords = [w for w in words if w not in english]\n",
    "    stemmer = PorterStemmer()\n",
    "    stemmed = [stemmer.stem(word) for word in goodwords]\n",
    "    return stemmed"
   ]
  },
  {
   "cell_type": "code",
   "execution_count": 12,
   "metadata": {
    "ExecuteTime": {
     "end_time": "2018-12-06T22:52:18.857482Z",
     "start_time": "2018-12-06T22:52:07.458793Z"
    }
   },
   "outputs": [],
   "source": [
    "cols_to_transform = {'keywords': 30,\n",
    "                     'genres': 0,\n",
    "                     'production_companies': 5,\n",
    "                     'production_countries': 3,\n",
    "                     'spoken_languages': 10,\n",
    "                     'cast': 2}\n",
    "\n",
    "df_movies = transform_cols(df, cols_to_transform)"
   ]
  },
  {
   "cell_type": "code",
   "execution_count": 13,
   "metadata": {
    "ExecuteTime": {
     "end_time": "2018-12-06T22:52:18.868113Z",
     "start_time": "2018-12-06T22:52:18.860345Z"
    },
    "scrolled": true
   },
   "outputs": [
    {
     "data": {
      "text/plain": [
       "(3037, 21)"
      ]
     },
     "execution_count": 13,
     "metadata": {},
     "output_type": "execute_result"
    }
   ],
   "source": [
    "# use only movies with subtitles\n",
    "df_movies = df_movies[df_movies[\"subtitles\"] != '']\n",
    "df_movies = df_movies.reset_index(drop=True)\n",
    "df_movies.shape"
   ]
  },
  {
   "cell_type": "markdown",
   "metadata": {},
   "source": [
    "# Feature Engineering"
   ]
  },
  {
   "cell_type": "markdown",
   "metadata": {},
   "source": [
    "## Runtime - drop 0 runtime"
   ]
  },
  {
   "cell_type": "code",
   "execution_count": 14,
   "metadata": {
    "ExecuteTime": {
     "end_time": "2018-12-06T22:52:18.900192Z",
     "start_time": "2018-12-06T22:52:18.870053Z"
    }
   },
   "outputs": [
    {
     "data": {
      "text/html": [
       "<div>\n",
       "<style scoped>\n",
       "    .dataframe tbody tr th:only-of-type {\n",
       "        vertical-align: middle;\n",
       "    }\n",
       "\n",
       "    .dataframe tbody tr th {\n",
       "        vertical-align: top;\n",
       "    }\n",
       "\n",
       "    .dataframe thead th {\n",
       "        text-align: right;\n",
       "    }\n",
       "</style>\n",
       "<table border=\"1\" class=\"dataframe\">\n",
       "  <thead>\n",
       "    <tr style=\"text-align: right;\">\n",
       "      <th></th>\n",
       "      <th>id</th>\n",
       "      <th>budget</th>\n",
       "      <th>genres</th>\n",
       "      <th>keywords</th>\n",
       "      <th>original_language</th>\n",
       "      <th>overview</th>\n",
       "      <th>popularity</th>\n",
       "      <th>production_companies</th>\n",
       "      <th>production_countries</th>\n",
       "      <th>release_date</th>\n",
       "      <th>...</th>\n",
       "      <th>runtime</th>\n",
       "      <th>spoken_languages</th>\n",
       "      <th>tagline</th>\n",
       "      <th>title</th>\n",
       "      <th>vote_average</th>\n",
       "      <th>vote_count</th>\n",
       "      <th>cast</th>\n",
       "      <th>subtitles</th>\n",
       "      <th>female_pct</th>\n",
       "      <th>male_pct</th>\n",
       "    </tr>\n",
       "  </thead>\n",
       "  <tbody>\n",
       "    <tr>\n",
       "      <th>2966</th>\n",
       "      <td>285743</td>\n",
       "      <td>0</td>\n",
       "      <td>[Music, Horror]</td>\n",
       "      <td>[musical, sequel]</td>\n",
       "      <td>en</td>\n",
       "      <td>The Devil's Carnival: Alleluia! is the second ...</td>\n",
       "      <td>0.674398</td>\n",
       "      <td>[]</td>\n",
       "      <td>[United States of America]</td>\n",
       "      <td>2016-03-29</td>\n",
       "      <td>...</td>\n",
       "      <td>0.0</td>\n",
       "      <td>[]</td>\n",
       "      <td>Hell ain't got a prayer.</td>\n",
       "      <td>Alleluia! The Devil's Carnival</td>\n",
       "      <td>6.0</td>\n",
       "      <td>2</td>\n",
       "      <td>[Terrance Zdunich, Paul Sorvino, Nivek Ogre, A...</td>\n",
       "      <td>Advertise your product or brand here\\ncontact ...</td>\n",
       "      <td>0.363603</td>\n",
       "      <td>0.636306</td>\n",
       "    </tr>\n",
       "  </tbody>\n",
       "</table>\n",
       "<p>1 rows × 21 columns</p>\n",
       "</div>"
      ],
      "text/plain": [
       "          id  budget           genres           keywords original_language  \\\n",
       "2966  285743       0  [Music, Horror]  [musical, sequel]                en   \n",
       "\n",
       "                                               overview  popularity  \\\n",
       "2966  The Devil's Carnival: Alleluia! is the second ...    0.674398   \n",
       "\n",
       "     production_companies        production_countries release_date    ...     \\\n",
       "2966                   []  [United States of America]   2016-03-29    ...      \n",
       "\n",
       "      runtime  spoken_languages                   tagline  \\\n",
       "2966      0.0                []  Hell ain't got a prayer.   \n",
       "\n",
       "                               title vote_average  vote_count  \\\n",
       "2966  Alleluia! The Devil's Carnival          6.0           2   \n",
       "\n",
       "                                                   cast  \\\n",
       "2966  [Terrance Zdunich, Paul Sorvino, Nivek Ogre, A...   \n",
       "\n",
       "                                              subtitles female_pct  male_pct  \n",
       "2966  Advertise your product or brand here\\ncontact ...   0.363603  0.636306  \n",
       "\n",
       "[1 rows x 21 columns]"
      ]
     },
     "execution_count": 14,
     "metadata": {},
     "output_type": "execute_result"
    }
   ],
   "source": [
    "df_movies.loc[df_movies.runtime == 0]"
   ]
  },
  {
   "cell_type": "markdown",
   "metadata": {},
   "source": [
    "Checking the movies that have no runtime data, we can see that these six movies also lack revenue data, production companies, keywords, and all have very few vote counts. So we can think that removing these six rows will not have significant influence on our model.  "
   ]
  },
  {
   "cell_type": "code",
   "execution_count": 15,
   "metadata": {
    "ExecuteTime": {
     "end_time": "2018-12-06T22:52:18.910513Z",
     "start_time": "2018-12-06T22:52:18.902527Z"
    }
   },
   "outputs": [],
   "source": [
    "df_movies = df_movies.drop(df_movies.loc[df_movies.runtime == 0].index)"
   ]
  },
  {
   "cell_type": "code",
   "execution_count": 16,
   "metadata": {
    "ExecuteTime": {
     "end_time": "2018-12-06T22:52:18.920550Z",
     "start_time": "2018-12-06T22:52:18.913355Z"
    }
   },
   "outputs": [],
   "source": [
    "df_movies = df_movies.reset_index(drop=True)"
   ]
  },
  {
   "cell_type": "markdown",
   "metadata": {},
   "source": [
    "## Overview"
   ]
  },
  {
   "cell_type": "markdown",
   "metadata": {},
   "source": [
    "### TfidfVectorizer"
   ]
  },
  {
   "cell_type": "code",
   "execution_count": 17,
   "metadata": {
    "ExecuteTime": {
     "end_time": "2018-12-06T22:52:18.927523Z",
     "start_time": "2018-12-06T22:52:18.924021Z"
    }
   },
   "outputs": [],
   "source": [
    "import re\n",
    "import nltk\n",
    "import string\n",
    "from sklearn.feature_extraction.text import TfidfVectorizer\n",
    "from sklearn.feature_extraction.text import ENGLISH_STOP_WORDS\n",
    "from nltk.stem.porter import *"
   ]
  },
  {
   "cell_type": "code",
   "execution_count": 18,
   "metadata": {
    "ExecuteTime": {
     "end_time": "2018-12-06T22:52:22.480377Z",
     "start_time": "2018-12-06T22:52:18.934422Z"
    }
   },
   "outputs": [],
   "source": [
    "df_movies = df_movies.loc[df_movies.overview.apply(lambda x: len(x) > 10)]\n",
    "# df_movies = df_movies.reset_index(drop=True)\n",
    "\n",
    "tfidf = TfidfVectorizer(tokenizer=tokenize, stop_words='english', binary=True,\n",
    "                        ngram_range=(1, 1), min_df=0.001)\n",
    "overview_vec = tfidf.fit_transform(df_movies['overview'])\n",
    "\n",
    "overview_docvecs = pd.DataFrame(overview_vec.toarray(\n",
    "), columns=tfidf.get_feature_names()).add_prefix('ov_')\n",
    "# overview_vec = overview_vec.todense()"
   ]
  },
  {
   "cell_type": "raw",
   "metadata": {
    "scrolled": true
   },
   "source": [
    "overview.head(5)"
   ]
  },
  {
   "cell_type": "markdown",
   "metadata": {},
   "source": [
    "### Doc2vec"
   ]
  },
  {
   "cell_type": "markdown",
   "metadata": {},
   "source": [
    "After some testing, we choose not to use the Doc2Vec method on overview text because the length of each piece of text is not enough to train the Doc2vec model well. Codes are kept for further experiments."
   ]
  },
  {
   "cell_type": "raw",
   "metadata": {},
   "source": [
    "def text_to_words(text):\n",
    "    # remove punctuation and whitespace\n",
    "    # but keep hyphens and apostrophes\n",
    "    filtered_text = re.sub(r'[^\\w\\'\\s-]',\n",
    "                           '', text) \n",
    "    return word_tokenize(filtered_text.lower())"
   ]
  },
  {
   "cell_type": "raw",
   "metadata": {},
   "source": [
    "idxs = df_movies.id.tolist()\n",
    "%time sub_words = [text_to_words(text) for text in df_movies.overview.tolist()]\n",
    "subs = dict(zip(idxs, sub_words))"
   ]
  },
  {
   "cell_type": "raw",
   "metadata": {},
   "source": [
    "%time tagged_data = [TaggedDocument(words=word_list, tags=[index]) for index, word_list in subs.items()]"
   ]
  },
  {
   "cell_type": "raw",
   "metadata": {},
   "source": [
    "model = Doc2Vec(vector_size=50, min_count=2, workers=4)\n",
    "%time model.build_vocab(tagged_data)"
   ]
  },
  {
   "cell_type": "raw",
   "metadata": {},
   "source": [
    "# download glove.6B.50d.txt from\n",
    "# https://www.kaggle.com/rtatman/glove-global-vectors-for-word-representation/version/1\n",
    "# run following command to convert to word2vec format (extra line at the top)\n",
    "# python -m gensim.scripts.glove2word2vec -i glove.6B.50d.txt -o glove.6B.50d.word2vec.txt\n",
    "# https://github.com/RaRe-Technologies/gensim/blob/4543646d3fe3496e11bc935e72cbf9b18504442e/gensim/models/word2vec.py"
   ]
  },
  {
   "cell_type": "raw",
   "metadata": {},
   "source": [
    "word2vec = Word2Vec(size=50)\n",
    "%time word2vec.build_vocab([word for text in tagged_data for word in text])"
   ]
  },
  {
   "cell_type": "raw",
   "metadata": {},
   "source": [
    "# lockf=0 doesn't train word vectors any further, 1.0 does.\n",
    "glove_path = \"/Users/xhan/OneDrive/dataset/glove/glove.6B.50d.word2vec.txt\"\n",
    "%time word2vec.intersect_word2vec_format(glove_path, lockf=1.0, binary=False, encoding='utf8', unicode_errors='strict')"
   ]
  },
  {
   "cell_type": "raw",
   "metadata": {},
   "source": [
    "model_pretrained = Doc2Vec(vector_size=50, min_count=2, workers=4)\n",
    "model_pretrained.build_vocab(tagged_data)\n",
    "model_pretrained.wv = word2vec.wv\n",
    "%time model_pretrained.train(tagged_data, total_examples=model.corpus_count, epochs=model.epochs)"
   ]
  },
  {
   "cell_type": "raw",
   "metadata": {},
   "source": [
    "def infer_docvecs(df):\n",
    "    docvecs = []\n",
    "    for index in tqdm(df.id.tolist()):\n",
    "        word_list = subs[index]\n",
    "        vec = model_pretrained.infer_vector(word_list, steps=20)\n",
    "        docvecs.append(vec)\n",
    "    docvecs = np.array(docvecs, dtype=np.float32)\n",
    "    return docvecs"
   ]
  },
  {
   "cell_type": "raw",
   "metadata": {},
   "source": [
    "overview_docvecs = infer_docvecs(df_movies)\n",
    "overview_docvecs.shape"
   ]
  },
  {
   "cell_type": "markdown",
   "metadata": {},
   "source": [
    "## Subtitles -- Word2Vec"
   ]
  },
  {
   "cell_type": "markdown",
   "metadata": {},
   "source": [
    "### Tfidf\n",
    "\n",
    "Tfidf-ing all the subtitles will take some time. Be prapared when you run it!"
   ]
  },
  {
   "cell_type": "code",
   "execution_count": 38,
   "metadata": {
    "ExecuteTime": {
     "end_time": "2018-12-06T23:00:05.297113Z",
     "start_time": "2018-12-06T22:54:26.318319Z"
    }
   },
   "outputs": [],
   "source": [
    "tfidf = TfidfVectorizer(tokenizer=tokenize, stop_words='english', binary=True,\n",
    "                        ngram_range=(1, 1), min_df=0.001)\n",
    "subtitles_vec = tfidf.fit_transform(df_movies['subtitles'])\n",
    "subtitles = pd.DataFrame(subtitles_vec.toarray(\n",
    "), columns=tfidf.get_feature_names()).add_prefix('sub_')"
   ]
  },
  {
   "cell_type": "code",
   "execution_count": 39,
   "metadata": {
    "ExecuteTime": {
     "end_time": "2018-12-06T23:00:05.328822Z",
     "start_time": "2018-12-06T23:00:05.299820Z"
    }
   },
   "outputs": [
    {
     "data": {
      "text/html": [
       "<div>\n",
       "<style scoped>\n",
       "    .dataframe tbody tr th:only-of-type {\n",
       "        vertical-align: middle;\n",
       "    }\n",
       "\n",
       "    .dataframe tbody tr th {\n",
       "        vertical-align: top;\n",
       "    }\n",
       "\n",
       "    .dataframe thead th {\n",
       "        text-align: right;\n",
       "    }\n",
       "</style>\n",
       "<table border=\"1\" class=\"dataframe\">\n",
       "  <thead>\n",
       "    <tr style=\"text-align: right;\">\n",
       "      <th></th>\n",
       "      <th>sub_aa</th>\n",
       "      <th>sub_aaa</th>\n",
       "      <th>sub_aaaa</th>\n",
       "      <th>sub_aaaaaah</th>\n",
       "      <th>sub_aaaaah</th>\n",
       "      <th>sub_aaaah</th>\n",
       "      <th>sub_aaaargh</th>\n",
       "      <th>sub_aaagh</th>\n",
       "      <th>sub_aaah</th>\n",
       "      <th>sub_aaahh</th>\n",
       "      <th>...</th>\n",
       "      <th>sub_zullen</th>\n",
       "      <th>sub_zulu</th>\n",
       "      <th>sub_zumba</th>\n",
       "      <th>sub_zur</th>\n",
       "      <th>sub_zurich</th>\n",
       "      <th>sub_zvu</th>\n",
       "      <th>sub_zwei</th>\n",
       "      <th>sub_zy</th>\n",
       "      <th>sub_zz</th>\n",
       "      <th>sub_zzz</th>\n",
       "    </tr>\n",
       "  </thead>\n",
       "  <tbody>\n",
       "    <tr>\n",
       "      <th>0</th>\n",
       "      <td>0.0</td>\n",
       "      <td>0.0</td>\n",
       "      <td>0.0</td>\n",
       "      <td>0.0</td>\n",
       "      <td>0.0</td>\n",
       "      <td>0.0</td>\n",
       "      <td>0.0</td>\n",
       "      <td>0.0</td>\n",
       "      <td>0.0</td>\n",
       "      <td>0.0</td>\n",
       "      <td>...</td>\n",
       "      <td>0.0</td>\n",
       "      <td>0.0</td>\n",
       "      <td>0.0</td>\n",
       "      <td>0.0</td>\n",
       "      <td>0.0</td>\n",
       "      <td>0.0</td>\n",
       "      <td>0.0</td>\n",
       "      <td>0.0</td>\n",
       "      <td>0.0</td>\n",
       "      <td>0.0</td>\n",
       "    </tr>\n",
       "    <tr>\n",
       "      <th>1</th>\n",
       "      <td>0.0</td>\n",
       "      <td>0.0</td>\n",
       "      <td>0.0</td>\n",
       "      <td>0.0</td>\n",
       "      <td>0.0</td>\n",
       "      <td>0.0</td>\n",
       "      <td>0.0</td>\n",
       "      <td>0.0</td>\n",
       "      <td>0.0</td>\n",
       "      <td>0.0</td>\n",
       "      <td>...</td>\n",
       "      <td>0.0</td>\n",
       "      <td>0.0</td>\n",
       "      <td>0.0</td>\n",
       "      <td>0.0</td>\n",
       "      <td>0.0</td>\n",
       "      <td>0.0</td>\n",
       "      <td>0.0</td>\n",
       "      <td>0.0</td>\n",
       "      <td>0.0</td>\n",
       "      <td>0.0</td>\n",
       "    </tr>\n",
       "    <tr>\n",
       "      <th>2</th>\n",
       "      <td>0.0</td>\n",
       "      <td>0.0</td>\n",
       "      <td>0.0</td>\n",
       "      <td>0.0</td>\n",
       "      <td>0.0</td>\n",
       "      <td>0.0</td>\n",
       "      <td>0.0</td>\n",
       "      <td>0.0</td>\n",
       "      <td>0.0</td>\n",
       "      <td>0.0</td>\n",
       "      <td>...</td>\n",
       "      <td>0.0</td>\n",
       "      <td>0.0</td>\n",
       "      <td>0.0</td>\n",
       "      <td>0.0</td>\n",
       "      <td>0.0</td>\n",
       "      <td>0.0</td>\n",
       "      <td>0.0</td>\n",
       "      <td>0.0</td>\n",
       "      <td>0.0</td>\n",
       "      <td>0.0</td>\n",
       "    </tr>\n",
       "    <tr>\n",
       "      <th>3</th>\n",
       "      <td>0.0</td>\n",
       "      <td>0.0</td>\n",
       "      <td>0.0</td>\n",
       "      <td>0.0</td>\n",
       "      <td>0.0</td>\n",
       "      <td>0.0</td>\n",
       "      <td>0.0</td>\n",
       "      <td>0.0</td>\n",
       "      <td>0.0</td>\n",
       "      <td>0.0</td>\n",
       "      <td>...</td>\n",
       "      <td>0.0</td>\n",
       "      <td>0.0</td>\n",
       "      <td>0.0</td>\n",
       "      <td>0.0</td>\n",
       "      <td>0.0</td>\n",
       "      <td>0.0</td>\n",
       "      <td>0.0</td>\n",
       "      <td>0.0</td>\n",
       "      <td>0.0</td>\n",
       "      <td>0.0</td>\n",
       "    </tr>\n",
       "    <tr>\n",
       "      <th>4</th>\n",
       "      <td>0.0</td>\n",
       "      <td>0.0</td>\n",
       "      <td>0.0</td>\n",
       "      <td>0.0</td>\n",
       "      <td>0.0</td>\n",
       "      <td>0.0</td>\n",
       "      <td>0.0</td>\n",
       "      <td>0.0</td>\n",
       "      <td>0.0</td>\n",
       "      <td>0.0</td>\n",
       "      <td>...</td>\n",
       "      <td>0.0</td>\n",
       "      <td>0.0</td>\n",
       "      <td>0.0</td>\n",
       "      <td>0.0</td>\n",
       "      <td>0.0</td>\n",
       "      <td>0.0</td>\n",
       "      <td>0.0</td>\n",
       "      <td>0.0</td>\n",
       "      <td>0.0</td>\n",
       "      <td>0.0</td>\n",
       "    </tr>\n",
       "  </tbody>\n",
       "</table>\n",
       "<p>5 rows × 28754 columns</p>\n",
       "</div>"
      ],
      "text/plain": [
       "   sub_aa  sub_aaa  sub_aaaa  sub_aaaaaah  sub_aaaaah  sub_aaaah  sub_aaaargh  \\\n",
       "0     0.0      0.0       0.0          0.0         0.0        0.0          0.0   \n",
       "1     0.0      0.0       0.0          0.0         0.0        0.0          0.0   \n",
       "2     0.0      0.0       0.0          0.0         0.0        0.0          0.0   \n",
       "3     0.0      0.0       0.0          0.0         0.0        0.0          0.0   \n",
       "4     0.0      0.0       0.0          0.0         0.0        0.0          0.0   \n",
       "\n",
       "   sub_aaagh  sub_aaah  sub_aaahh   ...     sub_zullen  sub_zulu  sub_zumba  \\\n",
       "0        0.0       0.0        0.0   ...            0.0       0.0        0.0   \n",
       "1        0.0       0.0        0.0   ...            0.0       0.0        0.0   \n",
       "2        0.0       0.0        0.0   ...            0.0       0.0        0.0   \n",
       "3        0.0       0.0        0.0   ...            0.0       0.0        0.0   \n",
       "4        0.0       0.0        0.0   ...            0.0       0.0        0.0   \n",
       "\n",
       "   sub_zur  sub_zurich  sub_zvu  sub_zwei  sub_zy  sub_zz  sub_zzz  \n",
       "0      0.0         0.0      0.0       0.0     0.0     0.0      0.0  \n",
       "1      0.0         0.0      0.0       0.0     0.0     0.0      0.0  \n",
       "2      0.0         0.0      0.0       0.0     0.0     0.0      0.0  \n",
       "3      0.0         0.0      0.0       0.0     0.0     0.0      0.0  \n",
       "4      0.0         0.0      0.0       0.0     0.0     0.0      0.0  \n",
       "\n",
       "[5 rows x 28754 columns]"
      ]
     },
     "execution_count": 39,
     "metadata": {},
     "output_type": "execute_result"
    }
   ],
   "source": [
    "subtitles.head(5)"
   ]
  },
  {
   "cell_type": "markdown",
   "metadata": {
    "deletable": false,
    "editable": false,
    "run_control": {
     "frozen": true
    }
   },
   "source": [
    "### Doc2Vec"
   ]
  },
  {
   "cell_type": "code",
   "execution_count": 27,
   "metadata": {
    "deletable": false,
    "editable": false,
    "run_control": {
     "frozen": true
    }
   },
   "outputs": [],
   "source": [
    "def text_to_words(text):\n",
    "    # remove punctuation and whitespace\n",
    "    # but keep hyphens and apostrophes\n",
    "    filtered_text = re.sub(r'[^\\w\\'\\s-]',\n",
    "                           '', text)\n",
    "    return word_tokenize(filtered_text.lower())"
   ]
  },
  {
   "cell_type": "code",
   "execution_count": 28,
   "metadata": {
    "deletable": false,
    "editable": false,
    "run_control": {
     "frozen": true
    }
   },
   "outputs": [
    {
     "name": "stdout",
     "output_type": "stream",
     "text": [
      "CPU times: user 1min 20s, sys: 1.46 s, total: 1min 21s\n",
      "Wall time: 1min 22s\n"
     ]
    }
   ],
   "source": [
    "idxs = df_movies.id.tolist()\n",
    "%time sub_words = [text_to_words(text) for text in df_movies.subtitles.tolist()]\n",
    "subs = dict(zip(idxs, sub_words))"
   ]
  },
  {
   "cell_type": "code",
   "execution_count": 29,
   "metadata": {
    "deletable": false,
    "editable": false,
    "run_control": {
     "frozen": true
    }
   },
   "outputs": [
    {
     "name": "stdout",
     "output_type": "stream",
     "text": [
      "CPU times: user 395 ms, sys: 566 ms, total: 961 ms\n",
      "Wall time: 956 ms\n"
     ]
    }
   ],
   "source": [
    "%time tagged_data = [TaggedDocument(words=word_list, tags=[index]) for index, word_list in subs.items()]"
   ]
  },
  {
   "cell_type": "markdown",
   "metadata": {
    "deletable": false,
    "editable": false,
    "run_control": {
     "frozen": true
    }
   },
   "source": [
    "#### Model 1: not pretrained"
   ]
  },
  {
   "cell_type": "code",
   "execution_count": 30,
   "metadata": {
    "deletable": false,
    "editable": false,
    "run_control": {
     "frozen": true
    }
   },
   "outputs": [
    {
     "name": "stdout",
     "output_type": "stream",
     "text": [
      "CPU times: user 11.7 s, sys: 1.06 s, total: 12.8 s\n",
      "Wall time: 13.4 s\n"
     ]
    }
   ],
   "source": [
    "model = Doc2Vec(vector_size=50, min_count=2, workers=4)\n",
    "%time model.build_vocab(tagged_data)"
   ]
  },
  {
   "cell_type": "code",
   "execution_count": 31,
   "metadata": {
    "deletable": false,
    "editable": false,
    "run_control": {
     "frozen": true
    }
   },
   "outputs": [
    {
     "name": "stdout",
     "output_type": "stream",
     "text": [
      "CPU times: user 3min 4s, sys: 1.46 s, total: 3min 5s\n",
      "Wall time: 52.1 s\n"
     ]
    }
   ],
   "source": [
    "%time model.train(tagged_data, total_examples=model.corpus_count, epochs=model.epochs)"
   ]
  },
  {
   "cell_type": "markdown",
   "metadata": {
    "deletable": false,
    "editable": false,
    "run_control": {
     "frozen": true
    }
   },
   "source": [
    "#### Model 2: using pretrained word2vec weights"
   ]
  },
  {
   "cell_type": "code",
   "execution_count": 32,
   "metadata": {
    "deletable": false,
    "editable": false,
    "run_control": {
     "frozen": true
    }
   },
   "outputs": [],
   "source": [
    "# download glove.6B.50d.txt from\n",
    "# https://www.kaggle.com/rtatman/glove-global-vectors-for-word-representation/version/1\n",
    "# run following command to convert to word2vec format (extra line at the top)\n",
    "# python -m gensim.scripts.glove2word2vec -i glove.6B.50d.txt -o glove.6B.50d.word2vec.txt\n",
    "# https://github.com/RaRe-Technologies/gensim/blob/4543646d3fe3496e11bc935e72cbf9b18504442e/gensim/models/word2vec.py"
   ]
  },
  {
   "cell_type": "code",
   "execution_count": 33,
   "metadata": {
    "deletable": false,
    "editable": false,
    "run_control": {
     "frozen": true
    }
   },
   "outputs": [
    {
     "name": "stdout",
     "output_type": "stream",
     "text": [
      "CPU times: user 5.75 s, sys: 42.2 ms, total: 5.79 s\n",
      "Wall time: 5.81 s\n"
     ]
    }
   ],
   "source": [
    "word2vec = Word2Vec(size=50)\n",
    "%time word2vec.build_vocab([word for text in tagged_data for word in text])"
   ]
  },
  {
   "cell_type": "code",
   "execution_count": 34,
   "metadata": {
    "deletable": false,
    "editable": false,
    "run_control": {
     "frozen": true
    },
    "scrolled": true
   },
   "outputs": [
    {
     "name": "stdout",
     "output_type": "stream",
     "text": [
      "CPU times: user 12.6 s, sys: 64.1 ms, total: 12.7 s\n",
      "Wall time: 12.7 s\n"
     ]
    }
   ],
   "source": [
    "# lockf=0 doesn't train word vectors any further, 1.0 does.\n",
    "# glove_path = \"/Users/xhan/OneDrive/dataset/glove/glove.6B.50d.word2vec.txt\"\n",
    "glove_path = \"/Users/weiwei/data/glove/glove.6B.50d.word2vec.txt\"\n",
    "%time word2vec.intersect_word2vec_format(glove_path, lockf=1.0, binary=False, encoding='utf8', unicode_errors='strict')"
   ]
  },
  {
   "cell_type": "code",
   "execution_count": 35,
   "metadata": {
    "deletable": false,
    "editable": false,
    "run_control": {
     "frozen": true
    }
   },
   "outputs": [
    {
     "name": "stdout",
     "output_type": "stream",
     "text": [
      "CPU times: user 2min 56s, sys: 1.21 s, total: 2min 57s\n",
      "Wall time: 49.6 s\n"
     ]
    }
   ],
   "source": [
    "model_pretrained = Doc2Vec(vector_size=50, min_count=2, workers=4)\n",
    "model_pretrained.build_vocab(tagged_data)\n",
    "model_pretrained.wv = word2vec.wv\n",
    "%time model_pretrained.train(tagged_data, total_examples=model.corpus_count, epochs=model.epochs)"
   ]
  },
  {
   "cell_type": "code",
   "execution_count": 36,
   "metadata": {
    "deletable": false,
    "editable": false,
    "run_control": {
     "frozen": true
    }
   },
   "outputs": [],
   "source": [
    "def infer_docvecs(df):\n",
    "    docvecs = []\n",
    "    for index in tqdm(df.id.tolist()):\n",
    "        word_list = subs[index]\n",
    "        vec = model_pretrained.infer_vector(word_list, steps=20)\n",
    "        docvecs.append(vec)\n",
    "    docvecs = np.array(docvecs, dtype=np.float32)\n",
    "    return docvecs"
   ]
  },
  {
   "cell_type": "code",
   "execution_count": 37,
   "metadata": {
    "deletable": false,
    "editable": false,
    "run_control": {
     "frozen": true
    },
    "scrolled": true
   },
   "outputs": [
    {
     "name": "stderr",
     "output_type": "stream",
     "text": [
      "100%|██████████| 3036/3036 [09:02<00:00,  5.60it/s]\n"
     ]
    },
    {
     "data": {
      "text/plain": [
       "(3036, 50)"
      ]
     },
     "execution_count": 37,
     "metadata": {},
     "output_type": "execute_result"
    }
   ],
   "source": [
    "movies_docvecs = infer_docvecs(df_movies)\n",
    "movies_docvecs.shape"
   ]
  },
  {
   "cell_type": "markdown",
   "metadata": {},
   "source": [
    "## Cast names -- CountVectorizer"
   ]
  },
  {
   "cell_type": "code",
   "execution_count": 19,
   "metadata": {
    "ExecuteTime": {
     "end_time": "2018-12-06T22:52:23.609801Z",
     "start_time": "2018-12-06T22:52:22.482511Z"
    }
   },
   "outputs": [],
   "source": [
    "from sklearn.feature_extraction.text import CountVectorizer\n",
    "\n",
    "# concatenate names and join the list of names to a string\n",
    "df_movies['cast'] = df_movies['cast'].apply(concat_names).apply(list2str)\n",
    "\n",
    "vectorizer = CountVectorizer(ngram_range=(1, 1))\n",
    "cast_vect = vectorizer.fit_transform(df_movies['cast'])\n",
    "\n",
    "cast = pd.DataFrame(cast_vect.todense(),\n",
    "                    columns=vectorizer.get_feature_names()).add_prefix('cast_')"
   ]
  },
  {
   "cell_type": "markdown",
   "metadata": {},
   "source": [
    "## Budget + Revenue -- deal with abnormal values"
   ]
  },
  {
   "cell_type": "markdown",
   "metadata": {},
   "source": [
    "There are some movies in the data set has less than $100 budget, which obviously does not make any sense. So we need to deal with these abnormal values."
   ]
  },
  {
   "cell_type": "code",
   "execution_count": 20,
   "metadata": {
    "ExecuteTime": {
     "end_time": "2018-12-06T22:52:23.617602Z",
     "start_time": "2018-12-06T22:52:23.611803Z"
    }
   },
   "outputs": [
    {
     "data": {
      "text/plain": [
       "343"
      ]
     },
     "execution_count": 20,
     "metadata": {},
     "output_type": "execute_result"
    }
   ],
   "source": [
    "# number of movies with less than $100 budget\n",
    "df_movies.loc[(df_movies.budget < 100)].shape[0]"
   ]
  },
  {
   "cell_type": "markdown",
   "metadata": {},
   "source": [
    "For these 107 movies with less than \\\\$100 budget and more than \\\\$10000 revenue, we use `revenue + overview + popularity + release_date` to predict the actual budget."
   ]
  },
  {
   "cell_type": "code",
   "execution_count": 21,
   "metadata": {
    "ExecuteTime": {
     "end_time": "2018-12-06T22:52:23.626224Z",
     "start_time": "2018-12-06T22:52:23.619297Z"
    },
    "scrolled": true
   },
   "outputs": [
    {
     "data": {
      "text/plain": [
       "(72, 21)"
      ]
     },
     "execution_count": 21,
     "metadata": {},
     "output_type": "execute_result"
    }
   ],
   "source": [
    "df_movies.loc[(df_movies.budget < 100) & (df_movies.revenue > 10000)].shape"
   ]
  },
  {
   "cell_type": "code",
   "execution_count": 22,
   "metadata": {
    "ExecuteTime": {
     "end_time": "2018-12-06T22:52:33.227136Z",
     "start_time": "2018-12-06T22:52:23.628765Z"
    },
    "scrolled": true
   },
   "outputs": [
    {
     "name": "stderr",
     "output_type": "stream",
     "text": [
      "/anaconda3/envs/ml/lib/python3.6/site-packages/sklearn/ensemble/forest.py:248: FutureWarning: The default value of n_estimators will change from 10 in version 0.20 to 100 in 0.22.\n",
      "  \"10 in version 0.20 to 100 in 0.22.\", FutureWarning)\n"
     ]
    }
   ],
   "source": [
    "from sklearn import ensemble\n",
    "\n",
    "\n",
    "def predict_budget1(dataset):\n",
    "    \"\"\"Predict budget of movies with less than $100 budget and more than $10000 revenue\"\"\"\n",
    "    data_p = dataset[['revenue', 'popularity', 'budget']]\n",
    "    data_p = pd.concat([data_p, overview_docvecs], axis=1)\n",
    "\n",
    "    x_train = data_p.loc[~(data_p.budget < 100) & (\n",
    "        data_p.revenue > 10000)].drop('budget', 1)\n",
    "    y_train = data_p.loc[~(data_p.budget < 100) &\n",
    "                         (data_p.revenue > 10000)]['budget']\n",
    "    x_test = data_p.loc[(data_p.budget < 100) & (\n",
    "        data_p.revenue > 10000)].drop('budget', 1)\n",
    "\n",
    "    rfr = ensemble.RandomForestRegressor(random_state=42)\n",
    "    rfr.fit(x_train, y_train)\n",
    "\n",
    "    y_test = rfr.predict(x_test)\n",
    "    return y_test\n",
    "\n",
    "\n",
    "df_movies.loc[(df_movies.budget < 100) &\n",
    "              (df_movies.revenue > 10000), 'budget'] = predict_budget1(df_movies)"
   ]
  },
  {
   "cell_type": "code",
   "execution_count": 23,
   "metadata": {
    "ExecuteTime": {
     "end_time": "2018-12-06T22:52:33.235369Z",
     "start_time": "2018-12-06T22:52:33.229177Z"
    }
   },
   "outputs": [
    {
     "data": {
      "text/plain": [
       "(0, 21)"
      ]
     },
     "execution_count": 23,
     "metadata": {},
     "output_type": "execute_result"
    }
   ],
   "source": [
    "# check\n",
    "df_movies.loc[(df_movies.budget < 100) & (df_movies.revenue > 10000)].shape"
   ]
  },
  {
   "cell_type": "markdown",
   "metadata": {},
   "source": [
    "For others whose revenue are below $10000, use `overview + popularity + release_date` to predict budget"
   ]
  },
  {
   "cell_type": "code",
   "execution_count": 24,
   "metadata": {
    "ExecuteTime": {
     "end_time": "2018-12-06T22:52:33.242986Z",
     "start_time": "2018-12-06T22:52:33.237333Z"
    }
   },
   "outputs": [
    {
     "data": {
      "text/plain": [
       "(271, 21)"
      ]
     },
     "execution_count": 24,
     "metadata": {},
     "output_type": "execute_result"
    }
   ],
   "source": [
    "df_movies.loc[(df_movies.budget < 100)].shape"
   ]
  },
  {
   "cell_type": "code",
   "execution_count": 25,
   "metadata": {
    "ExecuteTime": {
     "end_time": "2018-12-06T22:52:50.338805Z",
     "start_time": "2018-12-06T22:52:33.245257Z"
    },
    "scrolled": true
   },
   "outputs": [
    {
     "name": "stderr",
     "output_type": "stream",
     "text": [
      "/anaconda3/envs/ml/lib/python3.6/site-packages/sklearn/ensemble/forest.py:248: FutureWarning: The default value of n_estimators will change from 10 in version 0.20 to 100 in 0.22.\n",
      "  \"10 in version 0.20 to 100 in 0.22.\", FutureWarning)\n"
     ]
    }
   ],
   "source": [
    "def predict_budget2(dataset):\n",
    "    \"\"\"Predict budget of movies with less than $100 budget and less than $10000 revenue\"\"\"\n",
    "    data_p = dataset[['popularity', 'budget']]\n",
    "    data_p = pd.concat([data_p, overview_docvecs], axis=1)\n",
    "\n",
    "    x_train = data_p.loc[~(data_p.budget < 100)].drop('budget', 1)\n",
    "    y_train = data_p.loc[~(data_p.budget < 100)]['budget']\n",
    "    x_test = data_p.loc[(data_p.budget < 100) & (\n",
    "        df_movies.revenue <= 10000)].drop('budget', 1)\n",
    "\n",
    "    rfr = ensemble.RandomForestRegressor(random_state=42)\n",
    "    rfr.fit(x_train, y_train)\n",
    "#     print(x_test.shape)\n",
    "    y_test = rfr.predict(x_test)\n",
    "    return y_test\n",
    "\n",
    "\n",
    "df_movies.loc[(df_movies.budget < 100) & (df_movies.revenue <=\n",
    "                                          10000), 'budget'] = predict_budget2(df_movies)"
   ]
  },
  {
   "cell_type": "code",
   "execution_count": 26,
   "metadata": {
    "ExecuteTime": {
     "end_time": "2018-12-06T22:52:50.345872Z",
     "start_time": "2018-12-06T22:52:50.340882Z"
    }
   },
   "outputs": [
    {
     "data": {
      "text/plain": [
       "(0, 21)"
      ]
     },
     "execution_count": 26,
     "metadata": {},
     "output_type": "execute_result"
    }
   ],
   "source": [
    "df_movies.loc[(df_movies.budget < 100)].shape"
   ]
  },
  {
   "cell_type": "markdown",
   "metadata": {},
   "source": [
    "## Keywords + tagline"
   ]
  },
  {
   "cell_type": "markdown",
   "metadata": {},
   "source": [
    "Maybe we should not use tagline as a feature, two reasons:  \n",
    "+ tagline is too short for each movie, and has almost no overlap across movies\n",
    "+ Even, as a human, I cannot have a good guess of the movie genres reading only the tagline when I already know the movie."
   ]
  },
  {
   "cell_type": "code",
   "execution_count": 27,
   "metadata": {
    "ExecuteTime": {
     "end_time": "2018-12-06T22:52:50.362100Z",
     "start_time": "2018-12-06T22:52:50.347801Z"
    }
   },
   "outputs": [
    {
     "name": "stdout",
     "output_type": "stream",
     "text": [
      "124\n"
     ]
    },
    {
     "data": {
      "text/plain": [
       "[('duringcreditsstinger', 252),\n",
       " ('woman director', 182),\n",
       " ('independent film', 155),\n",
       " ('based on novel', 146),\n",
       " ('aftercreditsstinger', 138),\n",
       " ('murder', 136),\n",
       " ('violence', 111),\n",
       " ('dystopia', 109),\n",
       " ('revenge', 89),\n",
       " ('sport', 86),\n",
       " ('3d', 81),\n",
       " ('sequel', 79),\n",
       " ('friendship', 78),\n",
       " ('teenager', 74),\n",
       " ('sex', 73),\n",
       " ('musical', 70),\n",
       " ('suspense', 67),\n",
       " ('los angeles', 66),\n",
       " ('love', 63),\n",
       " ('new york', 62),\n",
       " ('high school', 62),\n",
       " ('alien', 60),\n",
       " ('superhero', 59),\n",
       " ('biography', 58),\n",
       " ('family', 54),\n",
       " ('police', 53),\n",
       " ('remake', 50),\n",
       " ('prison', 48),\n",
       " ('nudity', 48),\n",
       " ('drug', 48),\n",
       " ('based on comic book', 47),\n",
       " ('dying and death', 47),\n",
       " ('corruption', 46),\n",
       " ('serial killer', 46),\n",
       " ('airplane', 43),\n",
       " ('wedding', 43),\n",
       " ('magic', 42),\n",
       " ('father son relationship', 42),\n",
       " ('fbi', 42),\n",
       " ('friends', 41),\n",
       " ('london england', 41),\n",
       " ('daughter', 40),\n",
       " ('time travel', 40),\n",
       " ('party', 40),\n",
       " ('lawyer', 39),\n",
       " ('based on young adult novel', 38),\n",
       " ('cia', 38),\n",
       " ('brother brother relationship', 37),\n",
       " ('kidnapping', 37),\n",
       " ('suicide', 37),\n",
       " ('hospital', 36),\n",
       " ('survival', 36),\n",
       " ('investigation', 36),\n",
       " ('escape', 35),\n",
       " ('best friend', 35),\n",
       " ('vampire', 35),\n",
       " ('witch', 34),\n",
       " ('world war ii', 34),\n",
       " ('blood', 34),\n",
       " ('undercover', 33),\n",
       " ('fight', 33),\n",
       " ('christmas', 33),\n",
       " ('rescue', 33),\n",
       " ('martial arts', 33),\n",
       " ('small town', 33),\n",
       " ('marvel comic', 32),\n",
       " ('assassin', 32),\n",
       " ('flashback', 32),\n",
       " ('future', 31),\n",
       " ('conspiracy', 31),\n",
       " ('shootout', 31),\n",
       " ('female nudity', 31),\n",
       " (\"love of one's life\", 30),\n",
       " ('spy', 30),\n",
       " ('terrorist', 30),\n",
       " ('secret', 30),\n",
       " ('explosion', 30),\n",
       " ('music', 30),\n",
       " ('saving the world', 29),\n",
       " ('new love', 29),\n",
       " ('secret identity', 28),\n",
       " ('death', 28),\n",
       " ('college', 28),\n",
       " ('dream', 28),\n",
       " ('dog', 28),\n",
       " ('rape', 28),\n",
       " ('robbery', 28),\n",
       " ('new york city', 28),\n",
       " ('based on true story', 28),\n",
       " ('gore', 28),\n",
       " ('fbi agent', 28),\n",
       " ('soldier', 27),\n",
       " ('monster', 27),\n",
       " ('war', 27),\n",
       " ('zombie', 27),\n",
       " ('holiday', 27),\n",
       " ('money', 27),\n",
       " ('ghost', 27),\n",
       " ('jealousy', 27),\n",
       " ('hitman', 27),\n",
       " ('journalist', 27),\n",
       " ('detective', 27),\n",
       " ('blackmail', 27),\n",
       " ('marriage', 26),\n",
       " ('wife husband relationship', 26),\n",
       " ('competition', 26),\n",
       " ('helicopter', 26),\n",
       " ('sister sister relationship', 26),\n",
       " ('obsession', 25),\n",
       " ('alcohol', 25),\n",
       " ('usa president', 25),\n",
       " ('divorce', 25),\n",
       " ('slasher', 25),\n",
       " ('gay', 25),\n",
       " ('scientist', 24),\n",
       " ('england', 23),\n",
       " ('teacher', 23),\n",
       " ('hotel', 23),\n",
       " ('romantic comedy', 23),\n",
       " ('chase', 22),\n",
       " ('prostitute', 22),\n",
       " ('paris', 21),\n",
       " ('adultery', 21),\n",
       " ('gangster', 19)]"
      ]
     },
     "execution_count": 27,
     "metadata": {},
     "output_type": "execute_result"
    }
   ],
   "source": [
    "# check all keywords and their count\n",
    "kw_all = defaultdict(int)\n",
    "\n",
    "for cell in df_movies.keywords:\n",
    "    for kw in cell:\n",
    "        kw_all[kw] += 1\n",
    "\n",
    "print(len(kw_all))\n",
    "sorted(kw_all.items(), key=lambda x: x[1], reverse=True)"
   ]
  },
  {
   "cell_type": "code",
   "execution_count": 28,
   "metadata": {
    "ExecuteTime": {
     "end_time": "2018-12-06T22:52:50.377376Z",
     "start_time": "2018-12-06T22:52:50.364079Z"
    }
   },
   "outputs": [],
   "source": [
    "from sklearn.preprocessing import MultiLabelBinarizer\n",
    "mlb = MultiLabelBinarizer()\n",
    "\n",
    "keywords_dummies = pd.DataFrame(mlb.fit_transform(\n",
    "    df_movies['keywords']), columns=mlb.classes_).add_prefix('kw_')"
   ]
  },
  {
   "cell_type": "markdown",
   "metadata": {},
   "source": [
    "## production_companies"
   ]
  },
  {
   "cell_type": "code",
   "execution_count": 29,
   "metadata": {
    "ExecuteTime": {
     "end_time": "2018-12-06T22:52:50.415782Z",
     "start_time": "2018-12-06T22:52:50.379037Z"
    }
   },
   "outputs": [],
   "source": [
    "prod_com = pd.DataFrame(mlb.fit_transform(\n",
    "    df_movies['production_companies']), columns=mlb.classes_).add_prefix('prodComp_')"
   ]
  },
  {
   "cell_type": "markdown",
   "metadata": {},
   "source": [
    "## production_countries"
   ]
  },
  {
   "cell_type": "code",
   "execution_count": 30,
   "metadata": {
    "ExecuteTime": {
     "end_time": "2018-12-06T22:52:50.440031Z",
     "start_time": "2018-12-06T22:52:50.418569Z"
    }
   },
   "outputs": [],
   "source": [
    "prod_coun = pd.DataFrame(mlb.fit_transform(\n",
    "    df_movies['production_countries']), columns=mlb.classes_).add_prefix('prodComp_')"
   ]
  },
  {
   "cell_type": "markdown",
   "metadata": {},
   "source": [
    "## release_date"
   ]
  },
  {
   "cell_type": "code",
   "execution_count": 31,
   "metadata": {
    "ExecuteTime": {
     "end_time": "2018-12-06T22:52:50.511690Z",
     "start_time": "2018-12-06T22:52:50.442387Z"
    }
   },
   "outputs": [],
   "source": [
    "# df_movies['year_bucket'] =\n",
    "years = pd.get_dummies(df_movies.apply(\n",
    "    lambda row: str(row.release_date)[:3], axis=1))\n",
    "years['before97'] = years.iloc[:, :6].sum(axis=1)\n",
    "years = years.iloc[:, 6:]"
   ]
  },
  {
   "cell_type": "markdown",
   "metadata": {},
   "source": [
    "## popularity + vote_average + vote_count"
   ]
  },
  {
   "cell_type": "code",
   "execution_count": 32,
   "metadata": {
    "ExecuteTime": {
     "end_time": "2018-12-06T22:52:50.528110Z",
     "start_time": "2018-12-06T22:52:50.513901Z"
    }
   },
   "outputs": [],
   "source": [
    "# df_movies.loc[df_movies['vote_average']!=0].vote_average.mean()\n",
    "df_movies.loc[df_movies['vote_average'] == 0,\n",
    "              'vote_average'] = df_movies.loc[df_movies['vote_average'] != 0].vote_average.mean()\n",
    "df_movies.loc[df_movies['vote_count'] == 0,\n",
    "              'vote_count'] = df_movies.loc[df_movies['vote_count'] != 0].vote_count.mean()"
   ]
  },
  {
   "cell_type": "markdown",
   "metadata": {},
   "source": [
    "# Result-dataset"
   ]
  },
  {
   "cell_type": "code",
   "execution_count": 79,
   "metadata": {
    "ExecuteTime": {
     "end_time": "2018-12-06T23:08:07.984496Z",
     "start_time": "2018-12-06T23:08:07.980116Z"
    }
   },
   "outputs": [],
   "source": [
    "df_movies = df_movies.reset_index(drop=True)"
   ]
  },
  {
   "cell_type": "code",
   "execution_count": 80,
   "metadata": {
    "ExecuteTime": {
     "end_time": "2018-12-06T23:08:08.320884Z",
     "start_time": "2018-12-06T23:08:08.313866Z"
    }
   },
   "outputs": [
    {
     "data": {
      "text/plain": [
       "Index(['id', 'budget', 'genres', 'keywords', 'original_language', 'overview',\n",
       "       'popularity', 'production_companies', 'production_countries',\n",
       "       'release_date', 'revenue', 'runtime', 'spoken_languages', 'tagline',\n",
       "       'title', 'vote_average', 'vote_count', 'cast', 'subtitles',\n",
       "       'female_pct', 'male_pct'],\n",
       "      dtype='object')"
      ]
     },
     "execution_count": 80,
     "metadata": {},
     "output_type": "execute_result"
    }
   ],
   "source": [
    "df_movies.columns"
   ]
  },
  {
   "cell_type": "markdown",
   "metadata": {},
   "source": [
    "Besides the modified dataframe, we also have three vectorized features: overview, cast names, and keywords.  \n",
    "\n",
    "\n",
    "**Features** (so far ready to use):  \n",
    "+ **numeric**: budget, revenue, female_pct, male_pct, runtime \n",
    "+ **text(vectorized)**: keywords, overview, cast(names)\n",
    "\n",
    "**Labels**:  \n",
    "20 genres, i.e., `genre_*`"
   ]
  },
  {
   "cell_type": "code",
   "execution_count": 81,
   "metadata": {
    "ExecuteTime": {
     "end_time": "2018-12-06T23:08:09.485101Z",
     "start_time": "2018-12-06T23:08:09.473743Z"
    }
   },
   "outputs": [],
   "source": [
    "# labels\n",
    "from sklearn.preprocessing import MultiLabelBinarizer\n",
    "\n",
    "mlb = MultiLabelBinarizer()\n",
    "genres_dummies = pd.DataFrame(mlb.fit_transform(\n",
    "    df_movies['genres']), columns=mlb.classes_).add_prefix('genre_')"
   ]
  },
  {
   "cell_type": "code",
   "execution_count": 82,
   "metadata": {
    "ExecuteTime": {
     "end_time": "2018-12-06T23:08:09.912077Z",
     "start_time": "2018-12-06T23:08:09.877788Z"
    },
    "scrolled": true
   },
   "outputs": [
    {
     "data": {
      "text/html": [
       "<div>\n",
       "<style scoped>\n",
       "    .dataframe tbody tr th:only-of-type {\n",
       "        vertical-align: middle;\n",
       "    }\n",
       "\n",
       "    .dataframe tbody tr th {\n",
       "        vertical-align: top;\n",
       "    }\n",
       "\n",
       "    .dataframe thead th {\n",
       "        text-align: right;\n",
       "    }\n",
       "</style>\n",
       "<table border=\"1\" class=\"dataframe\">\n",
       "  <thead>\n",
       "    <tr style=\"text-align: right;\">\n",
       "      <th></th>\n",
       "      <th>id</th>\n",
       "      <th>budget</th>\n",
       "      <th>genres</th>\n",
       "      <th>keywords</th>\n",
       "      <th>original_language</th>\n",
       "      <th>overview</th>\n",
       "      <th>popularity</th>\n",
       "      <th>production_companies</th>\n",
       "      <th>production_countries</th>\n",
       "      <th>release_date</th>\n",
       "      <th>...</th>\n",
       "      <th>runtime</th>\n",
       "      <th>spoken_languages</th>\n",
       "      <th>tagline</th>\n",
       "      <th>title</th>\n",
       "      <th>vote_average</th>\n",
       "      <th>vote_count</th>\n",
       "      <th>cast</th>\n",
       "      <th>subtitles</th>\n",
       "      <th>female_pct</th>\n",
       "      <th>male_pct</th>\n",
       "    </tr>\n",
       "  </thead>\n",
       "  <tbody>\n",
       "    <tr>\n",
       "      <th>0</th>\n",
       "      <td>19995</td>\n",
       "      <td>237000000.0</td>\n",
       "      <td>[Action, Adventure, Fantasy, Science Fiction]</td>\n",
       "      <td>[future, alien, soldier, 3d]</td>\n",
       "      <td>en</td>\n",
       "      <td>In the 22nd century, a paraplegic Marine is di...</td>\n",
       "      <td>150.437577</td>\n",
       "      <td>[Ingenious Film Partners, Twentieth Century Fo...</td>\n",
       "      <td>[United States of America, United Kingdom]</td>\n",
       "      <td>2009-12-10</td>\n",
       "      <td>...</td>\n",
       "      <td>162.0</td>\n",
       "      <td>[English, Español]</td>\n",
       "      <td>Enter the World of Pandora.</td>\n",
       "      <td>Avatar</td>\n",
       "      <td>7.2</td>\n",
       "      <td>11800.0</td>\n",
       "      <td>SamWorthington ZoeSaldana SigourneyWeaver Step...</td>\n",
       "      <td>When I was lying there\\nin the VA hospital,\\n\\...</td>\n",
       "      <td>0.374988</td>\n",
       "      <td>0.624980</td>\n",
       "    </tr>\n",
       "    <tr>\n",
       "      <th>1</th>\n",
       "      <td>285</td>\n",
       "      <td>300000000.0</td>\n",
       "      <td>[Adventure, Fantasy, Action]</td>\n",
       "      <td>[love of one's life, aftercreditsstinger]</td>\n",
       "      <td>en</td>\n",
       "      <td>Captain Barbossa, long believed to be dead, ha...</td>\n",
       "      <td>139.082615</td>\n",
       "      <td>[Walt Disney Pictures, Jerry Bruckheimer Films]</td>\n",
       "      <td>[United States of America]</td>\n",
       "      <td>2007-05-19</td>\n",
       "      <td>...</td>\n",
       "      <td>169.0</td>\n",
       "      <td>[English]</td>\n",
       "      <td>At the end of the world, the adventure begins.</td>\n",
       "      <td>Pirates of the Caribbean: At World's End</td>\n",
       "      <td>6.9</td>\n",
       "      <td>4500.0</td>\n",
       "      <td>JohnnyDepp OrlandoBloom KeiraKnightley Stellan...</td>\n",
       "      <td>[man] \"ln order to affect a timely halt\\nto de...</td>\n",
       "      <td>0.166661</td>\n",
       "      <td>0.833306</td>\n",
       "    </tr>\n",
       "    <tr>\n",
       "      <th>2</th>\n",
       "      <td>206647</td>\n",
       "      <td>245000000.0</td>\n",
       "      <td>[Action, Adventure, Crime]</td>\n",
       "      <td>[spy, based on novel, sequel]</td>\n",
       "      <td>en</td>\n",
       "      <td>A cryptic message from Bond’s past sends him o...</td>\n",
       "      <td>107.376788</td>\n",
       "      <td>[Columbia Pictures, Danjaq]</td>\n",
       "      <td>[United Kingdom, United States of America]</td>\n",
       "      <td>2015-10-26</td>\n",
       "      <td>...</td>\n",
       "      <td>148.0</td>\n",
       "      <td>[Français, English, Español, Italiano, Deutsch]</td>\n",
       "      <td>A Plan No One Escapes</td>\n",
       "      <td>Spectre</td>\n",
       "      <td>6.3</td>\n",
       "      <td>4466.0</td>\n",
       "      <td>DanielCraig ChristophWaltz LéaSeydoux RalphFie...</td>\n",
       "      <td>Where are you going?\\n\\nI won't be long.\\n\\nWe...</td>\n",
       "      <td>0.191174</td>\n",
       "      <td>0.808812</td>\n",
       "    </tr>\n",
       "    <tr>\n",
       "      <th>3</th>\n",
       "      <td>49026</td>\n",
       "      <td>250000000.0</td>\n",
       "      <td>[Action, Crime, Drama, Thriller]</td>\n",
       "      <td>[terrorist, secret identity, superhero]</td>\n",
       "      <td>en</td>\n",
       "      <td>Following the death of District Attorney Harve...</td>\n",
       "      <td>112.312950</td>\n",
       "      <td>[Legendary Pictures, Warner Bros., DC Entertai...</td>\n",
       "      <td>[United States of America]</td>\n",
       "      <td>2012-07-16</td>\n",
       "      <td>...</td>\n",
       "      <td>165.0</td>\n",
       "      <td>[English]</td>\n",
       "      <td>The Legend Ends</td>\n",
       "      <td>The Dark Knight Rises</td>\n",
       "      <td>7.6</td>\n",
       "      <td>9106.0</td>\n",
       "      <td>ChristianBale MichaelCaine GaryOldman AnneHath...</td>\n",
       "      <td>I knew Harvey Dent.\\n\\nI was his friend.\\n\\nAn...</td>\n",
       "      <td>0.130951</td>\n",
       "      <td>0.869037</td>\n",
       "    </tr>\n",
       "    <tr>\n",
       "      <th>4</th>\n",
       "      <td>49529</td>\n",
       "      <td>260000000.0</td>\n",
       "      <td>[Action, Adventure, Science Fiction]</td>\n",
       "      <td>[based on novel, alien, escape, 3d]</td>\n",
       "      <td>en</td>\n",
       "      <td>John Carter is a war-weary, former military ca...</td>\n",
       "      <td>43.926995</td>\n",
       "      <td>[Walt Disney Pictures]</td>\n",
       "      <td>[United States of America]</td>\n",
       "      <td>2012-03-07</td>\n",
       "      <td>...</td>\n",
       "      <td>132.0</td>\n",
       "      <td>[English]</td>\n",
       "      <td>Lost in our world, found in another.</td>\n",
       "      <td>John Carter</td>\n",
       "      <td>6.1</td>\n",
       "      <td>2124.0</td>\n",
       "      <td>TaylorKitsch LynnCollins SamanthaMorton Willem...</td>\n",
       "      <td>Subtitles downloaded from Podnapisi.NET\\n\\nMar...</td>\n",
       "      <td>0.239990</td>\n",
       "      <td>0.759970</td>\n",
       "    </tr>\n",
       "  </tbody>\n",
       "</table>\n",
       "<p>5 rows × 21 columns</p>\n",
       "</div>"
      ],
      "text/plain": [
       "       id       budget                                         genres  \\\n",
       "0   19995  237000000.0  [Action, Adventure, Fantasy, Science Fiction]   \n",
       "1     285  300000000.0                   [Adventure, Fantasy, Action]   \n",
       "2  206647  245000000.0                     [Action, Adventure, Crime]   \n",
       "3   49026  250000000.0               [Action, Crime, Drama, Thriller]   \n",
       "4   49529  260000000.0           [Action, Adventure, Science Fiction]   \n",
       "\n",
       "                                    keywords original_language  \\\n",
       "0               [future, alien, soldier, 3d]                en   \n",
       "1  [love of one's life, aftercreditsstinger]                en   \n",
       "2              [spy, based on novel, sequel]                en   \n",
       "3    [terrorist, secret identity, superhero]                en   \n",
       "4        [based on novel, alien, escape, 3d]                en   \n",
       "\n",
       "                                            overview  popularity  \\\n",
       "0  In the 22nd century, a paraplegic Marine is di...  150.437577   \n",
       "1  Captain Barbossa, long believed to be dead, ha...  139.082615   \n",
       "2  A cryptic message from Bond’s past sends him o...  107.376788   \n",
       "3  Following the death of District Attorney Harve...  112.312950   \n",
       "4  John Carter is a war-weary, former military ca...   43.926995   \n",
       "\n",
       "                                production_companies  \\\n",
       "0  [Ingenious Film Partners, Twentieth Century Fo...   \n",
       "1    [Walt Disney Pictures, Jerry Bruckheimer Films]   \n",
       "2                        [Columbia Pictures, Danjaq]   \n",
       "3  [Legendary Pictures, Warner Bros., DC Entertai...   \n",
       "4                             [Walt Disney Pictures]   \n",
       "\n",
       "                         production_countries release_date    ...     runtime  \\\n",
       "0  [United States of America, United Kingdom]   2009-12-10    ...       162.0   \n",
       "1                  [United States of America]   2007-05-19    ...       169.0   \n",
       "2  [United Kingdom, United States of America]   2015-10-26    ...       148.0   \n",
       "3                  [United States of America]   2012-07-16    ...       165.0   \n",
       "4                  [United States of America]   2012-03-07    ...       132.0   \n",
       "\n",
       "                                  spoken_languages  \\\n",
       "0                               [English, Español]   \n",
       "1                                        [English]   \n",
       "2  [Français, English, Español, Italiano, Deutsch]   \n",
       "3                                        [English]   \n",
       "4                                        [English]   \n",
       "\n",
       "                                          tagline  \\\n",
       "0                     Enter the World of Pandora.   \n",
       "1  At the end of the world, the adventure begins.   \n",
       "2                           A Plan No One Escapes   \n",
       "3                                 The Legend Ends   \n",
       "4            Lost in our world, found in another.   \n",
       "\n",
       "                                      title vote_average  vote_count  \\\n",
       "0                                    Avatar          7.2     11800.0   \n",
       "1  Pirates of the Caribbean: At World's End          6.9      4500.0   \n",
       "2                                   Spectre          6.3      4466.0   \n",
       "3                     The Dark Knight Rises          7.6      9106.0   \n",
       "4                               John Carter          6.1      2124.0   \n",
       "\n",
       "                                                cast  \\\n",
       "0  SamWorthington ZoeSaldana SigourneyWeaver Step...   \n",
       "1  JohnnyDepp OrlandoBloom KeiraKnightley Stellan...   \n",
       "2  DanielCraig ChristophWaltz LéaSeydoux RalphFie...   \n",
       "3  ChristianBale MichaelCaine GaryOldman AnneHath...   \n",
       "4  TaylorKitsch LynnCollins SamanthaMorton Willem...   \n",
       "\n",
       "                                           subtitles female_pct  male_pct  \n",
       "0  When I was lying there\\nin the VA hospital,\\n\\...   0.374988  0.624980  \n",
       "1  [man] \"ln order to affect a timely halt\\nto de...   0.166661  0.833306  \n",
       "2  Where are you going?\\n\\nI won't be long.\\n\\nWe...   0.191174  0.808812  \n",
       "3  I knew Harvey Dent.\\n\\nI was his friend.\\n\\nAn...   0.130951  0.869037  \n",
       "4  Subtitles downloaded from Podnapisi.NET\\n\\nMar...   0.239990  0.759970  \n",
       "\n",
       "[5 rows x 21 columns]"
      ]
     },
     "execution_count": 82,
     "metadata": {},
     "output_type": "execute_result"
    }
   ],
   "source": [
    "df_movies.head(5)"
   ]
  },
  {
   "cell_type": "raw",
   "metadata": {
    "ExecuteTime": {
     "end_time": "2018-12-06T22:52:50.849049Z",
     "start_time": "2018-12-06T22:52:50.593227Z"
    }
   },
   "source": [
    "# features (subtitles doc2vec)\n",
    "movies_docvecs = pd.DataFrame(movies_docvecs)\n",
    "features = pd.concat((df_movies.loc[:, [\"release_date\", 'budget', 'revenue', 'female_pct', 'male_pct', 'runtime', \n",
    "                                        'vote_average', 'vote_count']],\n",
    "                      cast, keywords_dummies, prod_com, prod_coun, years, movies_docvecs, pd.DataFrame(overview_docvecs)), axis=1)"
   ]
  },
  {
   "cell_type": "code",
   "execution_count": 83,
   "metadata": {
    "ExecuteTime": {
     "end_time": "2018-12-06T23:08:12.521626Z",
     "start_time": "2018-12-06T23:08:11.694819Z"
    }
   },
   "outputs": [],
   "source": [
    "# features (subtitles tfidf)\n",
    "features = pd.concat((df_movies.loc[:, [\"release_date\", 'budget', 'revenue', 'female_pct', 'male_pct', 'runtime',\n",
    "                                        'vote_average', 'vote_count']],\n",
    "                      overview_docvecs, cast, keywords_dummies, prod_com, prod_coun, years, subtitles), axis=1)"
   ]
  },
  {
   "cell_type": "code",
   "execution_count": 84,
   "metadata": {
    "ExecuteTime": {
     "end_time": "2018-12-06T23:08:12.528322Z",
     "start_time": "2018-12-06T23:08:12.523900Z"
    }
   },
   "outputs": [
    {
     "data": {
      "text/plain": [
       "(3036, 47842)"
      ]
     },
     "execution_count": 84,
     "metadata": {},
     "output_type": "execute_result"
    }
   ],
   "source": [
    "features.shape"
   ]
  },
  {
   "cell_type": "markdown",
   "metadata": {},
   "source": [
    "## Drop Labels: Foreign and TV Movie"
   ]
  },
  {
   "cell_type": "code",
   "execution_count": 85,
   "metadata": {
    "ExecuteTime": {
     "end_time": "2018-12-06T23:08:13.190477Z",
     "start_time": "2018-12-06T23:08:13.185400Z"
    }
   },
   "outputs": [
    {
     "data": {
      "text/plain": [
       "(3036, 18)"
      ]
     },
     "execution_count": 85,
     "metadata": {},
     "output_type": "execute_result"
    }
   ],
   "source": [
    "genres_dummies = genres_dummies.drop(\n",
    "    ['genre_Foreign', 'genre_TV Movie'], axis=1)\n",
    "genres_dummies.shape"
   ]
  },
  {
   "cell_type": "code",
   "execution_count": 86,
   "metadata": {
    "ExecuteTime": {
     "end_time": "2018-12-06T23:08:13.569785Z",
     "start_time": "2018-12-06T23:08:13.563092Z"
    },
    "scrolled": false
   },
   "outputs": [
    {
     "data": {
      "text/plain": [
       "genre_Documentary          34\n",
       "genre_Western              49\n",
       "genre_War                  84\n",
       "genre_History              97\n",
       "genre_Music               118\n",
       "genre_Animation           157\n",
       "genre_Mystery             251\n",
       "genre_Fantasy             317\n",
       "genre_Family              356\n",
       "genre_Horror              367\n",
       "genre_Science Fiction     383\n",
       "genre_Crime               474\n",
       "genre_Romance             550\n",
       "genre_Adventure           585\n",
       "genre_Action              810\n",
       "genre_Thriller            896\n",
       "genre_Comedy             1143\n",
       "genre_Drama              1317\n",
       "dtype: int64"
      ]
     },
     "execution_count": 86,
     "metadata": {},
     "output_type": "execute_result"
    }
   ],
   "source": [
    "genres_dummies.sum(axis=0).sort_values()"
   ]
  },
  {
   "cell_type": "code",
   "execution_count": 66,
   "metadata": {
    "deletable": false,
    "editable": false,
    "run_control": {
     "frozen": true
    },
    "scrolled": true
   },
   "outputs": [],
   "source": [
    "genres_dummies.to_csv(\"dataset/genres_dummies.csv\", index=False)\n",
    "features.to_csv(\"dataset/features.csv\", index=False)"
   ]
  },
  {
   "cell_type": "markdown",
   "metadata": {},
   "source": [
    "# Modelling"
   ]
  },
  {
   "cell_type": "markdown",
   "metadata": {},
   "source": [
    "The result is very interesting.  \n",
    "\n",
    "When I use only cast names and gender proportion, the prediction tends to give less genres for each movie than the ground truth (please refer to the `cast_vs_genres` notebook); however, using the eight features I mentioned above, the model tends to give more genres than the ground truth."
   ]
  },
  {
   "cell_type": "markdown",
   "metadata": {},
   "source": [
    "## Split train/test sets according to release date (to better stratify the data)"
   ]
  },
  {
   "cell_type": "raw",
   "metadata": {
    "scrolled": true
   },
   "source": [
    "# Random split might cause unstratified labels\n",
    "from sklearn.model_selection import train_test_split\n",
    "\n",
    "train_data, test_data, train_labels, test_labels = train_test_split(features, genres_dummies,\n",
    "                                                                    test_size=0.2, random_state=42)"
   ]
  },
  {
   "cell_type": "markdown",
   "metadata": {},
   "source": [
    "Split the data using time. train_data: before 2012-01-01; test_data: after 2012-01-01.   \n",
    "The proportion is about 0.8:0.2.   "
   ]
  },
  {
   "cell_type": "code",
   "execution_count": 87,
   "metadata": {
    "ExecuteTime": {
     "end_time": "2018-12-06T23:08:21.982156Z",
     "start_time": "2018-12-06T23:08:17.288616Z"
    }
   },
   "outputs": [],
   "source": [
    "features.release_date = pd.to_datetime(features.release_date)\n",
    "# df.release_date.max(), df.release_date.min()\n",
    "split_date = datetime.datetime(2012, 1, 1)\n",
    "train_data = features[features.release_date < split_date]\n",
    "test_data = features[features.release_date >= split_date]\n",
    "train_labels = genres_dummies[features.release_date < split_date]\n",
    "test_labels = genres_dummies[features.release_date >= split_date]\n",
    "\n",
    "# train_data.shape[0]/features.shape[0], test_data.shape[0]/features.shape[0]\n",
    "train_data.drop([\"release_date\"], axis=1, inplace=True)\n",
    "test_data.drop([\"release_date\"], axis=1, inplace=True)"
   ]
  },
  {
   "cell_type": "code",
   "execution_count": 89,
   "metadata": {
    "ExecuteTime": {
     "end_time": "2018-12-06T23:08:38.057693Z",
     "start_time": "2018-12-06T23:08:33.039032Z"
    }
   },
   "outputs": [
    {
     "name": "stderr",
     "output_type": "stream",
     "text": [
      "/anaconda3/envs/ml/lib/python3.6/site-packages/sklearn/preprocessing/data.py:323: DataConversionWarning: Data with input dtype uint8, int64, float64 were all converted to float64 by MinMaxScaler.\n",
      "  return self.partial_fit(X, y)\n"
     ]
    }
   ],
   "source": [
    "from sklearn.preprocessing import StandardScaler, MinMaxScaler\n",
    "from sklearn.model_selection import GridSearchCV\n",
    "from sklearn.multiclass import OneVsRestClassifier\n",
    "from sklearn.metrics import accuracy_score\n",
    "from sklearn.metrics import f1_score\n",
    "from sklearn.metrics import precision_score\n",
    "from sklearn.metrics import recall_score\n",
    "from sklearn.metrics import classification_report\n",
    "from sklearn.ensemble import RandomForestClassifier\n",
    "\n",
    "scaler = MinMaxScaler()\n",
    "train_data = scaler.fit_transform(train_data)\n",
    "test_data = scaler.transform(test_data)"
   ]
  },
  {
   "cell_type": "markdown",
   "metadata": {},
   "source": [
    "## GridSearchCV on Random Forest"
   ]
  },
  {
   "cell_type": "code",
   "execution_count": null,
   "metadata": {
    "deletable": false,
    "editable": false,
    "run_control": {
     "frozen": true
    },
    "scrolled": true
   },
   "outputs": [],
   "source": [
    "# from xgboost import XGBClassifier\n",
    "\n",
    "rf = OneVsRestClassifier(RandomForestClassifier())\n",
    "grid_params = {\n",
    "    \"estimator__n_estimators\": range(10, 100, 2),\n",
    "    \"estimator__max_features\": range(30, 300, 2),\n",
    "    \"estimator__min_samples_leaf\": range(1, 10, 2)\n",
    "    #     ,\"estimator__oob_score\": [True, False]\n",
    "}\n",
    "gs = GridSearchCV(estimator=rf,\n",
    "                  param_grid=grid_params,\n",
    "                  #                     scoring='recall',\n",
    "                  verbose=5,\n",
    "                  n_jobs=4,\n",
    "                  cv=5)\n",
    "\n",
    "gs.fit(train_data, train_labels)\n",
    "predictions = gs.predict(test_data)"
   ]
  },
  {
   "cell_type": "code",
   "execution_count": 90,
   "metadata": {
    "ExecuteTime": {
     "end_time": "2018-12-06T23:20:32.961278Z",
     "start_time": "2018-12-06T23:13:08.609732Z"
    }
   },
   "outputs": [],
   "source": [
    "rf_best = OneVsRestClassifier(RandomForestClassifier(\n",
    "    max_features=1000, n_estimators=100))\n",
    "rf_best.fit(train_data, train_labels)\n",
    "predictions = rf_best.predict(test_data)"
   ]
  },
  {
   "cell_type": "code",
   "execution_count": 91,
   "metadata": {
    "ExecuteTime": {
     "end_time": "2018-12-06T23:20:33.059659Z",
     "start_time": "2018-12-06T23:20:32.981515Z"
    },
    "deletable": false,
    "editable": false,
    "run_control": {
     "frozen": true
    }
   },
   "outputs": [
    {
     "name": "stdout",
     "output_type": "stream",
     "text": [
      "Subset Accuracy: 0.13270142180094788\n",
      "Global F1 score: 0.41005603507737853\n",
      "Global Precision: 0.7550775394053469\n",
      "Global Recall: 0.31511254019292606\n"
     ]
    },
    {
     "name": "stderr",
     "output_type": "stream",
     "text": [
      "/anaconda3/envs/ml/lib/python3.6/site-packages/sklearn/metrics/classification.py:1143: UndefinedMetricWarning: F-score is ill-defined and being set to 0.0 in labels with no predicted samples.\n",
      "  'precision', 'predicted', average, warn_for)\n",
      "/anaconda3/envs/ml/lib/python3.6/site-packages/sklearn/metrics/classification.py:1143: UndefinedMetricWarning: Precision is ill-defined and being set to 0.0 in labels with no predicted samples.\n",
      "  'precision', 'predicted', average, warn_for)\n"
     ]
    }
   ],
   "source": [
    "accuracy = accuracy_score(y_pred=predictions, y_true=np.array(test_labels))\n",
    "f1 = f1_score(y_pred=predictions, y_true=np.array(\n",
    "    test_labels), average='weighted')\n",
    "precision = precision_score(\n",
    "    y_pred=predictions, y_true=np.array(test_labels), average='weighted')\n",
    "recall = recall_score(y_pred=predictions, y_true=np.array(\n",
    "    test_labels), average='weighted')\n",
    "\n",
    "print(\"Subset Accuracy: {}\".format(accuracy))  # subset accuracy\n",
    "print(\"Global F1 score: {}\".format(f1))\n",
    "print(\"Global Precision: {}\".format(precision))\n",
    "print(\"Global Recall: {}\".format(recall))"
   ]
  },
  {
   "cell_type": "code",
   "execution_count": 94,
   "metadata": {
    "ExecuteTime": {
     "end_time": "2018-12-06T23:22:10.311698Z",
     "start_time": "2018-12-06T23:22:10.297155Z"
    }
   },
   "outputs": [],
   "source": [
    "classes = ['Action', 'Adventure', 'Animation', 'Comedy', 'Crime',\n",
    "           'Documentary', 'Drama', 'Family', 'Fantasy', 'History',\n",
    "           'Horror', 'Music', 'Mystery', 'Romance', 'Science Fiction',\n",
    "           'Thriller', 'War', 'Western']"
   ]
  },
  {
   "cell_type": "code",
   "execution_count": 95,
   "metadata": {
    "ExecuteTime": {
     "end_time": "2018-12-06T23:22:15.399017Z",
     "start_time": "2018-12-06T23:22:15.369093Z"
    },
    "deletable": false,
    "editable": false,
    "run_control": {
     "frozen": true
    }
   },
   "outputs": [
    {
     "name": "stdout",
     "output_type": "stream",
     "text": [
      "                 precision    recall  f1-score   support\n",
      "\n",
      "         Action       0.85      0.33      0.48       176\n",
      "      Adventure       0.84      0.26      0.39       125\n",
      "      Animation       1.00      0.12      0.22        41\n",
      "         Comedy       0.75      0.68      0.71       202\n",
      "          Crime       0.60      0.03      0.06        92\n",
      "    Documentary       0.00      0.00      0.00         7\n",
      "          Drama       0.75      0.43      0.55       259\n",
      "         Family       0.92      0.35      0.51        65\n",
      "        Fantasy       0.88      0.11      0.19        65\n",
      "        History       0.00      0.00      0.00        15\n",
      "         Horror       0.67      0.05      0.09        82\n",
      "          Music       0.00      0.00      0.00        24\n",
      "        Mystery       0.00      0.00      0.00        35\n",
      "        Romance       1.00      0.04      0.08        72\n",
      "Science Fiction       0.91      0.35      0.50        83\n",
      "       Thriller       0.82      0.40      0.54       193\n",
      "            War       0.00      0.00      0.00        11\n",
      "        Western       0.00      0.00      0.00         8\n",
      "\n",
      "      micro avg       0.80      0.32      0.45      1555\n",
      "      macro avg       0.55      0.18      0.24      1555\n",
      "   weighted avg       0.76      0.32      0.41      1555\n",
      "    samples avg       0.59      0.36      0.42      1555\n",
      "\n"
     ]
    },
    {
     "name": "stderr",
     "output_type": "stream",
     "text": [
      "/anaconda3/envs/ml/lib/python3.6/site-packages/sklearn/metrics/classification.py:1143: UndefinedMetricWarning: Precision and F-score are ill-defined and being set to 0.0 in labels with no predicted samples.\n",
      "  'precision', 'predicted', average, warn_for)\n",
      "/anaconda3/envs/ml/lib/python3.6/site-packages/sklearn/metrics/classification.py:1143: UndefinedMetricWarning: Precision and F-score are ill-defined and being set to 0.0 in labels with no predicted samples.\n",
      "  'precision', 'predicted', average, warn_for)\n",
      "/anaconda3/envs/ml/lib/python3.6/site-packages/sklearn/metrics/classification.py:1143: UndefinedMetricWarning: Precision and F-score are ill-defined and being set to 0.0 in labels with no predicted samples.\n",
      "  'precision', 'predicted', average, warn_for)\n",
      "/anaconda3/envs/ml/lib/python3.6/site-packages/sklearn/metrics/classification.py:1143: UndefinedMetricWarning: Precision and F-score are ill-defined and being set to 0.0 in samples with no predicted labels.\n",
      "  'precision', 'predicted', average, warn_for)\n"
     ]
    }
   ],
   "source": [
    "print(classification_report(test_labels, predictions, target_names=classes))"
   ]
  },
  {
   "cell_type": "code",
   "execution_count": 96,
   "metadata": {
    "ExecuteTime": {
     "end_time": "2018-12-06T23:22:26.811377Z",
     "start_time": "2018-12-06T23:22:18.311713Z"
    },
    "deletable": false,
    "editable": false,
    "run_control": {
     "frozen": true
    }
   },
   "outputs": [
    {
     "name": "stdout",
     "output_type": "stream",
     "text": [
      "Train Hamming Loss: 0.0\n",
      "\n",
      "Test Hamming Loss: 0.10452869931542917\n",
      "\n"
     ]
    }
   ],
   "source": [
    "from sklearn.metrics import hamming_loss\n",
    "\n",
    "train_predictions = rf_best.predict(train_data)\n",
    "\n",
    "print(f\"Train Hamming Loss: {hamming_loss(train_labels, train_predictions)}\\n\")\n",
    "print(f\"Test Hamming Loss: {hamming_loss(test_labels, predictions)}\\n\")"
   ]
  },
  {
   "cell_type": "markdown",
   "metadata": {},
   "source": [
    "## MultinomialNB()"
   ]
  },
  {
   "cell_type": "code",
   "execution_count": null,
   "metadata": {
    "ExecuteTime": {
     "end_time": "2018-12-06T23:22:39.715941Z",
     "start_time": "2018-12-06T23:22:32.936759Z"
    }
   },
   "outputs": [],
   "source": [
    "from sklearn.naive_bayes import MultinomialNB\n",
    "# Result using MultinomialNB()\n",
    "clf = OneVsRestClassifier(MultinomialNB(alpha=1.0))\n",
    "clf.fit(train_data, train_labels)\n",
    "predictions = clf.predict(test_data)"
   ]
  },
  {
   "cell_type": "code",
   "execution_count": 97,
   "metadata": {
    "ExecuteTime": {
     "end_time": "2018-12-06T23:22:39.715941Z",
     "start_time": "2018-12-06T23:22:32.936759Z"
    },
    "deletable": false,
    "editable": false,
    "run_control": {
     "frozen": true
    }
   },
   "outputs": [
    {
     "name": "stdout",
     "output_type": "stream",
     "text": [
      "Subset Accuracy: 0.13270142180094788\n",
      "Global F1 score: 0.5742817782855275\n",
      "Global Precision: 0.5333465064828578\n",
      "Global Recall: 0.6295819935691318\n"
     ]
    }
   ],
   "source": [
    "accuracy = accuracy_score(y_pred=predictions, y_true=np.array(test_labels))\n",
    "f1 = f1_score(y_pred=predictions, y_true=np.array(\n",
    "    test_labels), average='weighted')\n",
    "precision = precision_score(\n",
    "    y_pred=predictions, y_true=np.array(test_labels), average='weighted')\n",
    "recall = recall_score(y_pred=predictions, y_true=np.array(\n",
    "    test_labels), average='weighted')\n",
    "\n",
    "print(\"Subset Accuracy: {}\".format(accuracy))  # subset accuracy\n",
    "print(\"Global F1 score: {}\".format(f1))\n",
    "print(\"Global Precision: {}\".format(precision))\n",
    "print(\"Global Recall: {}\".format(recall))"
   ]
  },
  {
   "cell_type": "code",
   "execution_count": 99,
   "metadata": {
    "ExecuteTime": {
     "end_time": "2018-12-06T23:22:47.612604Z",
     "start_time": "2018-12-06T23:22:47.596190Z"
    },
    "deletable": false,
    "editable": false,
    "run_control": {
     "frozen": true
    },
    "scrolled": false
   },
   "outputs": [
    {
     "name": "stdout",
     "output_type": "stream",
     "text": [
      "                 precision    recall  f1-score   support\n",
      "\n",
      "         Action       0.66      0.79      0.72       176\n",
      "      Adventure       0.62      0.78      0.69       125\n",
      "      Animation       0.27      0.22      0.24        41\n",
      "         Comedy       0.66      0.85      0.74       202\n",
      "          Crime       0.52      0.47      0.49        92\n",
      "    Documentary       0.00      0.00      0.00         7\n",
      "          Drama       0.67      0.75      0.71       259\n",
      "         Family       0.52      0.62      0.56        65\n",
      "        Fantasy       0.39      0.43      0.41        65\n",
      "        History       0.10      0.13      0.11        15\n",
      "         Horror       0.33      0.21      0.25        82\n",
      "          Music       0.06      0.04      0.05        24\n",
      "        Mystery       0.11      0.11      0.11        35\n",
      "        Romance       0.40      0.65      0.50        72\n",
      "Science Fiction       0.48      0.63      0.54        83\n",
      "       Thriller       0.56      0.67      0.61       193\n",
      "            War       0.12      0.18      0.15        11\n",
      "        Western       0.00      0.00      0.00         8\n",
      "\n",
      "      micro avg       0.54      0.63      0.58      1555\n",
      "      macro avg       0.36      0.42      0.38      1555\n",
      "   weighted avg       0.53      0.63      0.57      1555\n",
      "    samples avg       0.61      0.65      0.58      1555\n",
      "\n"
     ]
    },
    {
     "name": "stderr",
     "output_type": "stream",
     "text": [
      "/anaconda3/envs/ml/lib/python3.6/site-packages/sklearn/metrics/classification.py:1143: UndefinedMetricWarning: Precision and F-score are ill-defined and being set to 0.0 in samples with no predicted labels.\n",
      "  'precision', 'predicted', average, warn_for)\n"
     ]
    }
   ],
   "source": [
    "# Result using MultinomialNB()\n",
    "print(classification_report(test_labels, predictions, target_names=classes))"
   ]
  },
  {
   "cell_type": "code",
   "execution_count": 100,
   "metadata": {
    "ExecuteTime": {
     "end_time": "2018-12-06T23:22:51.304734Z",
     "start_time": "2018-12-06T23:22:48.773881Z"
    },
    "deletable": false,
    "editable": false,
    "run_control": {
     "frozen": true
    }
   },
   "outputs": [
    {
     "name": "stdout",
     "output_type": "stream",
     "text": [
      "Train Hamming Loss: 0.043117399546862716\n",
      "\n",
      "Test Hamming Loss: 0.1240126382306477\n",
      "\n"
     ]
    }
   ],
   "source": [
    "train_predictions = clf.predict(train_data)\n",
    "\n",
    "print(f\"Train Hamming Loss: {hamming_loss(train_labels, train_predictions)}\\n\")\n",
    "print(f\"Test Hamming Loss: {hamming_loss(test_labels, predictions)}\\n\")"
   ]
  },
  {
   "cell_type": "markdown",
   "metadata": {},
   "source": [
    "# Visualize predicted genres"
   ]
  },
  {
   "cell_type": "code",
   "execution_count": 128,
   "metadata": {
    "ExecuteTime": {
     "end_time": "2018-12-07T00:14:51.223232Z",
     "start_time": "2018-12-07T00:14:51.210338Z"
    }
   },
   "outputs": [],
   "source": [
    "def undummy_genres(genres_dummies):\n",
    "    \"\"\"Match dummy-ized predictions with genres.\"\"\"\n",
    "    genres = []\n",
    "    total_num_genres = genres_dummies.sum(axis=0)\n",
    "    for row in genres_dummies:\n",
    "        indices = [i for i, x in enumerate(row) if x == 1]\n",
    "        genres.append([classes[i] for i in indices])\n",
    "\n",
    "    return genres, total_num_genres\n",
    "\n",
    "\n",
    "def list2pairs(genres_list):\n",
    "    \"\"\"Create a list of paired genres\"\"\"\n",
    "    pairs_list = []\n",
    "    for genres in genres_list:\n",
    "        for pair in list(itertools.combinations(genres, 2)):\n",
    "            pairs_list.append(pair)\n",
    "\n",
    "    return pairs_list\n",
    "\n",
    "\n",
    "def create_visGrid(classes, genres_list):\n",
    "    \"\"\"Create a grid of pair counts.\"\"\"\n",
    "    all_pairs = list(itertools.combinations(classes, 2))\n",
    "    pairs_list = list2pairs(genres_list)\n",
    "\n",
    "    nr_ids = np.unique(all_pairs)\n",
    "    visGrid = np.zeros((len(nr_ids), len(nr_ids)))\n",
    "    for p in pairs_list:\n",
    "        visGrid[np.argwhere(nr_ids == p[0]), np.argwhere(nr_ids == p[1])] += 1\n",
    "        if p[1] != p[0]:\n",
    "            visGrid[np.argwhere(nr_ids == p[1]),\n",
    "                    np.argwhere(nr_ids == p[0])] += 1\n",
    "    visGrid = visGrid.astype(int)\n",
    "\n",
    "    return nr_ids, visGrid\n",
    "\n",
    "\n",
    "def make_heatmap(nr_ids, visGrid, ax=None, cbar=True, cbar_size=1.0):\n",
    "    # shows how often the genres occur together\n",
    "    annot_lookup = []\n",
    "    for i in range(len(nr_ids)):\n",
    "        annot_lookup.append(nr_ids[i])\n",
    "\n",
    "    # create mask\n",
    "    mask = np.zeros_like(visGrid)\n",
    "    mask[np.triu_indices_from(mask)] = True\n",
    "\n",
    "    # make the heatmap\n",
    "    sns.set(rc={'figure.figsize': (10, 8)})\n",
    "    with sns.axes_style(\"white\"):\n",
    "        sns.heatmap(visGrid, mask=mask, square=True, vmin=0, vmax=visGrid.max(),\n",
    "                    xticklabels=annot_lookup, yticklabels=annot_lookup, ax=ax, cbar=cbar,\n",
    "                    cbar_kws={\"shrink\": cbar_size})"
   ]
  },
  {
   "cell_type": "markdown",
   "metadata": {},
   "source": [
    "## Heatmap (Tfidf for both)"
   ]
  },
  {
   "cell_type": "markdown",
   "metadata": {},
   "source": [
    "### Genres pair occurence heatmap - predicted genres"
   ]
  },
  {
   "cell_type": "code",
   "execution_count": 116,
   "metadata": {
    "ExecuteTime": {
     "end_time": "2018-12-06T23:39:45.511423Z",
     "start_time": "2018-12-06T23:39:45.294657Z"
    }
   },
   "outputs": [],
   "source": [
    "pred_classes, pred_num_genres = undummy_genres(predictions)\n",
    "nr_ids, visGrid_pred = create_visGrid(classes, pred_classes)"
   ]
  },
  {
   "cell_type": "code",
   "execution_count": 122,
   "metadata": {
    "ExecuteTime": {
     "end_time": "2018-12-06T23:41:58.544559Z",
     "start_time": "2018-12-06T23:41:58.540410Z"
    }
   },
   "outputs": [
    {
     "data": {
      "text/plain": [
       "array([211, 159,  33, 261,  83,  15, 291,  77,  71,  20,  52,  17,  37,\n",
       "       117, 108, 233,  16,  15])"
      ]
     },
     "execution_count": 122,
     "metadata": {},
     "output_type": "execute_result"
    }
   ],
   "source": [
    "pred_num_genres"
   ]
  },
  {
   "cell_type": "markdown",
   "metadata": {},
   "source": [
    "### Genres pair occurence heatmap - test labels"
   ]
  },
  {
   "cell_type": "code",
   "execution_count": 117,
   "metadata": {
    "ExecuteTime": {
     "end_time": "2018-12-06T23:39:48.189430Z",
     "start_time": "2018-12-06T23:39:48.099611Z"
    }
   },
   "outputs": [],
   "source": [
    "gt_classes, test_num_genres = undummy_genres(test_labels.values)\n",
    "nr_ids, visGrid_gt = create_visGrid(classes, gt_classes)"
   ]
  },
  {
   "cell_type": "markdown",
   "metadata": {},
   "source": [
    "### Genres pair occurence heatmap - train labels"
   ]
  },
  {
   "cell_type": "code",
   "execution_count": 106,
   "metadata": {
    "ExecuteTime": {
     "end_time": "2018-12-06T23:26:41.616872Z",
     "start_time": "2018-12-06T23:26:41.279715Z"
    }
   },
   "outputs": [],
   "source": [
    "train_labels_notdummy, train_num_genres = undummy_genres(\n",
    "    np.asarray(train_labels))\n",
    "nr_ids, visGrid_train = create_visGrid(classes, train_labels_notdummy)"
   ]
  },
  {
   "cell_type": "markdown",
   "metadata": {},
   "source": [
    "### Genres pair occurence heatmap"
   ]
  },
  {
   "cell_type": "code",
   "execution_count": 129,
   "metadata": {
    "ExecuteTime": {
     "end_time": "2018-12-07T00:14:55.905606Z",
     "start_time": "2018-12-07T00:14:54.942554Z"
    },
    "scrolled": true
   },
   "outputs": [
    {
     "data": {
      "image/png": "[encoded data removed]",
      "text/plain": [
       "<Figure size 1440x1440 with 6 Axes>"
      ]
     },
     "metadata": {},
     "output_type": "display_data"
    }
   ],
   "source": [
    "# By count\n",
    "fig, (ax1, ax2, ax3) = plt.subplots(1, 3, sharey=True, figsize=(20, 20))\n",
    "make_heatmap(nr_ids, visGrid_pred, ax=ax1, cbar_size=0.2)\n",
    "ax1.set_title(\"Predicted Genres\")\n",
    "make_heatmap(nr_ids, visGrid_gt, ax=ax2, cbar_size=0.2)\n",
    "ax2.set_title(\"Test Genres (Groundtruth)\")\n",
    "make_heatmap(nr_ids, visGrid_train, ax=ax3, cbar_size=0.2)\n",
    "ax3.set_title(\"Train Data Genres\")\n",
    "plt.show()"
   ]
  },
  {
   "cell_type": "markdown",
   "metadata": {},
   "source": [
    "# Check ground Truth"
   ]
  },
  {
   "cell_type": "code",
   "execution_count": 138,
   "metadata": {
    "ExecuteTime": {
     "end_time": "2018-12-07T00:17:05.059957Z",
     "start_time": "2018-12-07T00:17:05.013751Z"
    }
   },
   "outputs": [
    {
     "data": {
      "text/html": [
       "<div>\n",
       "<style scoped>\n",
       "    .dataframe tbody tr th:only-of-type {\n",
       "        vertical-align: middle;\n",
       "    }\n",
       "\n",
       "    .dataframe tbody tr th {\n",
       "        vertical-align: top;\n",
       "    }\n",
       "\n",
       "    .dataframe thead th {\n",
       "        text-align: right;\n",
       "    }\n",
       "</style>\n",
       "<table border=\"1\" class=\"dataframe\">\n",
       "  <thead>\n",
       "    <tr style=\"text-align: right;\">\n",
       "      <th></th>\n",
       "      <th>title</th>\n",
       "      <th>release_date</th>\n",
       "      <th>genres</th>\n",
       "    </tr>\n",
       "  </thead>\n",
       "  <tbody>\n",
       "    <tr>\n",
       "      <th>9</th>\n",
       "      <td>Batman v Superman: Dawn of Justice</td>\n",
       "      <td>2016-03-23</td>\n",
       "      <td>[Action, Adventure, Fantasy]</td>\n",
       "    </tr>\n",
       "    <tr>\n",
       "      <th>119</th>\n",
       "      <td>Batman Begins</td>\n",
       "      <td>2005-06-10</td>\n",
       "      <td>[Action, Crime, Drama]</td>\n",
       "    </tr>\n",
       "    <tr>\n",
       "      <th>210</th>\n",
       "      <td>Batman &amp; Robin</td>\n",
       "      <td>1997-06-20</td>\n",
       "      <td>[Action, Crime, Fantasy]</td>\n",
       "    </tr>\n",
       "    <tr>\n",
       "      <th>299</th>\n",
       "      <td>Batman Forever</td>\n",
       "      <td>1995-05-31</td>\n",
       "      <td>[Action, Crime, Fantasy]</td>\n",
       "    </tr>\n",
       "    <tr>\n",
       "      <th>428</th>\n",
       "      <td>Batman Returns</td>\n",
       "      <td>1992-06-19</td>\n",
       "      <td>[Action, Fantasy]</td>\n",
       "    </tr>\n",
       "    <tr>\n",
       "      <th>1359</th>\n",
       "      <td>Batman</td>\n",
       "      <td>1989-06-23</td>\n",
       "      <td>[Fantasy, Action]</td>\n",
       "    </tr>\n",
       "    <tr>\n",
       "      <th>3853</th>\n",
       "      <td>Batman: The Dark Knight Returns, Part 2</td>\n",
       "      <td>2013-01-18</td>\n",
       "      <td>[Action, Animation]</td>\n",
       "    </tr>\n",
       "    <tr>\n",
       "      <th>4265</th>\n",
       "      <td>Batman</td>\n",
       "      <td>1966-07-30</td>\n",
       "      <td>[Family, Adventure, Comedy, Science Fiction, C...</td>\n",
       "    </tr>\n",
       "  </tbody>\n",
       "</table>\n",
       "</div>"
      ],
      "text/plain": [
       "                                        title release_date  \\\n",
       "9          Batman v Superman: Dawn of Justice   2016-03-23   \n",
       "119                             Batman Begins   2005-06-10   \n",
       "210                            Batman & Robin   1997-06-20   \n",
       "299                            Batman Forever   1995-05-31   \n",
       "428                            Batman Returns   1992-06-19   \n",
       "1359                                   Batman   1989-06-23   \n",
       "3853  Batman: The Dark Knight Returns, Part 2   2013-01-18   \n",
       "4265                                   Batman   1966-07-30   \n",
       "\n",
       "                                                 genres  \n",
       "9                          [Action, Adventure, Fantasy]  \n",
       "119                              [Action, Crime, Drama]  \n",
       "210                            [Action, Crime, Fantasy]  \n",
       "299                            [Action, Crime, Fantasy]  \n",
       "428                                   [Action, Fantasy]  \n",
       "1359                                  [Fantasy, Action]  \n",
       "3853                                [Action, Animation]  \n",
       "4265  [Family, Adventure, Comedy, Science Fiction, C...  "
      ]
     },
     "execution_count": 138,
     "metadata": {},
     "output_type": "execute_result"
    }
   ],
   "source": [
    "df[df.title.str.lower().str.contains(\"batman\")][[\n",
    "    \"title\", \"release_date\", \"genres\"]]"
   ]
  },
  {
   "cell_type": "code",
   "execution_count": 139,
   "metadata": {
    "ExecuteTime": {
     "end_time": "2018-12-07T00:17:07.891415Z",
     "start_time": "2018-12-07T00:17:07.869461Z"
    }
   },
   "outputs": [
    {
     "data": {
      "text/html": [
       "<div>\n",
       "<style scoped>\n",
       "    .dataframe tbody tr th:only-of-type {\n",
       "        vertical-align: middle;\n",
       "    }\n",
       "\n",
       "    .dataframe tbody tr th {\n",
       "        vertical-align: top;\n",
       "    }\n",
       "\n",
       "    .dataframe thead th {\n",
       "        text-align: right;\n",
       "    }\n",
       "</style>\n",
       "<table border=\"1\" class=\"dataframe\">\n",
       "  <thead>\n",
       "    <tr style=\"text-align: right;\">\n",
       "      <th></th>\n",
       "      <th>title</th>\n",
       "      <th>release_date</th>\n",
       "      <th>genres</th>\n",
       "    </tr>\n",
       "  </thead>\n",
       "  <tbody>\n",
       "    <tr>\n",
       "      <th>137</th>\n",
       "      <td>Kung Fu Panda 2</td>\n",
       "      <td>2011-05-25</td>\n",
       "      <td>[Animation, Family]</td>\n",
       "    </tr>\n",
       "    <tr>\n",
       "      <th>152</th>\n",
       "      <td>Kung Fu Panda 3</td>\n",
       "      <td>2016-01-23</td>\n",
       "      <td>[Action, Adventure, Animation, Comedy, Family]</td>\n",
       "    </tr>\n",
       "    <tr>\n",
       "      <th>181</th>\n",
       "      <td>Kung Fu Panda</td>\n",
       "      <td>2008-06-04</td>\n",
       "      <td>[Adventure, Animation, Family, Comedy]</td>\n",
       "    </tr>\n",
       "  </tbody>\n",
       "</table>\n",
       "</div>"
      ],
      "text/plain": [
       "               title release_date  \\\n",
       "137  Kung Fu Panda 2   2011-05-25   \n",
       "152  Kung Fu Panda 3   2016-01-23   \n",
       "181    Kung Fu Panda   2008-06-04   \n",
       "\n",
       "                                             genres  \n",
       "137                             [Animation, Family]  \n",
       "152  [Action, Adventure, Animation, Comedy, Family]  \n",
       "181          [Adventure, Animation, Family, Comedy]  "
      ]
     },
     "execution_count": 139,
     "metadata": {},
     "output_type": "execute_result"
    }
   ],
   "source": [
    "df[df.title.str.lower().str.contains(\"kung fu panda\")][[\n",
    "    \"title\", \"release_date\", \"genres\"]]"
   ]
  },
  {
   "cell_type": "code",
   "execution_count": null,
   "metadata": {},
   "outputs": [],
   "source": []
  }
 ],
 "metadata": {
  "kernelspec": {
   "display_name": "Python 3",
   "language": "python",
   "name": "python3"
  },
  "language_info": {
   "codemirror_mode": {
    "name": "ipython",
    "version": 3
   },
   "file_extension": ".py",
   "mimetype": "text/x-python",
   "name": "python",
   "nbconvert_exporter": "python",
   "pygments_lexer": "ipython3",
   "version": "3.6.6"
  },
  "toc": {
   "base_numbering": 1,
   "nav_menu": {},
   "number_sections": true,
   "sideBar": true,
   "skip_h1_title": false,
   "title_cell": "Table of Contents",
   "title_sidebar": "Contents",
   "toc_cell": false,
   "toc_position": {
    "height": "calc(100% - 180px)",
    "left": "10px",
    "top": "150px",
    "width": "395px"
   },
   "toc_section_display": true,
   "toc_window_display": true
  }
 },
 "nbformat": 4,
 "nbformat_minor": 2
}

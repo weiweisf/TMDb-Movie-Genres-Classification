{
 "cells": [
  {
   "cell_type": "markdown",
   "metadata": {},
   "source": [
    "replace main_work overview tfidf cell with this cell"
   ]
  },
  {
   "cell_type": "code",
   "execution_count": null,
   "metadata": {},
   "outputs": [],
   "source": [
    "import re\n",
    "import nltk\n",
    "import string\n",
    "from sklearn.feature_extraction.text import TfidfVectorizer\n",
    "from sklearn.feature_extraction.text import ENGLISH_STOP_WORDS\n",
    "from nltk.stem.porter import *\n",
    "\n",
    "\n",
    "def tokenize(text):\n",
    "    \"\"\"\n",
    "    A tokenizer, remove special characters punctuation and replace them with a space, stem the word\n",
    "    \"\"\"\n",
    "    text = text.lower()\n",
    "    cleanString = re.sub('\\W+', ' ', text)\n",
    "    words = nltk.word_tokenize(cleanString)\n",
    "    english = list(ENGLISH_STOP_WORDS)\n",
    "    goodwords = [w for w in words if w not in english]\n",
    "    stemmer = PorterStemmer()\n",
    "    stemmed = [stemmer.stem(word) for word in goodwords]\n",
    "    return stemmed\n",
    "\n",
    "\n",
    "df_movies = df_movies.loc[df_movies.overview.apply(lambda x: len(x) > 10)]\n",
    "\n",
    "\n",
    "tfidf = TfidfVectorizer(tokenizer=tokenize, stop_words='english', binary=True,\n",
    "                        ngram_range=(1, 2), min_df=0.001)\n",
    "overview_vec = tfidf.fit_transform(df_movies['overview'])\n",
    "\n",
    "overview = pd.DataFrame(overview_vec.toarray(),\n",
    "                        columns=tfidf.get_feature_names()).add_prefix('ov_')"
   ]
  },
  {
   "cell_type": "markdown",
   "metadata": {},
   "source": [
    "replace main_work subtitle tfidf cell with this cell"
   ]
  },
  {
   "cell_type": "code",
   "execution_count": null,
   "metadata": {},
   "outputs": [],
   "source": [
    "tfidf = TfidfVectorizer(tokenizer=tokenize, stop_words='english', binary=True,\n",
    "                        ngram_range=(1, 1), min_df=0.001)\n",
    "subtitles_vec = tfidf.fit_transform(df_movies['subtitles'])\n",
    "\n",
    "subtitles = pd.DataFrame(subtitles_vec.toarray(\n",
    "), columns=tfidf.get_feature_names()).add_prefix('sub_')"
   ]
  },
  {
   "cell_type": "markdown",
   "metadata": {},
   "source": [
    "By apply the tokenizer, the performence of accuracy will go up, F1 score will go down"
   ]
  }
 ],
 "metadata": {
  "kernelspec": {
   "display_name": "Python 3",
   "language": "python",
   "name": "python3"
  },
  "language_info": {
   "codemirror_mode": {
    "name": "ipython",
    "version": 3
   },
   "file_extension": ".py",
   "mimetype": "text/x-python",
   "name": "python",
   "nbconvert_exporter": "python",
   "pygments_lexer": "ipython3",
   "version": "3.6.7"
  },
  "toc": {
   "base_numbering": 1,
   "nav_menu": {},
   "number_sections": true,
   "sideBar": true,
   "skip_h1_title": false,
   "title_cell": "Table of Contents",
   "title_sidebar": "Contents",
   "toc_cell": false,
   "toc_position": {},
   "toc_section_display": true,
   "toc_window_display": false
  }
 },
 "nbformat": 4,
 "nbformat_minor": 2
}

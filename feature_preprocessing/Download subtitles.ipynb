{
 "cells": [
  {
   "cell_type": "code",
   "execution_count": 16,
   "metadata": {},
   "outputs": [],
   "source": [
    "import os\n",
    "import pandas as pd\n",
    "import subliminal\n",
    "from babelfish import Language\n",
    "from subliminal import Video, Movie\n",
    "from tqdm import tqdm\n",
    "from glob import glob"
   ]
  },
  {
   "cell_type": "code",
   "execution_count": 2,
   "metadata": {},
   "outputs": [],
   "source": [
    "df = pd.read_csv('dataset/tmdb_5000_movies.csv')\n",
    "# filter only US movies\n",
    "df = df[df.production_countries.str.contains(\"United States of America\")]\n",
    "df = df.sort_values(by='release_date', ascending=False)\n",
    "df = df.reset_index(drop=True)"
   ]
  },
  {
   "cell_type": "code",
   "execution_count": 3,
   "metadata": {},
   "outputs": [],
   "source": [
    "os.makedirs(\"dataset/subtitles\", exist_ok=True)"
   ]
  },
  {
   "cell_type": "code",
   "execution_count": null,
   "metadata": {},
   "outputs": [],
   "source": [
    "for i, row in tqdm(df.iterrows(), total=df.shape[0]):\n",
    "    if len(glob(\"dataset/subtitles/{}.*\".format(row.title))) == 0:\n",
    "\n",
    "        video = Video.fromname('{}.mkv'.format(row.title))\n",
    "\n",
    "        if not isinstance(video, subliminal.video.Movie):\n",
    "            print(\"Error: \", video, row.id)\n",
    "            continue\n",
    "\n",
    "        best_subtitles = subliminal.download_best_subtitles(\n",
    "            [video], {Language('eng')})\n",
    "        best_subtitle = best_subtitles[video]\n",
    "        if not best_subtitles[video]:  # if no subtitles are found\n",
    "            print(\"Error: \", video, row.id)\n",
    "            continue\n",
    "\n",
    "        best_subtitle = best_subtitle[0]\n",
    "        subliminal.save_subtitles(\n",
    "            video, [best_subtitle], directory=\"dataset/subtitles\")"
   ]
  }
 ],
 "metadata": {
  "kernelspec": {
   "display_name": "Python 3",
   "language": "python",
   "name": "python3"
  },
  "language_info": {
   "codemirror_mode": {
    "name": "ipython",
    "version": 3
   },
   "file_extension": ".py",
   "mimetype": "text/x-python",
   "name": "python",
   "nbconvert_exporter": "python",
   "pygments_lexer": "ipython3",
   "version": "3.6.7"
  },
  "toc": {
   "base_numbering": 1,
   "nav_menu": {},
   "number_sections": true,
   "sideBar": true,
   "skip_h1_title": false,
   "title_cell": "Table of Contents",
   "title_sidebar": "Contents",
   "toc_cell": false,
   "toc_position": {},
   "toc_section_display": true,
   "toc_window_display": false
  }
 },
 "nbformat": 4,
 "nbformat_minor": 2
}

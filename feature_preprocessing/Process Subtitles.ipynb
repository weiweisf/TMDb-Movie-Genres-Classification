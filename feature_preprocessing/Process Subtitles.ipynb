{
 "cells": [
  {
   "cell_type": "code",
   "execution_count": 49,
   "metadata": {},
   "outputs": [],
   "source": [
    "import pandas as pd\n",
    "import numpy as np\n",
    "from tqdm import tqdm\n",
    "from glob import glob\n",
    "import os\n",
    "from collections import defaultdict, Counter\n",
    "import json\n",
    "import re"
   ]
  },
  {
   "cell_type": "code",
   "execution_count": 50,
   "metadata": {},
   "outputs": [],
   "source": [
    "df = pd.read_csv('dataset/tmdb_5000_movies.csv')\n",
    "# filter only US movies\n",
    "df = df[df.production_countries.str.contains(\"United States of America\")]\n",
    "df = df.sort_values(by='release_date', ascending=False)\n",
    "df = df.reset_index(drop=True)"
   ]
  },
  {
   "cell_type": "code",
   "execution_count": 51,
   "metadata": {},
   "outputs": [],
   "source": [
    "subs = glob(\"dataset/subtitles/*\")"
   ]
  },
  {
   "cell_type": "code",
   "execution_count": 52,
   "metadata": {},
   "outputs": [
    {
     "name": "stdout",
     "output_type": "stream",
     "text": [
      "Self/less\n",
      "50/50\n",
      "Frost/Nixon\n",
      "Fahrenheit 9/11\n",
      "Crazy/Beautiful\n",
      "Face/Off\n",
      "Nine 1/2 Weeks\n"
     ]
    }
   ],
   "source": [
    "# TODO: movies with a slash had issues with the subs. needs a fix.\n",
    "for t in df.title.tolist():\n",
    "    if \"/\" in t:\n",
    "        print(t)"
   ]
  },
  {
   "cell_type": "code",
   "execution_count": 53,
   "metadata": {},
   "outputs": [],
   "source": [
    "def srt_to_list(srt_fname):\n",
    "    with open(srt_fname, \"r\", encoding='iso-8859-1') as f:\n",
    "        sub_text = f.read()\n",
    "    blocks = sub_text.strip().split(\"\\n\\n\")\n",
    "    sub_lines = []\n",
    "    for block in blocks:\n",
    "        lines = block.split(\"\\n\")[2:]\n",
    "        # remove empty strings and html tags\n",
    "        lines = [re.sub(r'<.*?>', \"\", t) for t in lines if t]\n",
    "        sub_lines.append(\"\\n\".join(lines))\n",
    "    return sub_lines\n",
    "\n",
    "\n",
    "def count(sentence_list):\n",
    "    clean_list = [t.replace(\"\\n\", \" \").lower().strip() for t in sentence_list]\n",
    "    return Counter(clean_list)"
   ]
  },
  {
   "cell_type": "code",
   "execution_count": 54,
   "metadata": {},
   "outputs": [
    {
     "name": "stderr",
     "output_type": "stream",
     "text": [
      " 12%|█▏        | 406/3443 [00:07<01:30, 33.54it/s]"
     ]
    },
    {
     "name": "stdout",
     "output_type": "stream",
     "text": [
      "Error:  less\n"
     ]
    },
    {
     "name": "stderr",
     "output_type": "stream",
     "text": [
      " 21%|██        | 719/3443 [00:21<02:23, 19.04it/s]"
     ]
    },
    {
     "name": "stdout",
     "output_type": "stream",
     "text": [
      "Error:  subtitles.json\n"
     ]
    },
    {
     "name": "stderr",
     "output_type": "stream",
     "text": [
      " 48%|████▊     | 1636/3443 [01:43<02:36, 11.53it/s]"
     ]
    },
    {
     "name": "stdout",
     "output_type": "stream",
     "text": [
      "Error:  Off\n"
     ]
    },
    {
     "name": "stderr",
     "output_type": "stream",
     "text": [
      " 57%|█████▋    | 1959/3443 [02:24<02:31,  9.78it/s]"
     ]
    },
    {
     "name": "stdout",
     "output_type": "stream",
     "text": [
      "Error:  Beautiful\n"
     ]
    },
    {
     "name": "stderr",
     "output_type": "stream",
     "text": [
      " 85%|████████▌ | 2930/3443 [05:33<01:26,  5.96it/s]"
     ]
    },
    {
     "name": "stdout",
     "output_type": "stream",
     "text": [
      "Error:  2 Weeks\n"
     ]
    },
    {
     "name": "stderr",
     "output_type": "stream",
     "text": [
      "100%|██████████| 3443/3443 [07:07<00:00,  5.35it/s]\n"
     ]
    }
   ],
   "source": [
    "all_titles = df.title.tolist()\n",
    "sub_dict = defaultdict(str)\n",
    "counter = Counter()\n",
    "for sub in tqdm(subs):\n",
    "    title = os.path.basename(sub).replace(\".en.srt\", \"\")\n",
    "    if title not in all_titles:\n",
    "        print(\"Error: \", title)\n",
    "        continue\n",
    "    try:\n",
    "        sub_lines = srt_to_list(sub)\n",
    "        sub_dict[title] = sub_lines\n",
    "        counter += count(sub_lines)\n",
    "    except Exception as e:\n",
    "        print(title)\n",
    "        print(e)"
   ]
  },
  {
   "cell_type": "code",
   "execution_count": 55,
   "metadata": {},
   "outputs": [
    {
     "data": {
      "text/plain": [
       "[('', 22431),\n",
       " ('yeah.', 9639),\n",
       " ('what?', 7676),\n",
       " ('okay.', 7660),\n",
       " ('no.', 7285),\n",
       " ('thank you.', 6154),\n",
       " ('yes.', 4281),\n",
       " ('come on.', 3892),\n",
       " ('all right.', 3231),\n",
       " ('hey.', 3094),\n",
       " ('no!', 2856),\n",
       " ('oh.', 2456),\n",
       " (\"i don't know.\", 2361),\n",
       " (\"i'm sorry.\", 2304),\n",
       " ('thanks.', 2243),\n",
       " ('hello?', 2236),\n",
       " ('hi.', 2066),\n",
       " ('hey!', 1971),\n",
       " ('oh, my god.', 1910),\n",
       " ('come on!', 1896)]"
      ]
     },
     "execution_count": 55,
     "metadata": {},
     "output_type": "execute_result"
    }
   ],
   "source": [
    "counter.most_common(20)"
   ]
  },
  {
   "cell_type": "code",
   "execution_count": 56,
   "metadata": {},
   "outputs": [
    {
     "name": "stdout",
     "output_type": "stream",
     "text": [
      "what are you talking about?\n",
      "subtitles downloaded from podnapisi.net\n",
      "advertise your product or brand here contact www.opensubtitles.org today\n",
      "support us and become vip member  to remove all ads from www.opensubtitles.org\n",
      "what the hell are you doing?\n",
      "i don't know what you're talking about.\n",
      "what's the matter with you?\n",
      "- thank you. - you're welcome.\n",
      "- good night. - good night.\n",
      "come on, come on, come on.\n",
      "what's that supposed to mean?\n",
      "what the fuck are you doing?\n",
      "what the hell is going on?\n",
      "what do you want me to do?\n",
      "let me tell you something.\n",
      "what the fuck are you talking about?\n",
      "what the hell are you talking about?\n",
      "that's what i'm talking about.\n",
      "where do you think you're going?\n",
      "\"at sundown... punjabis have a ball.\"\n",
      "are you fucking kidding me?\n",
      "- thanks. - you're welcome.\n",
      "don't even think about it.\n",
      "what the fuck is wrong with you?\n",
      "what the hell are you doing here?\n",
      "- good morning. - good morning.\n",
      "âª it's time for the percolator âª\n",
      "i want to show you something.\n",
      "(indistinct conversations)\n",
      "what the fuck is going on?\n",
      "preuzeto sa www.titlovi.com\n",
      "come on, come on, come on!\n",
      "thank you. thank you very much.\n",
      "all right, all right, all right.\n",
      "âªâªparanaueãªãª, paranaueãªãª paranaã ã âªâª\n",
      "support us and become vip member  to remove all ads from opensubtitles.org\n",
      "i know what you're thinking.\n",
      "download movie subtitles searcher from www.podnapisi.net\n",
      "- congratulations. - thank you.\n",
      "what? what are you talking about?\n",
      "what do you think you're doing?\n",
      "you don't have to do this.\n",
      "download movie subtitles searcher from www.opensubtitles.org\n",
      "âª à¶à¶´à·à·à¶»à·à·à· à¶à·à¶±à·à·à·à¶¸ à¶",
      "à¶±à·à·à¶» à·à·à¶»à·à·à¶à· âª\n",
      "you've got to be kidding me.\n",
      "what are you thinking about?\n",
      "why are you doing this to me?\n",
      "i don't know what that means.\n",
      "downloaded from www.allsubs.org\n",
      "(speaking foreign language)\n",
      "let me ask you a question.\n"
     ]
    }
   ],
   "source": [
    "# exploring repeating patterns\n",
    "\n",
    "n = 0\n",
    "for k, v in sorted(counter.items(), key=lambda x: -x[1]):\n",
    "    if len(k) > 25:\n",
    "        print(k)\n",
    "        n += 1\n",
    "    if n > 50:\n",
    "        break"
   ]
  },
  {
   "cell_type": "code",
   "execution_count": 60,
   "metadata": {},
   "outputs": [],
   "source": [
    "with open('dataset/subtitles/subtitles.json', 'w') as f:\n",
    "    json.dump(sub_dict, f)"
   ]
  },
  {
   "cell_type": "code",
   "execution_count": 57,
   "metadata": {},
   "outputs": [],
   "source": [
    "# use code below in your notebooks to use subtitles"
   ]
  },
  {
   "cell_type": "code",
   "execution_count": 62,
   "metadata": {},
   "outputs": [],
   "source": [
    "# find json download link in slack"
   ]
  },
  {
   "cell_type": "code",
   "execution_count": 19,
   "metadata": {},
   "outputs": [],
   "source": [
    "with open('dataset/subtitles/subtitles.json', 'r') as f:\n",
    "    sub_dict = json.load(f)\n",
    "sub_dict = defaultdict(str, sub_dict)"
   ]
  },
  {
   "cell_type": "code",
   "execution_count": 63,
   "metadata": {},
   "outputs": [
    {
     "data": {
      "text/html": [
       "<div>\n",
       "<style scoped>\n",
       "    .dataframe tbody tr th:only-of-type {\n",
       "        vertical-align: middle;\n",
       "    }\n",
       "\n",
       "    .dataframe tbody tr th {\n",
       "        vertical-align: top;\n",
       "    }\n",
       "\n",
       "    .dataframe thead th {\n",
       "        text-align: right;\n",
       "    }\n",
       "</style>\n",
       "<table border=\"1\" class=\"dataframe\">\n",
       "  <thead>\n",
       "    <tr style=\"text-align: right;\">\n",
       "      <th></th>\n",
       "      <th>budget</th>\n",
       "      <th>genres</th>\n",
       "      <th>homepage</th>\n",
       "      <th>id</th>\n",
       "      <th>keywords</th>\n",
       "      <th>original_language</th>\n",
       "      <th>original_title</th>\n",
       "      <th>overview</th>\n",
       "      <th>popularity</th>\n",
       "      <th>production_companies</th>\n",
       "      <th>...</th>\n",
       "      <th>release_date</th>\n",
       "      <th>revenue</th>\n",
       "      <th>runtime</th>\n",
       "      <th>spoken_languages</th>\n",
       "      <th>status</th>\n",
       "      <th>tagline</th>\n",
       "      <th>title</th>\n",
       "      <th>vote_average</th>\n",
       "      <th>vote_count</th>\n",
       "      <th>subtitles</th>\n",
       "    </tr>\n",
       "  </thead>\n",
       "  <tbody>\n",
       "    <tr>\n",
       "      <th>0</th>\n",
       "      <td>8000000</td>\n",
       "      <td>[{\"id\": 18, \"name\": \"Drama\"}]</td>\n",
       "      <td>NaN</td>\n",
       "      <td>374461</td>\n",
       "      <td>[{\"id\": 1650, \"name\": \"cook\"}, {\"id\": 6054, \"n...</td>\n",
       "      <td>en</td>\n",
       "      <td>Mr. Church</td>\n",
       "      <td>A unique friendship develops when a little gir...</td>\n",
       "      <td>7.828459</td>\n",
       "      <td>[{\"name\": \"Envision Media Arts\", \"id\": 19456},...</td>\n",
       "      <td>...</td>\n",
       "      <td>2016-09-16</td>\n",
       "      <td>0</td>\n",
       "      <td>104.0</td>\n",
       "      <td>[{\"iso_639_1\": \"en\", \"name\": \"English\"}]</td>\n",
       "      <td>Released</td>\n",
       "      <td>He was the one person she could always count on.</td>\n",
       "      <td>Mr. Church</td>\n",
       "      <td>7.0</td>\n",
       "      <td>129</td>\n",
       "      <td>Henry Joseph Church\\ncould have been...\\n\\nAny...</td>\n",
       "    </tr>\n",
       "    <tr>\n",
       "      <th>1</th>\n",
       "      <td>0</td>\n",
       "      <td>[{\"id\": 12, \"name\": \"Adventure\"}]</td>\n",
       "      <td>http://www.focusfeatures.com/kicks</td>\n",
       "      <td>385736</td>\n",
       "      <td>[{\"id\": 3405, \"name\": \"blow job\"}, {\"id\": 1173...</td>\n",
       "      <td>en</td>\n",
       "      <td>Kicks</td>\n",
       "      <td>When his hard-earned kicks get snatched by a l...</td>\n",
       "      <td>3.467923</td>\n",
       "      <td>[{\"name\": \"Bystorm Films\", \"id\": 2903}, {\"name...</td>\n",
       "      <td>...</td>\n",
       "      <td>2016-09-09</td>\n",
       "      <td>0</td>\n",
       "      <td>80.0</td>\n",
       "      <td>[{\"iso_639_1\": \"en\", \"name\": \"English\"}]</td>\n",
       "      <td>Released</td>\n",
       "      <td>They aren't just shoes</td>\n",
       "      <td>Kicks</td>\n",
       "      <td>7.5</td>\n",
       "      <td>18</td>\n",
       "      <td>Minus 15...\\n\\nT-minus ten, nine,\\neight, seve...</td>\n",
       "    </tr>\n",
       "    <tr>\n",
       "      <th>2</th>\n",
       "      <td>8500000</td>\n",
       "      <td>[{\"id\": 18, \"name\": \"Drama\"}]</td>\n",
       "      <td>http://www.foxsearchlight.com/thebirthofanation/</td>\n",
       "      <td>339408</td>\n",
       "      <td>[{\"id\": 2831, \"name\": \"slavery\"}]</td>\n",
       "      <td>en</td>\n",
       "      <td>The Birth of a Nation</td>\n",
       "      <td>Nat Turner, a former slave in America, leads a...</td>\n",
       "      <td>9.452808</td>\n",
       "      <td>[{\"name\": \"Phantom Four\", \"id\": 423}, {\"name\":...</td>\n",
       "      <td>...</td>\n",
       "      <td>2016-09-09</td>\n",
       "      <td>15861566</td>\n",
       "      <td>120.0</td>\n",
       "      <td>[{\"iso_639_1\": \"en\", \"name\": \"English\"}]</td>\n",
       "      <td>Released</td>\n",
       "      <td>The Untold Story of Nat Turner</td>\n",
       "      <td>The Birth of a Nation</td>\n",
       "      <td>6.5</td>\n",
       "      <td>178</td>\n",
       "      <td>Bring him here.\\n\\nIn the time of our ancestor...</td>\n",
       "    </tr>\n",
       "  </tbody>\n",
       "</table>\n",
       "<p>3 rows × 21 columns</p>\n",
       "</div>"
      ],
      "text/plain": [
       "    budget                             genres  \\\n",
       "0  8000000      [{\"id\": 18, \"name\": \"Drama\"}]   \n",
       "1        0  [{\"id\": 12, \"name\": \"Adventure\"}]   \n",
       "2  8500000      [{\"id\": 18, \"name\": \"Drama\"}]   \n",
       "\n",
       "                                           homepage      id  \\\n",
       "0                                               NaN  374461   \n",
       "1                http://www.focusfeatures.com/kicks  385736   \n",
       "2  http://www.foxsearchlight.com/thebirthofanation/  339408   \n",
       "\n",
       "                                            keywords original_language  \\\n",
       "0  [{\"id\": 1650, \"name\": \"cook\"}, {\"id\": 6054, \"n...                en   \n",
       "1  [{\"id\": 3405, \"name\": \"blow job\"}, {\"id\": 1173...                en   \n",
       "2                  [{\"id\": 2831, \"name\": \"slavery\"}]                en   \n",
       "\n",
       "          original_title                                           overview  \\\n",
       "0             Mr. Church  A unique friendship develops when a little gir...   \n",
       "1                  Kicks  When his hard-earned kicks get snatched by a l...   \n",
       "2  The Birth of a Nation  Nat Turner, a former slave in America, leads a...   \n",
       "\n",
       "   popularity                               production_companies  \\\n",
       "0    7.828459  [{\"name\": \"Envision Media Arts\", \"id\": 19456},...   \n",
       "1    3.467923  [{\"name\": \"Bystorm Films\", \"id\": 2903}, {\"name...   \n",
       "2    9.452808  [{\"name\": \"Phantom Four\", \"id\": 423}, {\"name\":...   \n",
       "\n",
       "                         ...                         release_date   revenue  \\\n",
       "0                        ...                           2016-09-16         0   \n",
       "1                        ...                           2016-09-09         0   \n",
       "2                        ...                           2016-09-09  15861566   \n",
       "\n",
       "   runtime                          spoken_languages    status  \\\n",
       "0    104.0  [{\"iso_639_1\": \"en\", \"name\": \"English\"}]  Released   \n",
       "1     80.0  [{\"iso_639_1\": \"en\", \"name\": \"English\"}]  Released   \n",
       "2    120.0  [{\"iso_639_1\": \"en\", \"name\": \"English\"}]  Released   \n",
       "\n",
       "                                            tagline                  title  \\\n",
       "0  He was the one person she could always count on.             Mr. Church   \n",
       "1                            They aren't just shoes                  Kicks   \n",
       "2                    The Untold Story of Nat Turner  The Birth of a Nation   \n",
       "\n",
       "  vote_average  vote_count                                          subtitles  \n",
       "0          7.0         129  Henry Joseph Church\\ncould have been...\\n\\nAny...  \n",
       "1          7.5          18  Minus 15...\\n\\nT-minus ten, nine,\\neight, seve...  \n",
       "2          6.5         178  Bring him here.\\n\\nIn the time of our ancestor...  \n",
       "\n",
       "[3 rows x 21 columns]"
      ]
     },
     "execution_count": 63,
     "metadata": {},
     "output_type": "execute_result"
    }
   ],
   "source": [
    "# df[\"subtitles\"] = df.title.apply(lambda title: sub_dict[title]) # keep blocks separated\n",
    "df[\"subtitles\"] = df.title.apply(\n",
    "    lambda title: \"\\n\\n\".join(sub_dict[title]))  # single string\n",
    "df.head(3)"
   ]
  }
 ],
 "metadata": {
  "kernelspec": {
   "display_name": "Python 3",
   "language": "python",
   "name": "python3"
  },
  "language_info": {
   "codemirror_mode": {
    "name": "ipython",
    "version": 3
   },
   "file_extension": ".py",
   "mimetype": "text/x-python",
   "name": "python",
   "nbconvert_exporter": "python",
   "pygments_lexer": "ipython3",
   "version": "3.6.7"
  },
  "toc": {
   "base_numbering": 1,
   "nav_menu": {},
   "number_sections": true,
   "sideBar": true,
   "skip_h1_title": false,
   "title_cell": "Table of Contents",
   "title_sidebar": "Contents",
   "toc_cell": false,
   "toc_position": {},
   "toc_section_display": true,
   "toc_window_display": false
  }
 },
 "nbformat": 4,
 "nbformat_minor": 2
}
